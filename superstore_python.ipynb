{
  "cells": [
    {
      "cell_type": "code",
      "source": [
        "!pip install mlxtend"
      ],
      "metadata": {
        "id": "dQx6ETYYbh_c",
        "outputId": "95a3d1d6-c052-40fe-ad8e-ec994720854f",
        "colab": {
          "base_uri": "https://localhost:8080/"
        }
      },
      "execution_count": 53,
      "outputs": [
        {
          "output_type": "stream",
          "name": "stdout",
          "text": [
            "Requirement already satisfied: mlxtend in /usr/local/lib/python3.10/dist-packages (0.22.0)\n",
            "Requirement already satisfied: scipy>=1.2.1 in /usr/local/lib/python3.10/dist-packages (from mlxtend) (1.11.2)\n",
            "Requirement already satisfied: numpy>=1.16.2 in /usr/local/lib/python3.10/dist-packages (from mlxtend) (1.23.5)\n",
            "Requirement already satisfied: pandas>=0.24.2 in /usr/local/lib/python3.10/dist-packages (from mlxtend) (1.5.3)\n",
            "Requirement already satisfied: scikit-learn>=1.0.2 in /usr/local/lib/python3.10/dist-packages (from mlxtend) (1.2.2)\n",
            "Requirement already satisfied: matplotlib>=3.0.0 in /usr/local/lib/python3.10/dist-packages (from mlxtend) (3.7.1)\n",
            "Requirement already satisfied: joblib>=0.13.2 in /usr/local/lib/python3.10/dist-packages (from mlxtend) (1.3.2)\n",
            "Requirement already satisfied: setuptools in /usr/local/lib/python3.10/dist-packages (from mlxtend) (67.7.2)\n",
            "Requirement already satisfied: contourpy>=1.0.1 in /usr/local/lib/python3.10/dist-packages (from matplotlib>=3.0.0->mlxtend) (1.1.0)\n",
            "Requirement already satisfied: cycler>=0.10 in /usr/local/lib/python3.10/dist-packages (from matplotlib>=3.0.0->mlxtend) (0.11.0)\n",
            "Requirement already satisfied: fonttools>=4.22.0 in /usr/local/lib/python3.10/dist-packages (from matplotlib>=3.0.0->mlxtend) (4.42.1)\n",
            "Requirement already satisfied: kiwisolver>=1.0.1 in /usr/local/lib/python3.10/dist-packages (from matplotlib>=3.0.0->mlxtend) (1.4.5)\n",
            "Requirement already satisfied: packaging>=20.0 in /usr/local/lib/python3.10/dist-packages (from matplotlib>=3.0.0->mlxtend) (23.1)\n",
            "Requirement already satisfied: pillow>=6.2.0 in /usr/local/lib/python3.10/dist-packages (from matplotlib>=3.0.0->mlxtend) (9.4.0)\n",
            "Requirement already satisfied: pyparsing>=2.3.1 in /usr/local/lib/python3.10/dist-packages (from matplotlib>=3.0.0->mlxtend) (3.1.1)\n",
            "Requirement already satisfied: python-dateutil>=2.7 in /usr/local/lib/python3.10/dist-packages (from matplotlib>=3.0.0->mlxtend) (2.8.2)\n",
            "Requirement already satisfied: pytz>=2020.1 in /usr/local/lib/python3.10/dist-packages (from pandas>=0.24.2->mlxtend) (2023.3.post1)\n",
            "Requirement already satisfied: threadpoolctl>=2.0.0 in /usr/local/lib/python3.10/dist-packages (from scikit-learn>=1.0.2->mlxtend) (3.2.0)\n",
            "Requirement already satisfied: six>=1.5 in /usr/local/lib/python3.10/dist-packages (from python-dateutil>=2.7->matplotlib>=3.0.0->mlxtend) (1.16.0)\n"
          ]
        }
      ]
    },
    {
      "cell_type": "code",
      "execution_count": 54,
      "metadata": {
        "id": "XEtSwC5iJvw8",
        "outputId": "15e3d40f-146d-4ed2-e12e-6e190d338609",
        "colab": {
          "base_uri": "https://localhost:8080/"
        }
      },
      "outputs": [
        {
          "output_type": "stream",
          "name": "stdout",
          "text": [
            "Requirement already satisfied: chardet in /usr/local/lib/python3.10/dist-packages (5.2.0)\n"
          ]
        }
      ],
      "source": [
        "%pip install chardet"
      ]
    },
    {
      "cell_type": "code",
      "execution_count": 55,
      "metadata": {
        "id": "HdZX8YtRJvw5"
      },
      "outputs": [],
      "source": [
        "import pandas as pd\n",
        "import numpy as np\n",
        "import matplotlib.pyplot as plt\n",
        "import datetime as dt\n",
        "import seaborn as sns\n",
        "from mlxtend.frequent_patterns import apriori, association_rules\n",
        "%matplotlib inline"
      ]
    },
    {
      "cell_type": "markdown",
      "metadata": {
        "id": "zcyi7BnvJvw7"
      },
      "source": [
        "Data from 2011 - 2014"
      ]
    },
    {
      "cell_type": "code",
      "execution_count": 56,
      "metadata": {
        "id": "I14Ak-ioJvw9",
        "outputId": "8b5b2253-c2de-479d-fecc-f4ccbfbcdc89",
        "colab": {
          "base_uri": "https://localhost:8080/"
        }
      },
      "outputs": [
        {
          "output_type": "stream",
          "name": "stderr",
          "text": [
            "/usr/local/lib/python3.10/dist-packages/ipykernel/ipkernel.py:283: DeprecationWarning: `should_run_async` will not call `transform_cell` automatically in the future. Please pass the result to `transformed_cell` argument and any exception that happen during thetransform in `preprocessing_exc_tuple` in IPython 7.17 and above.\n",
            "  and should_run_async(code)\n"
          ]
        },
        {
          "output_type": "stream",
          "name": "stdout",
          "text": [
            "Detected encoding: Windows-1252\n"
          ]
        }
      ],
      "source": [
        "import chardet\n",
        "file_path = 'Superstore.csv'\n",
        "def detect_encoding(file_path):\n",
        "    with open(file_path, 'rb') as f:\n",
        "        raw_data = f.read()\n",
        "        result = chardet.detect(raw_data)\n",
        "    return result['encoding']\n",
        "\n",
        "detected_encoding = detect_encoding(file_path)\n",
        "print(f\"Detected encoding: {detected_encoding}\")\n"
      ]
    },
    {
      "cell_type": "code",
      "execution_count": 57,
      "metadata": {
        "id": "YH8eumDGJvw-",
        "outputId": "8c9914d5-5afa-440b-fef2-45ae65b219c8",
        "colab": {
          "base_uri": "https://localhost:8080/",
          "height": 620
        }
      },
      "outputs": [
        {
          "output_type": "stream",
          "name": "stderr",
          "text": [
            "/usr/local/lib/python3.10/dist-packages/ipykernel/ipkernel.py:283: DeprecationWarning: `should_run_async` will not call `transform_cell` automatically in the future. Please pass the result to `transformed_cell` argument and any exception that happen during thetransform in `preprocessing_exc_tuple` in IPython 7.17 and above.\n",
            "  and should_run_async(code)\n"
          ]
        },
        {
          "output_type": "execute_result",
          "data": {
            "text/plain": [
              "   Row ID        Order ID  Order Date   Ship Date       Ship Mode Customer ID  \\\n",
              "0       1  CA-2013-152156  09-11-2013  12-11-2013    Second Class    CG-12520   \n",
              "1       2  CA-2013-152156  09-11-2013  12-11-2013    Second Class    CG-12520   \n",
              "2       3  CA-2013-138688  13-06-2013  17-06-2013    Second Class    DV-13045   \n",
              "3       4  US-2012-108966  11-10-2012  18-10-2012  Standard Class    SO-20335   \n",
              "4       5  US-2012-108966  11-10-2012  18-10-2012  Standard Class    SO-20335   \n",
              "\n",
              "     Customer Name    Segment        Country             City  ...  \\\n",
              "0      Claire Gute   Consumer  United States        Henderson  ...   \n",
              "1      Claire Gute   Consumer  United States        Henderson  ...   \n",
              "2  Darrin Van Huff  Corporate  United States      Los Angeles  ...   \n",
              "3   Sean O'Donnell   Consumer  United States  Fort Lauderdale  ...   \n",
              "4   Sean O'Donnell   Consumer  United States  Fort Lauderdale  ...   \n",
              "\n",
              "  Postal Code  Region       Product ID         Category Sub-Category  \\\n",
              "0       42420   South  FUR-BO-10001798        Furniture    Bookcases   \n",
              "1       42420   South  FUR-CH-10000454        Furniture       Chairs   \n",
              "2       90036    West  OFF-LA-10000240  Office Supplies       Labels   \n",
              "3       33311   South  FUR-TA-10000577        Furniture       Tables   \n",
              "4       33311   South  OFF-ST-10000760  Office Supplies      Storage   \n",
              "\n",
              "                                        Product Name     Sales  Quantity  \\\n",
              "0                  Bush Somerset Collection Bookcase  261.9600         2   \n",
              "1  Hon Deluxe Fabric Upholstered Stacking Chairs,...  731.9400         3   \n",
              "2  Self-Adhesive Address Labels for Typewriters b...   14.6200         2   \n",
              "3      Bretford CR4500 Series Slim Rectangular Table  957.5775         5   \n",
              "4                     Eldon Fold 'N Roll Cart System   22.3680         2   \n",
              "\n",
              "   Discount    Profit  \n",
              "0      0.00   41.9136  \n",
              "1      0.00  219.5820  \n",
              "2      0.00    6.8714  \n",
              "3      0.45 -383.0310  \n",
              "4      0.20    2.5164  \n",
              "\n",
              "[5 rows x 21 columns]"
            ],
            "text/html": [
              "\n",
              "  <div id=\"df-f7bb89ae-a8d8-426b-b0fe-9bbe6c24134f\" class=\"colab-df-container\">\n",
              "    <div>\n",
              "<style scoped>\n",
              "    .dataframe tbody tr th:only-of-type {\n",
              "        vertical-align: middle;\n",
              "    }\n",
              "\n",
              "    .dataframe tbody tr th {\n",
              "        vertical-align: top;\n",
              "    }\n",
              "\n",
              "    .dataframe thead th {\n",
              "        text-align: right;\n",
              "    }\n",
              "</style>\n",
              "<table border=\"1\" class=\"dataframe\">\n",
              "  <thead>\n",
              "    <tr style=\"text-align: right;\">\n",
              "      <th></th>\n",
              "      <th>Row ID</th>\n",
              "      <th>Order ID</th>\n",
              "      <th>Order Date</th>\n",
              "      <th>Ship Date</th>\n",
              "      <th>Ship Mode</th>\n",
              "      <th>Customer ID</th>\n",
              "      <th>Customer Name</th>\n",
              "      <th>Segment</th>\n",
              "      <th>Country</th>\n",
              "      <th>City</th>\n",
              "      <th>...</th>\n",
              "      <th>Postal Code</th>\n",
              "      <th>Region</th>\n",
              "      <th>Product ID</th>\n",
              "      <th>Category</th>\n",
              "      <th>Sub-Category</th>\n",
              "      <th>Product Name</th>\n",
              "      <th>Sales</th>\n",
              "      <th>Quantity</th>\n",
              "      <th>Discount</th>\n",
              "      <th>Profit</th>\n",
              "    </tr>\n",
              "  </thead>\n",
              "  <tbody>\n",
              "    <tr>\n",
              "      <th>0</th>\n",
              "      <td>1</td>\n",
              "      <td>CA-2013-152156</td>\n",
              "      <td>09-11-2013</td>\n",
              "      <td>12-11-2013</td>\n",
              "      <td>Second Class</td>\n",
              "      <td>CG-12520</td>\n",
              "      <td>Claire Gute</td>\n",
              "      <td>Consumer</td>\n",
              "      <td>United States</td>\n",
              "      <td>Henderson</td>\n",
              "      <td>...</td>\n",
              "      <td>42420</td>\n",
              "      <td>South</td>\n",
              "      <td>FUR-BO-10001798</td>\n",
              "      <td>Furniture</td>\n",
              "      <td>Bookcases</td>\n",
              "      <td>Bush Somerset Collection Bookcase</td>\n",
              "      <td>261.9600</td>\n",
              "      <td>2</td>\n",
              "      <td>0.00</td>\n",
              "      <td>41.9136</td>\n",
              "    </tr>\n",
              "    <tr>\n",
              "      <th>1</th>\n",
              "      <td>2</td>\n",
              "      <td>CA-2013-152156</td>\n",
              "      <td>09-11-2013</td>\n",
              "      <td>12-11-2013</td>\n",
              "      <td>Second Class</td>\n",
              "      <td>CG-12520</td>\n",
              "      <td>Claire Gute</td>\n",
              "      <td>Consumer</td>\n",
              "      <td>United States</td>\n",
              "      <td>Henderson</td>\n",
              "      <td>...</td>\n",
              "      <td>42420</td>\n",
              "      <td>South</td>\n",
              "      <td>FUR-CH-10000454</td>\n",
              "      <td>Furniture</td>\n",
              "      <td>Chairs</td>\n",
              "      <td>Hon Deluxe Fabric Upholstered Stacking Chairs,...</td>\n",
              "      <td>731.9400</td>\n",
              "      <td>3</td>\n",
              "      <td>0.00</td>\n",
              "      <td>219.5820</td>\n",
              "    </tr>\n",
              "    <tr>\n",
              "      <th>2</th>\n",
              "      <td>3</td>\n",
              "      <td>CA-2013-138688</td>\n",
              "      <td>13-06-2013</td>\n",
              "      <td>17-06-2013</td>\n",
              "      <td>Second Class</td>\n",
              "      <td>DV-13045</td>\n",
              "      <td>Darrin Van Huff</td>\n",
              "      <td>Corporate</td>\n",
              "      <td>United States</td>\n",
              "      <td>Los Angeles</td>\n",
              "      <td>...</td>\n",
              "      <td>90036</td>\n",
              "      <td>West</td>\n",
              "      <td>OFF-LA-10000240</td>\n",
              "      <td>Office Supplies</td>\n",
              "      <td>Labels</td>\n",
              "      <td>Self-Adhesive Address Labels for Typewriters b...</td>\n",
              "      <td>14.6200</td>\n",
              "      <td>2</td>\n",
              "      <td>0.00</td>\n",
              "      <td>6.8714</td>\n",
              "    </tr>\n",
              "    <tr>\n",
              "      <th>3</th>\n",
              "      <td>4</td>\n",
              "      <td>US-2012-108966</td>\n",
              "      <td>11-10-2012</td>\n",
              "      <td>18-10-2012</td>\n",
              "      <td>Standard Class</td>\n",
              "      <td>SO-20335</td>\n",
              "      <td>Sean O'Donnell</td>\n",
              "      <td>Consumer</td>\n",
              "      <td>United States</td>\n",
              "      <td>Fort Lauderdale</td>\n",
              "      <td>...</td>\n",
              "      <td>33311</td>\n",
              "      <td>South</td>\n",
              "      <td>FUR-TA-10000577</td>\n",
              "      <td>Furniture</td>\n",
              "      <td>Tables</td>\n",
              "      <td>Bretford CR4500 Series Slim Rectangular Table</td>\n",
              "      <td>957.5775</td>\n",
              "      <td>5</td>\n",
              "      <td>0.45</td>\n",
              "      <td>-383.0310</td>\n",
              "    </tr>\n",
              "    <tr>\n",
              "      <th>4</th>\n",
              "      <td>5</td>\n",
              "      <td>US-2012-108966</td>\n",
              "      <td>11-10-2012</td>\n",
              "      <td>18-10-2012</td>\n",
              "      <td>Standard Class</td>\n",
              "      <td>SO-20335</td>\n",
              "      <td>Sean O'Donnell</td>\n",
              "      <td>Consumer</td>\n",
              "      <td>United States</td>\n",
              "      <td>Fort Lauderdale</td>\n",
              "      <td>...</td>\n",
              "      <td>33311</td>\n",
              "      <td>South</td>\n",
              "      <td>OFF-ST-10000760</td>\n",
              "      <td>Office Supplies</td>\n",
              "      <td>Storage</td>\n",
              "      <td>Eldon Fold 'N Roll Cart System</td>\n",
              "      <td>22.3680</td>\n",
              "      <td>2</td>\n",
              "      <td>0.20</td>\n",
              "      <td>2.5164</td>\n",
              "    </tr>\n",
              "  </tbody>\n",
              "</table>\n",
              "<p>5 rows × 21 columns</p>\n",
              "</div>\n",
              "    <div class=\"colab-df-buttons\">\n",
              "\n",
              "  <div class=\"colab-df-container\">\n",
              "    <button class=\"colab-df-convert\" onclick=\"convertToInteractive('df-f7bb89ae-a8d8-426b-b0fe-9bbe6c24134f')\"\n",
              "            title=\"Convert this dataframe to an interactive table.\"\n",
              "            style=\"display:none;\">\n",
              "\n",
              "  <svg xmlns=\"http://www.w3.org/2000/svg\" height=\"24px\" viewBox=\"0 -960 960 960\">\n",
              "    <path d=\"M120-120v-720h720v720H120Zm60-500h600v-160H180v160Zm220 220h160v-160H400v160Zm0 220h160v-160H400v160ZM180-400h160v-160H180v160Zm440 0h160v-160H620v160ZM180-180h160v-160H180v160Zm440 0h160v-160H620v160Z\"/>\n",
              "  </svg>\n",
              "    </button>\n",
              "\n",
              "  <style>\n",
              "    .colab-df-container {\n",
              "      display:flex;\n",
              "      gap: 12px;\n",
              "    }\n",
              "\n",
              "    .colab-df-convert {\n",
              "      background-color: #E8F0FE;\n",
              "      border: none;\n",
              "      border-radius: 50%;\n",
              "      cursor: pointer;\n",
              "      display: none;\n",
              "      fill: #1967D2;\n",
              "      height: 32px;\n",
              "      padding: 0 0 0 0;\n",
              "      width: 32px;\n",
              "    }\n",
              "\n",
              "    .colab-df-convert:hover {\n",
              "      background-color: #E2EBFA;\n",
              "      box-shadow: 0px 1px 2px rgba(60, 64, 67, 0.3), 0px 1px 3px 1px rgba(60, 64, 67, 0.15);\n",
              "      fill: #174EA6;\n",
              "    }\n",
              "\n",
              "    .colab-df-buttons div {\n",
              "      margin-bottom: 4px;\n",
              "    }\n",
              "\n",
              "    [theme=dark] .colab-df-convert {\n",
              "      background-color: #3B4455;\n",
              "      fill: #D2E3FC;\n",
              "    }\n",
              "\n",
              "    [theme=dark] .colab-df-convert:hover {\n",
              "      background-color: #434B5C;\n",
              "      box-shadow: 0px 1px 3px 1px rgba(0, 0, 0, 0.15);\n",
              "      filter: drop-shadow(0px 1px 2px rgba(0, 0, 0, 0.3));\n",
              "      fill: #FFFFFF;\n",
              "    }\n",
              "  </style>\n",
              "\n",
              "    <script>\n",
              "      const buttonEl =\n",
              "        document.querySelector('#df-f7bb89ae-a8d8-426b-b0fe-9bbe6c24134f button.colab-df-convert');\n",
              "      buttonEl.style.display =\n",
              "        google.colab.kernel.accessAllowed ? 'block' : 'none';\n",
              "\n",
              "      async function convertToInteractive(key) {\n",
              "        const element = document.querySelector('#df-f7bb89ae-a8d8-426b-b0fe-9bbe6c24134f');\n",
              "        const dataTable =\n",
              "          await google.colab.kernel.invokeFunction('convertToInteractive',\n",
              "                                                    [key], {});\n",
              "        if (!dataTable) return;\n",
              "\n",
              "        const docLinkHtml = 'Like what you see? Visit the ' +\n",
              "          '<a target=\"_blank\" href=https://colab.research.google.com/notebooks/data_table.ipynb>data table notebook</a>'\n",
              "          + ' to learn more about interactive tables.';\n",
              "        element.innerHTML = '';\n",
              "        dataTable['output_type'] = 'display_data';\n",
              "        await google.colab.output.renderOutput(dataTable, element);\n",
              "        const docLink = document.createElement('div');\n",
              "        docLink.innerHTML = docLinkHtml;\n",
              "        element.appendChild(docLink);\n",
              "      }\n",
              "    </script>\n",
              "  </div>\n",
              "\n",
              "\n",
              "<div id=\"df-0817c261-2c60-48e4-8db6-feef4a37814c\">\n",
              "  <button class=\"colab-df-quickchart\" onclick=\"quickchart('df-0817c261-2c60-48e4-8db6-feef4a37814c')\"\n",
              "            title=\"Suggest charts.\"\n",
              "            style=\"display:none;\">\n",
              "\n",
              "<svg xmlns=\"http://www.w3.org/2000/svg\" height=\"24px\"viewBox=\"0 0 24 24\"\n",
              "     width=\"24px\">\n",
              "    <g>\n",
              "        <path d=\"M19 3H5c-1.1 0-2 .9-2 2v14c0 1.1.9 2 2 2h14c1.1 0 2-.9 2-2V5c0-1.1-.9-2-2-2zM9 17H7v-7h2v7zm4 0h-2V7h2v10zm4 0h-2v-4h2v4z\"/>\n",
              "    </g>\n",
              "</svg>\n",
              "  </button>\n",
              "\n",
              "<style>\n",
              "  .colab-df-quickchart {\n",
              "      --bg-color: #E8F0FE;\n",
              "      --fill-color: #1967D2;\n",
              "      --hover-bg-color: #E2EBFA;\n",
              "      --hover-fill-color: #174EA6;\n",
              "      --disabled-fill-color: #AAA;\n",
              "      --disabled-bg-color: #DDD;\n",
              "  }\n",
              "\n",
              "  [theme=dark] .colab-df-quickchart {\n",
              "      --bg-color: #3B4455;\n",
              "      --fill-color: #D2E3FC;\n",
              "      --hover-bg-color: #434B5C;\n",
              "      --hover-fill-color: #FFFFFF;\n",
              "      --disabled-bg-color: #3B4455;\n",
              "      --disabled-fill-color: #666;\n",
              "  }\n",
              "\n",
              "  .colab-df-quickchart {\n",
              "    background-color: var(--bg-color);\n",
              "    border: none;\n",
              "    border-radius: 50%;\n",
              "    cursor: pointer;\n",
              "    display: none;\n",
              "    fill: var(--fill-color);\n",
              "    height: 32px;\n",
              "    padding: 0;\n",
              "    width: 32px;\n",
              "  }\n",
              "\n",
              "  .colab-df-quickchart:hover {\n",
              "    background-color: var(--hover-bg-color);\n",
              "    box-shadow: 0 1px 2px rgba(60, 64, 67, 0.3), 0 1px 3px 1px rgba(60, 64, 67, 0.15);\n",
              "    fill: var(--button-hover-fill-color);\n",
              "  }\n",
              "\n",
              "  .colab-df-quickchart-complete:disabled,\n",
              "  .colab-df-quickchart-complete:disabled:hover {\n",
              "    background-color: var(--disabled-bg-color);\n",
              "    fill: var(--disabled-fill-color);\n",
              "    box-shadow: none;\n",
              "  }\n",
              "\n",
              "  .colab-df-spinner {\n",
              "    border: 2px solid var(--fill-color);\n",
              "    border-color: transparent;\n",
              "    border-bottom-color: var(--fill-color);\n",
              "    animation:\n",
              "      spin 1s steps(1) infinite;\n",
              "  }\n",
              "\n",
              "  @keyframes spin {\n",
              "    0% {\n",
              "      border-color: transparent;\n",
              "      border-bottom-color: var(--fill-color);\n",
              "      border-left-color: var(--fill-color);\n",
              "    }\n",
              "    20% {\n",
              "      border-color: transparent;\n",
              "      border-left-color: var(--fill-color);\n",
              "      border-top-color: var(--fill-color);\n",
              "    }\n",
              "    30% {\n",
              "      border-color: transparent;\n",
              "      border-left-color: var(--fill-color);\n",
              "      border-top-color: var(--fill-color);\n",
              "      border-right-color: var(--fill-color);\n",
              "    }\n",
              "    40% {\n",
              "      border-color: transparent;\n",
              "      border-right-color: var(--fill-color);\n",
              "      border-top-color: var(--fill-color);\n",
              "    }\n",
              "    60% {\n",
              "      border-color: transparent;\n",
              "      border-right-color: var(--fill-color);\n",
              "    }\n",
              "    80% {\n",
              "      border-color: transparent;\n",
              "      border-right-color: var(--fill-color);\n",
              "      border-bottom-color: var(--fill-color);\n",
              "    }\n",
              "    90% {\n",
              "      border-color: transparent;\n",
              "      border-bottom-color: var(--fill-color);\n",
              "    }\n",
              "  }\n",
              "</style>\n",
              "\n",
              "  <script>\n",
              "    async function quickchart(key) {\n",
              "      const quickchartButtonEl =\n",
              "        document.querySelector('#' + key + ' button');\n",
              "      quickchartButtonEl.disabled = true;  // To prevent multiple clicks.\n",
              "      quickchartButtonEl.classList.add('colab-df-spinner');\n",
              "      try {\n",
              "        const charts = await google.colab.kernel.invokeFunction(\n",
              "            'suggestCharts', [key], {});\n",
              "      } catch (error) {\n",
              "        console.error('Error during call to suggestCharts:', error);\n",
              "      }\n",
              "      quickchartButtonEl.classList.remove('colab-df-spinner');\n",
              "      quickchartButtonEl.classList.add('colab-df-quickchart-complete');\n",
              "    }\n",
              "    (() => {\n",
              "      let quickchartButtonEl =\n",
              "        document.querySelector('#df-0817c261-2c60-48e4-8db6-feef4a37814c button');\n",
              "      quickchartButtonEl.style.display =\n",
              "        google.colab.kernel.accessAllowed ? 'block' : 'none';\n",
              "    })();\n",
              "  </script>\n",
              "</div>\n",
              "    </div>\n",
              "  </div>\n"
            ]
          },
          "metadata": {},
          "execution_count": 57
        }
      ],
      "source": [
        "ss = pd.read_csv('Superstore.csv', encoding=detected_encoding)\n",
        "ss.head()"
      ]
    },
    {
      "cell_type": "code",
      "execution_count": 58,
      "metadata": {
        "id": "hO0V7GwAJvw-",
        "outputId": "c4275477-b00e-4916-d640-7fe04d8f3a17",
        "colab": {
          "base_uri": "https://localhost:8080/"
        }
      },
      "outputs": [
        {
          "output_type": "stream",
          "name": "stdout",
          "text": [
            "<class 'pandas.core.frame.DataFrame'>\n",
            "RangeIndex: 9994 entries, 0 to 9993\n",
            "Data columns (total 21 columns):\n",
            " #   Column         Non-Null Count  Dtype  \n",
            "---  ------         --------------  -----  \n",
            " 0   Row ID         9994 non-null   int64  \n",
            " 1   Order ID       9994 non-null   object \n",
            " 2   Order Date     9994 non-null   object \n",
            " 3   Ship Date      9994 non-null   object \n",
            " 4   Ship Mode      9994 non-null   object \n",
            " 5   Customer ID    9994 non-null   object \n",
            " 6   Customer Name  9994 non-null   object \n",
            " 7   Segment        9994 non-null   object \n",
            " 8   Country        9994 non-null   object \n",
            " 9   City           9994 non-null   object \n",
            " 10  State          9994 non-null   object \n",
            " 11  Postal Code    9994 non-null   int64  \n",
            " 12  Region         9994 non-null   object \n",
            " 13  Product ID     9994 non-null   object \n",
            " 14  Category       9994 non-null   object \n",
            " 15  Sub-Category   9994 non-null   object \n",
            " 16  Product Name   9994 non-null   object \n",
            " 17  Sales          9994 non-null   float64\n",
            " 18  Quantity       9994 non-null   int64  \n",
            " 19  Discount       9994 non-null   float64\n",
            " 20  Profit         9994 non-null   float64\n",
            "dtypes: float64(3), int64(3), object(15)\n",
            "memory usage: 1.6+ MB\n"
          ]
        },
        {
          "output_type": "stream",
          "name": "stderr",
          "text": [
            "/usr/local/lib/python3.10/dist-packages/ipykernel/ipkernel.py:283: DeprecationWarning: `should_run_async` will not call `transform_cell` automatically in the future. Please pass the result to `transformed_cell` argument and any exception that happen during thetransform in `preprocessing_exc_tuple` in IPython 7.17 and above.\n",
            "  and should_run_async(code)\n"
          ]
        }
      ],
      "source": [
        "ss.info()"
      ]
    },
    {
      "cell_type": "code",
      "source": [
        "ss['Order Date'] = pd.to_datetime(ss['Order Date'])\n",
        "ss['Ship Date'] = pd.to_datetime(ss['Ship Date'])\n",
        "ss['Order Month'] = ss['Order Date'].dt.month\n",
        "ss['Order Year'] = ss['Order Date'].dt.year\n",
        "ss['Order Year'].unique()"
      ],
      "metadata": {
        "id": "Dn32o-uZZ8K6",
        "outputId": "cf6ebd65-76c8-449e-929d-8c0dd7bf4c1c",
        "colab": {
          "base_uri": "https://localhost:8080/"
        }
      },
      "execution_count": 90,
      "outputs": [
        {
          "output_type": "stream",
          "name": "stderr",
          "text": [
            "/usr/local/lib/python3.10/dist-packages/ipykernel/ipkernel.py:283: DeprecationWarning: `should_run_async` will not call `transform_cell` automatically in the future. Please pass the result to `transformed_cell` argument and any exception that happen during thetransform in `preprocessing_exc_tuple` in IPython 7.17 and above.\n",
            "  and should_run_async(code)\n"
          ]
        },
        {
          "output_type": "execute_result",
          "data": {
            "text/plain": [
              "array([2013, 2012, 2011, 2014])"
            ]
          },
          "metadata": {},
          "execution_count": 90
        }
      ]
    },
    {
      "cell_type": "markdown",
      "metadata": {
        "id": "Z7S_00THJvw-"
      },
      "source": [
        "# Pricing strategy"
      ]
    },
    {
      "cell_type": "markdown",
      "source": [
        "## Sale over year"
      ],
      "metadata": {
        "id": "BqJG8ogkbp_I"
      }
    },
    {
      "cell_type": "code",
      "source": [
        "grouped_data = ss.groupby(['Order Year'])['Sales'].sum()\n",
        "plt.plot(grouped_data.index, grouped_data.values)\n",
        "plt.xticks(grouped_data.index)\n",
        "plt.xlabel('Year')\n",
        "plt.ylabel('Sales in US dollars')\n",
        "plt.title('Sales Over Year')\n",
        "plt.show()"
      ],
      "metadata": {
        "id": "m9fbp3-4bo8b",
        "outputId": "d56d91dc-4e8c-4301-cf0c-4594c445c0c9",
        "colab": {
          "base_uri": "https://localhost:8080/",
          "height": 527
        }
      },
      "execution_count": 100,
      "outputs": [
        {
          "output_type": "stream",
          "name": "stderr",
          "text": [
            "/usr/local/lib/python3.10/dist-packages/ipykernel/ipkernel.py:283: DeprecationWarning: `should_run_async` will not call `transform_cell` automatically in the future. Please pass the result to `transformed_cell` argument and any exception that happen during thetransform in `preprocessing_exc_tuple` in IPython 7.17 and above.\n",
            "  and should_run_async(code)\n"
          ]
        },
        {
          "output_type": "display_data",
          "data": {
            "text/plain": [
              "<Figure size 640x480 with 1 Axes>"
            ],
            "image/png": "[encoded data removed]"
          },
          "metadata": {}
        }
      ]
    },
    {
      "cell_type": "markdown",
      "source": [
        "In year 2012 has lowest sales among all year but they were going better in 2013 and 2014."
      ],
      "metadata": {
        "id": "m6jYsbkEgkrM"
      }
    },
    {
      "cell_type": "markdown",
      "source": [
        "## Profit over year"
      ],
      "metadata": {
        "id": "Y32HGtFFgdOf"
      }
    },
    {
      "cell_type": "code",
      "source": [
        "grouped_data = ss.groupby(['Order Year'])['Profit'].sum()\n",
        "plt.plot(grouped_data.index, grouped_data.values)\n",
        "plt.xticks(grouped_data.index)\n",
        "plt.xlabel('Year')\n",
        "plt.ylabel('Profit in US dollars')\n",
        "plt.title('Profit Over Year')\n",
        "plt.show()"
      ],
      "metadata": {
        "id": "8r3r3Lo3gUeE",
        "outputId": "fcdae5d2-fe8d-49af-d805-1c78bc0219ec",
        "colab": {
          "base_uri": "https://localhost:8080/",
          "height": 527
        }
      },
      "execution_count": 102,
      "outputs": [
        {
          "output_type": "stream",
          "name": "stderr",
          "text": [
            "/usr/local/lib/python3.10/dist-packages/ipykernel/ipkernel.py:283: DeprecationWarning: `should_run_async` will not call `transform_cell` automatically in the future. Please pass the result to `transformed_cell` argument and any exception that happen during thetransform in `preprocessing_exc_tuple` in IPython 7.17 and above.\n",
            "  and should_run_async(code)\n"
          ]
        },
        {
          "output_type": "display_data",
          "data": {
            "text/plain": [
              "<Figure size 640x480 with 1 Axes>"
            ],
            "image/png": "[encoded data removed]"
          },
          "metadata": {}
        }
      ]
    },
    {
      "cell_type": "markdown",
      "source": [
        "However, our business had more net profit in every year. Lets look by category"
      ],
      "metadata": {
        "id": "vwrFgfgOmx8S"
      }
    },
    {
      "cell_type": "markdown",
      "source": [
        "## Sale and Profit over year by Category"
      ],
      "metadata": {
        "id": "zAFVZvF9gyt4"
      }
    },
    {
      "cell_type": "code",
      "source": [
        "grouped_data = ss.groupby(['Order Year','Category'])['Sales'].sum().unstack()\n",
        "grouped_data.plot.area()\n",
        "plt.xticks(grouped_data.index)\n",
        "plt.xlabel('Year')\n",
        "plt.ylabel('Sales in US dollars')\n",
        "plt.title('Sales Over Year by Category')\n",
        "# Show the plot\n",
        "plt.show()"
      ],
      "metadata": {
        "id": "BVeOFTtkjO6k",
        "outputId": "d7bdaed6-6cd8-4480-9b7e-3fb8aa98d612",
        "colab": {
          "base_uri": "https://localhost:8080/",
          "height": 527
        }
      },
      "execution_count": 106,
      "outputs": [
        {
          "output_type": "stream",
          "name": "stderr",
          "text": [
            "/usr/local/lib/python3.10/dist-packages/ipykernel/ipkernel.py:283: DeprecationWarning: `should_run_async` will not call `transform_cell` automatically in the future. Please pass the result to `transformed_cell` argument and any exception that happen during thetransform in `preprocessing_exc_tuple` in IPython 7.17 and above.\n",
            "  and should_run_async(code)\n"
          ]
        },
        {
          "output_type": "display_data",
          "data": {
            "text/plain": [
              "<Figure size 640x480 with 1 Axes>"
            ],
            "image/png": "[encoded data removed]"
          },
          "metadata": {}
        }
      ]
    },
    {
      "cell_type": "code",
      "source": [
        "grouped_data = ss.groupby(['Order Year','Category'])['Profit'].sum().unstack()\n",
        "grouped_data.plot.area()\n",
        "plt.xticks(grouped_data.index)\n",
        "plt.xlabel('Year')\n",
        "plt.ylabel('Profit in US dollars')\n",
        "plt.title('Profit Over Year by Category')\n",
        "# Show the plot\n",
        "plt.show()"
      ],
      "metadata": {
        "id": "WTYiu8wumZ8N",
        "outputId": "2cb6eed2-4f31-4888-a0c1-09eb7a016176",
        "colab": {
          "base_uri": "https://localhost:8080/",
          "height": 527
        }
      },
      "execution_count": 107,
      "outputs": [
        {
          "output_type": "stream",
          "name": "stderr",
          "text": [
            "/usr/local/lib/python3.10/dist-packages/ipykernel/ipkernel.py:283: DeprecationWarning: `should_run_async` will not call `transform_cell` automatically in the future. Please pass the result to `transformed_cell` argument and any exception that happen during thetransform in `preprocessing_exc_tuple` in IPython 7.17 and above.\n",
            "  and should_run_async(code)\n"
          ]
        },
        {
          "output_type": "display_data",
          "data": {
            "text/plain": [
              "<Figure size 640x480 with 1 Axes>"
            ],
            "image/png": "[encoded data removed]"
          },
          "metadata": {}
        }
      ]
    },
    {
      "cell_type": "markdown",
      "source": [
        "From this graph, we suggest to downsize the furniture category because it has the lowest profit and sales over all other category."
      ],
      "metadata": {
        "id": "dySq255YnZYI"
      }
    },
    {
      "cell_type": "markdown",
      "metadata": {
        "id": "v2IMQIjEJvw-"
      },
      "source": [
        "## Sales by category"
      ]
    },
    {
      "cell_type": "code",
      "execution_count": 61,
      "metadata": {
        "id": "xSXynfElJvw_",
        "outputId": "81cd3c57-f900-43b9-932e-a7280d950652",
        "colab": {
          "base_uri": "https://localhost:8080/"
        }
      },
      "outputs": [
        {
          "output_type": "stream",
          "name": "stderr",
          "text": [
            "/usr/local/lib/python3.10/dist-packages/ipykernel/ipkernel.py:283: DeprecationWarning: `should_run_async` will not call `transform_cell` automatically in the future. Please pass the result to `transformed_cell` argument and any exception that happen during thetransform in `preprocessing_exc_tuple` in IPython 7.17 and above.\n",
            "  and should_run_async(code)\n"
          ]
        },
        {
          "output_type": "execute_result",
          "data": {
            "text/plain": [
              "Category\n",
              "Technology         836154.0330\n",
              "Furniture          741999.7953\n",
              "Office Supplies    719047.0320\n",
              "Name: Sales, dtype: float64"
            ]
          },
          "metadata": {},
          "execution_count": 61
        }
      ],
      "source": [
        "ss.groupby('Category')['Sales'].sum().sort_values(ascending=False)"
      ]
    },
    {
      "cell_type": "markdown",
      "metadata": {
        "id": "VmKQCQXdJvw_"
      },
      "source": [
        "Technology has the most sales among all categories."
      ]
    },
    {
      "cell_type": "code",
      "execution_count": 62,
      "metadata": {
        "id": "4PMHU6BaJvw_",
        "outputId": "5dc08755-bf89-4484-8faf-798fcc9a7af3",
        "colab": {
          "base_uri": "https://localhost:8080/"
        }
      },
      "outputs": [
        {
          "output_type": "stream",
          "name": "stderr",
          "text": [
            "/usr/local/lib/python3.10/dist-packages/ipykernel/ipkernel.py:283: DeprecationWarning: `should_run_async` will not call `transform_cell` automatically in the future. Please pass the result to `transformed_cell` argument and any exception that happen during thetransform in `preprocessing_exc_tuple` in IPython 7.17 and above.\n",
            "  and should_run_async(code)\n"
          ]
        },
        {
          "output_type": "execute_result",
          "data": {
            "text/plain": [
              "Sub-Category\n",
              "Phones         330007.054\n",
              "Machines       189238.631\n",
              "Accessories    167380.318\n",
              "Copiers        149528.030\n",
              "Name: Sales, dtype: float64"
            ]
          },
          "metadata": {},
          "execution_count": 62
        }
      ],
      "source": [
        "ss[ss['Category'] == 'Technology'].groupby('Sub-Category')['Sales'].sum().sort_values(ascending=False)"
      ]
    },
    {
      "cell_type": "markdown",
      "metadata": {
        "id": "NBIo__5pJvw_"
      },
      "source": [
        "Phones has the most sales in technology category."
      ]
    },
    {
      "cell_type": "code",
      "execution_count": 63,
      "metadata": {
        "id": "WBkzpDMCJvxA",
        "outputId": "2a943c38-aea2-474b-a079-bd915a15afd9",
        "colab": {
          "base_uri": "https://localhost:8080/"
        }
      },
      "outputs": [
        {
          "output_type": "stream",
          "name": "stderr",
          "text": [
            "/usr/local/lib/python3.10/dist-packages/ipykernel/ipkernel.py:283: DeprecationWarning: `should_run_async` will not call `transform_cell` automatically in the future. Please pass the result to `transformed_cell` argument and any exception that happen during thetransform in `preprocessing_exc_tuple` in IPython 7.17 and above.\n",
            "  and should_run_async(code)\n"
          ]
        },
        {
          "output_type": "execute_result",
          "data": {
            "text/plain": [
              "Product Name\n",
              "Samsung Galaxy Mega 6.3                                                13943.668\n",
              "Apple iPhone 5                                                         12996.600\n",
              "Wilson Electronics DB Pro Signal Booster                                8878.400\n",
              "Mitel MiVoice 5330e IP Phone                                            7699.720\n",
              "Samsung Galaxy S III - 16GB - pebble blue (T-Mobile)                    7139.796\n",
              "                                                                         ...    \n",
              "Shocksock Galaxy S4 Armband                                               63.510\n",
              "Anker 24W Portable Micro USB Car Charger                                  61.544\n",
              "SKILCRAFT Telephone Shoulder Rest, 2\" x 6.5\" x 2.5\", Black                56.164\n",
              "Sannysis Cute Owl Design Soft Skin Case Cover for Samsung Galaxy S4       13.860\n",
              "PNY Rapid USB Car Charger - Black                                          9.588\n",
              "Name: Sales, Length: 189, dtype: float64"
            ]
          },
          "metadata": {},
          "execution_count": 63
        }
      ],
      "source": [
        "ss[ss['Sub-Category'] == 'Phones'].groupby('Product Name')['Sales'].sum().sort_values(ascending=False)"
      ]
    },
    {
      "cell_type": "markdown",
      "metadata": {
        "id": "e14w_ICpJvxA"
      },
      "source": [
        "Samsung Galaxy Mega 6.3 and Apple iphone 5 have the most sales in phone sub-category."
      ]
    },
    {
      "cell_type": "markdown",
      "metadata": {
        "id": "FBKYP5G5JvxA"
      },
      "source": [
        "## Profit by category"
      ]
    },
    {
      "cell_type": "code",
      "execution_count": 64,
      "metadata": {
        "id": "eVufz4C5JvxA",
        "outputId": "e2ffe57c-d1cc-4c6e-a14b-ebfbacc9012d",
        "colab": {
          "base_uri": "https://localhost:8080/"
        }
      },
      "outputs": [
        {
          "output_type": "stream",
          "name": "stderr",
          "text": [
            "/usr/local/lib/python3.10/dist-packages/ipykernel/ipkernel.py:283: DeprecationWarning: `should_run_async` will not call `transform_cell` automatically in the future. Please pass the result to `transformed_cell` argument and any exception that happen during thetransform in `preprocessing_exc_tuple` in IPython 7.17 and above.\n",
            "  and should_run_async(code)\n"
          ]
        },
        {
          "output_type": "execute_result",
          "data": {
            "text/plain": [
              "Category\n",
              "Technology         145454.9481\n",
              "Office Supplies    122490.8008\n",
              "Furniture           18451.2728\n",
              "Name: Profit, dtype: float64"
            ]
          },
          "metadata": {},
          "execution_count": 64
        }
      ],
      "source": [
        "ss.groupby('Category')['Profit'].sum().sort_values(ascending=False)"
      ]
    },
    {
      "cell_type": "code",
      "execution_count": 65,
      "metadata": {
        "id": "W7hNdEDVJvxA",
        "outputId": "51bf6699-13f0-4117-8fec-f97453e28fa2",
        "colab": {
          "base_uri": "https://localhost:8080/"
        }
      },
      "outputs": [
        {
          "output_type": "stream",
          "name": "stderr",
          "text": [
            "/usr/local/lib/python3.10/dist-packages/ipykernel/ipkernel.py:283: DeprecationWarning: `should_run_async` will not call `transform_cell` automatically in the future. Please pass the result to `transformed_cell` argument and any exception that happen during thetransform in `preprocessing_exc_tuple` in IPython 7.17 and above.\n",
            "  and should_run_async(code)\n"
          ]
        },
        {
          "output_type": "execute_result",
          "data": {
            "text/plain": [
              "2.6006653372152955"
            ]
          },
          "metadata": {},
          "execution_count": 65
        }
      ],
      "source": [
        "ss[ss['Category'] == 'Technology']['Profit'].std()/ss[ss['Category'] == 'Office Supplies']['Profit'].std()"
      ]
    },
    {
      "cell_type": "code",
      "execution_count": 66,
      "metadata": {
        "id": "2UnA3V6dJvxB",
        "outputId": "d32b118a-2fbf-4028-a0a3-b975b40255e6",
        "colab": {
          "base_uri": "https://localhost:8080/"
        }
      },
      "outputs": [
        {
          "output_type": "stream",
          "name": "stdout",
          "text": [
            "t-statistic: 8.687539082544111\n",
            "p-value: 4.4542772738946324e-18\n",
            "The means are significantly different.\n"
          ]
        },
        {
          "output_type": "stream",
          "name": "stderr",
          "text": [
            "/usr/local/lib/python3.10/dist-packages/ipykernel/ipkernel.py:283: DeprecationWarning: `should_run_async` will not call `transform_cell` automatically in the future. Please pass the result to `transformed_cell` argument and any exception that happen during thetransform in `preprocessing_exc_tuple` in IPython 7.17 and above.\n",
            "  and should_run_async(code)\n"
          ]
        }
      ],
      "source": [
        "import scipy.stats as stats\n",
        "data1 = ss[ss['Category'] == 'Technology']['Profit']\n",
        "data2 = ss[ss['Category'] == 'Office Supplies']['Profit']\n",
        "t_statistic, p_value = stats.ttest_ind(data1, data2)\n",
        "\n",
        "# Print the results\n",
        "print(f\"t-statistic: {t_statistic}\")\n",
        "print(f\"p-value: {p_value}\")\n",
        "\n",
        "# Check if the p-value is significant (using a common significance level of 0.05)\n",
        "if p_value < 0.05:\n",
        "    print(\"The means are significantly different.\")\n",
        "else:\n",
        "    print(\"The means are not significantly different.\")"
      ]
    },
    {
      "cell_type": "code",
      "execution_count": 67,
      "metadata": {
        "id": "r-RAPCjtJvxB",
        "outputId": "5fa4cfcc-3a97-463a-f125-e1a2a5b06830",
        "colab": {
          "base_uri": "https://localhost:8080/"
        }
      },
      "outputs": [
        {
          "output_type": "stream",
          "name": "stdout",
          "text": [
            "tech avg : 78.75200221981592\n",
            "office supplies avg : 20.3270495851311\n"
          ]
        },
        {
          "output_type": "stream",
          "name": "stderr",
          "text": [
            "/usr/local/lib/python3.10/dist-packages/ipykernel/ipkernel.py:283: DeprecationWarning: `should_run_async` will not call `transform_cell` automatically in the future. Please pass the result to `transformed_cell` argument and any exception that happen during thetransform in `preprocessing_exc_tuple` in IPython 7.17 and above.\n",
            "  and should_run_async(code)\n"
          ]
        }
      ],
      "source": [
        "print('tech avg : {}'.format(data1.mean()))\n",
        "print('office supplies avg : {}'.format(data2.mean()))"
      ]
    },
    {
      "cell_type": "markdown",
      "metadata": {
        "id": "qyLj8vU5JvxB"
      },
      "source": [
        "Technology make the most profit among all categories."
      ]
    },
    {
      "cell_type": "code",
      "execution_count": 68,
      "metadata": {
        "id": "DXbJeCRBJvxB",
        "outputId": "3df0abc5-b2d4-4d8f-b73f-3d78cf5acd25",
        "colab": {
          "base_uri": "https://localhost:8080/"
        }
      },
      "outputs": [
        {
          "output_type": "stream",
          "name": "stderr",
          "text": [
            "/usr/local/lib/python3.10/dist-packages/ipykernel/ipkernel.py:283: DeprecationWarning: `should_run_async` will not call `transform_cell` automatically in the future. Please pass the result to `transformed_cell` argument and any exception that happen during thetransform in `preprocessing_exc_tuple` in IPython 7.17 and above.\n",
            "  and should_run_async(code)\n"
          ]
        },
        {
          "output_type": "execute_result",
          "data": {
            "text/plain": [
              "Sub-Category\n",
              "Phones         330007.054\n",
              "Machines       189238.631\n",
              "Accessories    167380.318\n",
              "Copiers        149528.030\n",
              "Name: Sales, dtype: float64"
            ]
          },
          "metadata": {},
          "execution_count": 68
        }
      ],
      "source": [
        "ss[ss['Category'] == 'Technology'].groupby('Sub-Category')['Sales'].sum().sort_values(ascending=False)"
      ]
    },
    {
      "cell_type": "code",
      "execution_count": 69,
      "metadata": {
        "id": "Z5S9t-_FJvxB",
        "outputId": "a85f2d1e-1b7a-414a-a800-f263adb6163d",
        "colab": {
          "base_uri": "https://localhost:8080/"
        }
      },
      "outputs": [
        {
          "output_type": "stream",
          "name": "stderr",
          "text": [
            "/usr/local/lib/python3.10/dist-packages/ipykernel/ipkernel.py:283: DeprecationWarning: `should_run_async` will not call `transform_cell` automatically in the future. Please pass the result to `transformed_cell` argument and any exception that happen during thetransform in `preprocessing_exc_tuple` in IPython 7.17 and above.\n",
            "  and should_run_async(code)\n"
          ]
        },
        {
          "output_type": "execute_result",
          "data": {
            "text/plain": [
              "Product Name\n",
              "Samsung Galaxy Mega 6.3                                                                                 1822.7566\n",
              "Apple iPhone 5                                                                                          1611.5784\n",
              "Panasonic KX-TG9471B                                                                                    1168.1004\n",
              "Panasonic KX-TG9541B DECT 6.0 Digital 2-Line Expandable Cordless Phone With Digital Answering System    1147.4235\n",
              "Samsung Galaxy S4 Mini                                                                                  1104.4765\n",
              "                                                                                                          ...    \n",
              "Cisco IP Phone 7961G-GE VoIP phone                                                                      -119.1190\n",
              "Samsung Galaxy Note 2                                                                                   -128.7972\n",
              "LG Exalt                                                                                                -212.1464\n",
              "Jawbone MINI JAMBOX Wireless Bluetooth Speaker                                                          -339.7104\n",
              "LG G2                                                                                                   -374.9925\n",
              "Name: Profit, Length: 189, dtype: float64"
            ]
          },
          "metadata": {},
          "execution_count": 69
        }
      ],
      "source": [
        "ss[ss['Sub-Category'] == 'Phones'].groupby('Product Name')['Profit'].sum().sort_values(ascending=False)"
      ]
    },
    {
      "cell_type": "markdown",
      "metadata": {
        "id": "g8TM3zcgJvxB"
      },
      "source": [
        "If we have a pricing strategy, we should focus on upselling in the phone-technology category, particularly for the Samsung Galaxy Mega 6.3 and the Apple iPhone 5"
      ]
    },
    {
      "cell_type": "code",
      "execution_count": 70,
      "metadata": {
        "id": "klnflywcJvxB",
        "outputId": "08357262-7cce-4924-d3c2-4a3767117144",
        "colab": {
          "base_uri": "https://localhost:8080/"
        }
      },
      "outputs": [
        {
          "output_type": "stream",
          "name": "stderr",
          "text": [
            "/usr/local/lib/python3.10/dist-packages/ipykernel/ipkernel.py:283: DeprecationWarning: `should_run_async` will not call `transform_cell` automatically in the future. Please pass the result to `transformed_cell` argument and any exception that happen during thetransform in `preprocessing_exc_tuple` in IPython 7.17 and above.\n",
            "  and should_run_async(code)\n"
          ]
        },
        {
          "output_type": "execute_result",
          "data": {
            "text/plain": [
              "Product Name\n",
              "Staples                                                                      4.531843\n",
              "Avery Non-Stick Binders                                                      0.399281\n",
              "KI Adjustable-Height Table                                                   0.359353\n",
              "Storex Dura Pro Binders                                                      0.339389\n",
              "Logitech 910-002974 M325 Wireless Mouse for Web Scrolling                    0.299461\n",
              "                                                                               ...   \n",
              "Konica Minolta magicolor 1690MF Multifunction Printer                        0.019964\n",
              "Xerox 1984                                                                   0.019964\n",
              "Cisco Desktop Collaboration Experience DX650 IP Video Phone                  0.019964\n",
              "Belkin 8 Outlet SurgeMaster II Gold Surge Protector with Phone Protection    0.019964\n",
              "Cisco SPA525G2 5-Line IP Phone                                               0.019964\n",
              "Name: Order ID, Length: 1841, dtype: float64"
            ]
          },
          "metadata": {},
          "execution_count": 70
        }
      ],
      "source": [
        "ss.groupby('Product Name')['Order ID'].count().sort_values(ascending=False)/ss['Order ID'].nunique()*100"
      ]
    },
    {
      "cell_type": "markdown",
      "metadata": {
        "id": "KcuqVQYeJvxB"
      },
      "source": [
        "The most commonly purchased product in every basket is staples, accounting for 4.53% of all baskets. It seems less in value. Lets, deep down into month."
      ]
    },
    {
      "cell_type": "code",
      "execution_count": 71,
      "metadata": {
        "id": "CtzFbURDJvxB",
        "outputId": "1c8642b0-cdd9-4fdb-d02f-6b662dd620b2",
        "colab": {
          "base_uri": "https://localhost:8080/"
        }
      },
      "outputs": [
        {
          "output_type": "stream",
          "name": "stderr",
          "text": [
            "/usr/local/lib/python3.10/dist-packages/ipykernel/ipkernel.py:283: DeprecationWarning: `should_run_async` will not call `transform_cell` automatically in the future. Please pass the result to `transformed_cell` argument and any exception that happen during thetransform in `preprocessing_exc_tuple` in IPython 7.17 and above.\n",
            "  and should_run_async(code)\n"
          ]
        },
        {
          "output_type": "stream",
          "name": "stdout",
          "text": [
            "Month 1\n",
            "                                                     Percent\n",
            "Product Name                                                \n",
            "Staples                                             4.316547\n",
            "Wilson Jones data.warehouse D-Ring Binders with...  1.079137\n",
            "Eldon ClusterMat Chair Mat with Cordless Antist...  1.079137\n",
            "DAX Black Cherry Wood-Tone Poster Frame             1.079137\n",
            "Global Highback Leather Tilter in Burgundy          1.079137\n",
            "*******************************\n",
            "Month 2\n",
            "                                                     Percent\n",
            "Product Name                                                \n",
            "Staples                                             8.661417\n",
            "Xerox 1881                                          1.181102\n",
            "Adjustable Depth Letter/Legal Cart                  1.181102\n",
            "Honeywell Enviracaire Portable HEPA Air Cleaner...  1.181102\n",
            "GBC Plastic Binding Combs                           1.181102\n",
            "*******************************\n",
            "Month 3\n",
            "                                                     Percent\n",
            "Product Name                                                \n",
            "Staples                                             5.432099\n",
            "Carina Double Wide Media Storage Towers in Natu...  0.987654\n",
            "Safco Value Mate Series Steel Bookcases, Baked ...  0.987654\n",
            "GBC VeloBind Cover Sets                             0.987654\n",
            "Acco Perma 4000 Stacking Storage Drawers            0.740741\n",
            "*******************************\n",
            "Month 4\n",
            "                                                     Percent\n",
            "Product Name                                                \n",
            "Staples                                             2.933333\n",
            "Global Leather Highback Executive Chair with Pn...  1.066667\n",
            "Fellowes Black Plastic Comb Bindings                1.066667\n",
            "Wirebound Four 2-3/4 x 5 Forms per Page, 400 Se...  0.800000\n",
            "Pyle PMP37LED                                       0.800000\n",
            "*******************************\n",
            "Month 5\n",
            "                                   Percent\n",
            "Product Name                              \n",
            "Staples                           3.827751\n",
            "Storex Dura Pro Binders           1.435407\n",
            "Xerox 1949                        0.956938\n",
            "Avery 476                         0.956938\n",
            "Novimex Swivel Fabric Task Chair  0.717703\n",
            "*******************************\n",
            "Month 6\n",
            "                                                 Percent\n",
            "Product Name                                            \n",
            "Staples                                         4.415584\n",
            "KI Adjustable-Height Table                      1.298701\n",
            "Xerox 202                                       1.298701\n",
            "Premium Transparent Presentation Covers by GBC  1.038961\n",
            "GBC Prestige Therm-A-Bind Covers                0.779221\n",
            "*******************************\n",
            "Month 7\n",
            "                                                     Percent\n",
            "Product Name                                                \n",
            "Staples                                             3.693182\n",
            "invisibleSHIELD by ZAGG Smudge-Free Screen Prot...  0.852273\n",
            "Xerox 216                                           0.852273\n",
            "Newell 32                                           0.852273\n",
            "Hon 2090 “Pillow Soft” Series Mid Back Swivel/T...  0.852273\n",
            "*******************************\n",
            "Month 8\n",
            "                                                     Percent\n",
            "Product Name                                                \n",
            "Staples                                             4.134367\n",
            "Fellowes Super Stor/Drawer Files                    1.033592\n",
            "Chromcraft Rectangular Conference Tables            0.775194\n",
            "Logitech Desktop MK120 Mouse and keyboard Combo     0.775194\n",
            "Belkin Premiere Surge Master II 8-outlet surge ...  0.775194\n",
            "*******************************\n",
            "Month 9\n",
            "                                                     Percent\n",
            "Product Name                                                \n",
            "Staples                                             4.070796\n",
            "Decoflex Hanging Personal Folder File, Blue         1.061947\n",
            "Xerox 1895                                          0.707965\n",
            "Riverside Palais Royal Lawyers Bookcase, Royale...  0.707965\n",
            "Longer-Life Soft White Bulbs                        0.707965\n",
            "*******************************\n",
            "Month 10\n",
            "                                                     Percent\n",
            "Product Name                                                \n",
            "Staples                                             4.466501\n",
            "Avery Non-Stick Binders                             1.240695\n",
            "Acco Data Flex Cable Posts For Top & Bottom Loa...  0.744417\n",
            "LF Elite 3D Dazzle Designer Hard Case Cover, Lf...  0.744417\n",
            "Large Capacity Hanging Post Binders                 0.744417\n",
            "*******************************\n",
            "Month 11\n",
            "                                                     Percent\n",
            "Product Name                                                \n",
            "Staples                                             4.617834\n",
            "Boston Electric Pencil Sharpener, Model 1818, C...  0.796178\n",
            "Wilson Jones Ledger-Size, Piano-Hinge Binder, 2...  0.796178\n",
            "Avery File Folder Labels                            0.636943\n",
            "Memorex Mini Travel Drive 16 GB USB 2.0 Flash D...  0.636943\n",
            "*******************************\n",
            "Month 12\n",
            "                                                     Percent\n",
            "Product Name                                                \n",
            "Staples                                             5.008945\n",
            "Bretford Rectangular Conference Table Tops          1.073345\n",
            "Ibico Ibimaster 300 Manual Binding System           0.715564\n",
            "Cardinal Slant-D Ring Binder, Heavy Gauge Vinyl     0.715564\n",
            "Wilson Jones Leather-Like Binders with DublLock...  0.715564\n",
            "*******************************\n"
          ]
        }
      ],
      "source": [
        "a = ss.groupby(['Order Month','Product Name'])['Order ID'].count()/ss.groupby('Order Month')['Order ID'].nunique()*100\n",
        "a = pd.DataFrame(a)\n",
        "a.columns = ['Percent']\n",
        "for i in range(1,13):\n",
        "    print('Month {}'.format(i))\n",
        "    print(a.loc[i].sort_values(by=['Percent'],ascending=False).head())\n",
        "    print('*******************************')"
      ]
    },
    {
      "cell_type": "markdown",
      "metadata": {
        "id": "9xt4hbTOJvxC"
      },
      "source": [
        "Seem less amount."
      ]
    },
    {
      "cell_type": "markdown",
      "metadata": {
        "id": "b4ESgJpYJvxC"
      },
      "source": [
        "Lets do some .Create matrix 0,1 on order id vs product name as input of association rule."
      ]
    },
    {
      "cell_type": "markdown",
      "source": [
        "## Basket Analysis"
      ],
      "metadata": {
        "id": "Fh2uBU9talH_"
      }
    },
    {
      "cell_type": "code",
      "execution_count": 72,
      "metadata": {
        "id": "KBH586PuJvxC",
        "outputId": "be346006-95a5-457c-97dc-61a13c39420d",
        "colab": {
          "base_uri": "https://localhost:8080/",
          "height": 1000
        }
      },
      "outputs": [
        {
          "output_type": "stream",
          "name": "stderr",
          "text": [
            "/usr/local/lib/python3.10/dist-packages/ipykernel/ipkernel.py:283: DeprecationWarning: `should_run_async` will not call `transform_cell` automatically in the future. Please pass the result to `transformed_cell` argument and any exception that happen during thetransform in `preprocessing_exc_tuple` in IPython 7.17 and above.\n",
            "  and should_run_async(code)\n"
          ]
        },
        {
          "output_type": "execute_result",
          "data": {
            "text/plain": [
              "Product Name    \"While you Were Out\" Message Book, One Form per Page  \\\n",
              "Order ID                                                               \n",
              "CA-2011-100006                                                  0      \n",
              "CA-2011-100090                                                  0      \n",
              "CA-2011-100293                                                  0      \n",
              "CA-2011-100328                                                  0      \n",
              "CA-2011-100363                                                  0      \n",
              "...                                                           ...      \n",
              "US-2014-168802                                                  0      \n",
              "US-2014-169320                                                  0      \n",
              "US-2014-169488                                                  0      \n",
              "US-2014-169502                                                  0      \n",
              "US-2014-169551                                                  0      \n",
              "\n",
              "Product Name    #10 Gummed Flap White Envelopes, 100/Box  \\\n",
              "Order ID                                                   \n",
              "CA-2011-100006                                         0   \n",
              "CA-2011-100090                                         0   \n",
              "CA-2011-100293                                         0   \n",
              "CA-2011-100328                                         0   \n",
              "CA-2011-100363                                         0   \n",
              "...                                                  ...   \n",
              "US-2014-168802                                         0   \n",
              "US-2014-169320                                         0   \n",
              "US-2014-169488                                         0   \n",
              "US-2014-169502                                         0   \n",
              "US-2014-169551                                         0   \n",
              "\n",
              "Product Name    #10 Self-Seal White Envelopes  \\\n",
              "Order ID                                        \n",
              "CA-2011-100006                              0   \n",
              "CA-2011-100090                              0   \n",
              "CA-2011-100293                              0   \n",
              "CA-2011-100328                              0   \n",
              "CA-2011-100363                              0   \n",
              "...                                       ...   \n",
              "US-2014-168802                              0   \n",
              "US-2014-169320                              0   \n",
              "US-2014-169488                              0   \n",
              "US-2014-169502                              0   \n",
              "US-2014-169551                              0   \n",
              "\n",
              "Product Name    #10 White Business Envelopes,4 1/8 x 9 1/2  \\\n",
              "Order ID                                                     \n",
              "CA-2011-100006                                           0   \n",
              "CA-2011-100090                                           0   \n",
              "CA-2011-100293                                           0   \n",
              "CA-2011-100328                                           0   \n",
              "CA-2011-100363                                           0   \n",
              "...                                                    ...   \n",
              "US-2014-168802                                           0   \n",
              "US-2014-169320                                           0   \n",
              "US-2014-169488                                           0   \n",
              "US-2014-169502                                           0   \n",
              "US-2014-169551                                           0   \n",
              "\n",
              "Product Name    #10- 4 1/8\" x 9 1/2\" Recycled Envelopes  \\\n",
              "Order ID                                                  \n",
              "CA-2011-100006                                        0   \n",
              "CA-2011-100090                                        0   \n",
              "CA-2011-100293                                        0   \n",
              "CA-2011-100328                                        0   \n",
              "CA-2011-100363                                        0   \n",
              "...                                                 ...   \n",
              "US-2014-168802                                        0   \n",
              "US-2014-169320                                        0   \n",
              "US-2014-169488                                        0   \n",
              "US-2014-169502                                        0   \n",
              "US-2014-169551                                        0   \n",
              "\n",
              "Product Name    #10- 4 1/8\" x 9 1/2\" Security-Tint Envelopes  \\\n",
              "Order ID                                                       \n",
              "CA-2011-100006                                             0   \n",
              "CA-2011-100090                                             0   \n",
              "CA-2011-100293                                             0   \n",
              "CA-2011-100328                                             0   \n",
              "CA-2011-100363                                             0   \n",
              "...                                                      ...   \n",
              "US-2014-168802                                             0   \n",
              "US-2014-169320                                             0   \n",
              "US-2014-169488                                             0   \n",
              "US-2014-169502                                             0   \n",
              "US-2014-169551                                             0   \n",
              "\n",
              "Product Name    #10-4 1/8\" x 9 1/2\" Premium Diagonal Seam Envelopes  \\\n",
              "Order ID                                                              \n",
              "CA-2011-100006                                                  0     \n",
              "CA-2011-100090                                                  0     \n",
              "CA-2011-100293                                                  0     \n",
              "CA-2011-100328                                                  0     \n",
              "CA-2011-100363                                                  0     \n",
              "...                                                           ...     \n",
              "US-2014-168802                                                  0     \n",
              "US-2014-169320                                                  0     \n",
              "US-2014-169488                                                  0     \n",
              "US-2014-169502                                                  0     \n",
              "US-2014-169551                                                  0     \n",
              "\n",
              "Product Name    #6 3/4 Gummed Flap White Envelopes  \\\n",
              "Order ID                                             \n",
              "CA-2011-100006                                   0   \n",
              "CA-2011-100090                                   0   \n",
              "CA-2011-100293                                   0   \n",
              "CA-2011-100328                                   0   \n",
              "CA-2011-100363                                   0   \n",
              "...                                            ...   \n",
              "US-2014-168802                                   0   \n",
              "US-2014-169320                                   0   \n",
              "US-2014-169488                                   0   \n",
              "US-2014-169502                                   0   \n",
              "US-2014-169551                                   0   \n",
              "\n",
              "Product Name    1.7 Cubic Foot Compact \"Cube\" Office Refrigerators  \\\n",
              "Order ID                                                             \n",
              "CA-2011-100006                                                  0    \n",
              "CA-2011-100090                                                  0    \n",
              "CA-2011-100293                                                  0    \n",
              "CA-2011-100328                                                  0    \n",
              "CA-2011-100363                                                  0    \n",
              "...                                                           ...    \n",
              "US-2014-168802                                                  0    \n",
              "US-2014-169320                                                  0    \n",
              "US-2014-169488                                                  0    \n",
              "US-2014-169502                                                  0    \n",
              "US-2014-169551                                                  0    \n",
              "\n",
              "Product Name    1/4 Fold Party Design Invitations & White Envelopes, 24 8-1/2\" X 11\" Cards, 25 Env./Pack  \\\n",
              "Order ID                                                                                                   \n",
              "CA-2011-100006                                                  0                                          \n",
              "CA-2011-100090                                                  0                                          \n",
              "CA-2011-100293                                                  0                                          \n",
              "CA-2011-100328                                                  0                                          \n",
              "CA-2011-100363                                                  0                                          \n",
              "...                                                           ...                                          \n",
              "US-2014-168802                                                  0                                          \n",
              "US-2014-169320                                                  0                                          \n",
              "US-2014-169488                                                  0                                          \n",
              "US-2014-169502                                                  0                                          \n",
              "US-2014-169551                                                  0                                          \n",
              "\n",
              "Product Name    ...  Zebra ZM400 Thermal Label Printer  \\\n",
              "Order ID        ...                                      \n",
              "CA-2011-100006  ...                                  0   \n",
              "CA-2011-100090  ...                                  0   \n",
              "CA-2011-100293  ...                                  0   \n",
              "CA-2011-100328  ...                                  0   \n",
              "CA-2011-100363  ...                                  0   \n",
              "...             ...                                ...   \n",
              "US-2014-168802  ...                                  0   \n",
              "US-2014-169320  ...                                  0   \n",
              "US-2014-169488  ...                                  0   \n",
              "US-2014-169502  ...                                  0   \n",
              "US-2014-169551  ...                                  0   \n",
              "\n",
              "Product Name    Zebra Zazzle Fluorescent Highlighters  \\\n",
              "Order ID                                                \n",
              "CA-2011-100006                                      0   \n",
              "CA-2011-100090                                      0   \n",
              "CA-2011-100293                                      0   \n",
              "CA-2011-100328                                      0   \n",
              "CA-2011-100363                                      0   \n",
              "...                                               ...   \n",
              "US-2014-168802                                      0   \n",
              "US-2014-169320                                      0   \n",
              "US-2014-169488                                      0   \n",
              "US-2014-169502                                      0   \n",
              "US-2014-169551                                      0   \n",
              "\n",
              "Product Name    Zipper Ring Binder Pockets  i.Sound Portable Power - 8000 mAh  \\\n",
              "Order ID                                                                        \n",
              "CA-2011-100006                           0                                  0   \n",
              "CA-2011-100090                           0                                  0   \n",
              "CA-2011-100293                           0                                  0   \n",
              "CA-2011-100328                           0                                  0   \n",
              "CA-2011-100363                           0                                  0   \n",
              "...                                    ...                                ...   \n",
              "US-2014-168802                           0                                  0   \n",
              "US-2014-169320                           0                                  0   \n",
              "US-2014-169488                           0                                  0   \n",
              "US-2014-169502                           0                                  0   \n",
              "US-2014-169551                           0                                  0   \n",
              "\n",
              "Product Name    iHome FM Clock Radio with Lightning Dock  \\\n",
              "Order ID                                                   \n",
              "CA-2011-100006                                         0   \n",
              "CA-2011-100090                                         0   \n",
              "CA-2011-100293                                         0   \n",
              "CA-2011-100328                                         0   \n",
              "CA-2011-100363                                         0   \n",
              "...                                                  ...   \n",
              "US-2014-168802                                         0   \n",
              "US-2014-169320                                         0   \n",
              "US-2014-169488                                         0   \n",
              "US-2014-169502                                         0   \n",
              "US-2014-169551                                         0   \n",
              "\n",
              "Product Name    iKross Bluetooth Portable Keyboard + Cell Phone Stand Holder + Brush for Apple iPhone 5S 5C 5, 4S 4  \\\n",
              "Order ID                                                                                                              \n",
              "CA-2011-100006                                                  0                                                     \n",
              "CA-2011-100090                                                  0                                                     \n",
              "CA-2011-100293                                                  0                                                     \n",
              "CA-2011-100328                                                  0                                                     \n",
              "CA-2011-100363                                                  0                                                     \n",
              "...                                                           ...                                                     \n",
              "US-2014-168802                                                  0                                                     \n",
              "US-2014-169320                                                  0                                                     \n",
              "US-2014-169488                                                  0                                                     \n",
              "US-2014-169502                                                  0                                                     \n",
              "US-2014-169551                                                  0                                                     \n",
              "\n",
              "Product Name    iOttie HLCRIO102 Car Mount  iOttie XL Car Mount  \\\n",
              "Order ID                                                          \n",
              "CA-2011-100006                           0                    0   \n",
              "CA-2011-100090                           0                    0   \n",
              "CA-2011-100293                           0                    0   \n",
              "CA-2011-100328                           0                    0   \n",
              "CA-2011-100363                           0                    0   \n",
              "...                                    ...                  ...   \n",
              "US-2014-168802                           0                    0   \n",
              "US-2014-169320                           0                    0   \n",
              "US-2014-169488                           0                    0   \n",
              "US-2014-169502                           0                    0   \n",
              "US-2014-169551                           0                    0   \n",
              "\n",
              "Product Name    invisibleSHIELD by ZAGG Smudge-Free Screen Protector  \\\n",
              "Order ID                                                               \n",
              "CA-2011-100006                                                  0      \n",
              "CA-2011-100090                                                  0      \n",
              "CA-2011-100293                                                  0      \n",
              "CA-2011-100328                                                  0      \n",
              "CA-2011-100363                                                  0      \n",
              "...                                                           ...      \n",
              "US-2014-168802                                                  0      \n",
              "US-2014-169320                                                  0      \n",
              "US-2014-169488                                                  0      \n",
              "US-2014-169502                                                  0      \n",
              "US-2014-169551                                                  0      \n",
              "\n",
              "Product Name    netTALK DUO VoIP Telephone Service  \n",
              "Order ID                                            \n",
              "CA-2011-100006                                   0  \n",
              "CA-2011-100090                                   0  \n",
              "CA-2011-100293                                   0  \n",
              "CA-2011-100328                                   0  \n",
              "CA-2011-100363                                   0  \n",
              "...                                            ...  \n",
              "US-2014-168802                                   0  \n",
              "US-2014-169320                                   0  \n",
              "US-2014-169488                                   0  \n",
              "US-2014-169502                                   0  \n",
              "US-2014-169551                                   0  \n",
              "\n",
              "[5009 rows x 1841 columns]"
            ],
            "text/html": [
              "\n",
              "  <div id=\"df-b3b4fc55-1a4d-4b32-ad19-fe3fc2449aa7\" class=\"colab-df-container\">\n",
              "    <div>\n",
              "<style scoped>\n",
              "    .dataframe tbody tr th:only-of-type {\n",
              "        vertical-align: middle;\n",
              "    }\n",
              "\n",
              "    .dataframe tbody tr th {\n",
              "        vertical-align: top;\n",
              "    }\n",
              "\n",
              "    .dataframe thead th {\n",
              "        text-align: right;\n",
              "    }\n",
              "</style>\n",
              "<table border=\"1\" class=\"dataframe\">\n",
              "  <thead>\n",
              "    <tr style=\"text-align: right;\">\n",
              "      <th>Product Name</th>\n",
              "      <th>\"While you Were Out\" Message Book, One Form per Page</th>\n",
              "      <th>#10 Gummed Flap White Envelopes, 100/Box</th>\n",
              "      <th>#10 Self-Seal White Envelopes</th>\n",
              "      <th>#10 White Business Envelopes,4 1/8 x 9 1/2</th>\n",
              "      <th>#10- 4 1/8\" x 9 1/2\" Recycled Envelopes</th>\n",
              "      <th>#10- 4 1/8\" x 9 1/2\" Security-Tint Envelopes</th>\n",
              "      <th>#10-4 1/8\" x 9 1/2\" Premium Diagonal Seam Envelopes</th>\n",
              "      <th>#6 3/4 Gummed Flap White Envelopes</th>\n",
              "      <th>1.7 Cubic Foot Compact \"Cube\" Office Refrigerators</th>\n",
              "      <th>1/4 Fold Party Design Invitations &amp; White Envelopes, 24 8-1/2\" X 11\" Cards, 25 Env./Pack</th>\n",
              "      <th>...</th>\n",
              "      <th>Zebra ZM400 Thermal Label Printer</th>\n",
              "      <th>Zebra Zazzle Fluorescent Highlighters</th>\n",
              "      <th>Zipper Ring Binder Pockets</th>\n",
              "      <th>i.Sound Portable Power - 8000 mAh</th>\n",
              "      <th>iHome FM Clock Radio with Lightning Dock</th>\n",
              "      <th>iKross Bluetooth Portable Keyboard + Cell Phone Stand Holder + Brush for Apple iPhone 5S 5C 5, 4S 4</th>\n",
              "      <th>iOttie HLCRIO102 Car Mount</th>\n",
              "      <th>iOttie XL Car Mount</th>\n",
              "      <th>invisibleSHIELD by ZAGG Smudge-Free Screen Protector</th>\n",
              "      <th>netTALK DUO VoIP Telephone Service</th>\n",
              "    </tr>\n",
              "    <tr>\n",
              "      <th>Order ID</th>\n",
              "      <th></th>\n",
              "      <th></th>\n",
              "      <th></th>\n",
              "      <th></th>\n",
              "      <th></th>\n",
              "      <th></th>\n",
              "      <th></th>\n",
              "      <th></th>\n",
              "      <th></th>\n",
              "      <th></th>\n",
              "      <th></th>\n",
              "      <th></th>\n",
              "      <th></th>\n",
              "      <th></th>\n",
              "      <th></th>\n",
              "      <th></th>\n",
              "      <th></th>\n",
              "      <th></th>\n",
              "      <th></th>\n",
              "      <th></th>\n",
              "      <th></th>\n",
              "    </tr>\n",
              "  </thead>\n",
              "  <tbody>\n",
              "    <tr>\n",
              "      <th>CA-2011-100006</th>\n",
              "      <td>0</td>\n",
              "      <td>0</td>\n",
              "      <td>0</td>\n",
              "      <td>0</td>\n",
              "      <td>0</td>\n",
              "      <td>0</td>\n",
              "      <td>0</td>\n",
              "      <td>0</td>\n",
              "      <td>0</td>\n",
              "      <td>0</td>\n",
              "      <td>...</td>\n",
              "      <td>0</td>\n",
              "      <td>0</td>\n",
              "      <td>0</td>\n",
              "      <td>0</td>\n",
              "      <td>0</td>\n",
              "      <td>0</td>\n",
              "      <td>0</td>\n",
              "      <td>0</td>\n",
              "      <td>0</td>\n",
              "      <td>0</td>\n",
              "    </tr>\n",
              "    <tr>\n",
              "      <th>CA-2011-100090</th>\n",
              "      <td>0</td>\n",
              "      <td>0</td>\n",
              "      <td>0</td>\n",
              "      <td>0</td>\n",
              "      <td>0</td>\n",
              "      <td>0</td>\n",
              "      <td>0</td>\n",
              "      <td>0</td>\n",
              "      <td>0</td>\n",
              "      <td>0</td>\n",
              "      <td>...</td>\n",
              "      <td>0</td>\n",
              "      <td>0</td>\n",
              "      <td>0</td>\n",
              "      <td>0</td>\n",
              "      <td>0</td>\n",
              "      <td>0</td>\n",
              "      <td>0</td>\n",
              "      <td>0</td>\n",
              "      <td>0</td>\n",
              "      <td>0</td>\n",
              "    </tr>\n",
              "    <tr>\n",
              "      <th>CA-2011-100293</th>\n",
              "      <td>0</td>\n",
              "      <td>0</td>\n",
              "      <td>0</td>\n",
              "      <td>0</td>\n",
              "      <td>0</td>\n",
              "      <td>0</td>\n",
              "      <td>0</td>\n",
              "      <td>0</td>\n",
              "      <td>0</td>\n",
              "      <td>0</td>\n",
              "      <td>...</td>\n",
              "      <td>0</td>\n",
              "      <td>0</td>\n",
              "      <td>0</td>\n",
              "      <td>0</td>\n",
              "      <td>0</td>\n",
              "      <td>0</td>\n",
              "      <td>0</td>\n",
              "      <td>0</td>\n",
              "      <td>0</td>\n",
              "      <td>0</td>\n",
              "    </tr>\n",
              "    <tr>\n",
              "      <th>CA-2011-100328</th>\n",
              "      <td>0</td>\n",
              "      <td>0</td>\n",
              "      <td>0</td>\n",
              "      <td>0</td>\n",
              "      <td>0</td>\n",
              "      <td>0</td>\n",
              "      <td>0</td>\n",
              "      <td>0</td>\n",
              "      <td>0</td>\n",
              "      <td>0</td>\n",
              "      <td>...</td>\n",
              "      <td>0</td>\n",
              "      <td>0</td>\n",
              "      <td>0</td>\n",
              "      <td>0</td>\n",
              "      <td>0</td>\n",
              "      <td>0</td>\n",
              "      <td>0</td>\n",
              "      <td>0</td>\n",
              "      <td>0</td>\n",
              "      <td>0</td>\n",
              "    </tr>\n",
              "    <tr>\n",
              "      <th>CA-2011-100363</th>\n",
              "      <td>0</td>\n",
              "      <td>0</td>\n",
              "      <td>0</td>\n",
              "      <td>0</td>\n",
              "      <td>0</td>\n",
              "      <td>0</td>\n",
              "      <td>0</td>\n",
              "      <td>0</td>\n",
              "      <td>0</td>\n",
              "      <td>0</td>\n",
              "      <td>...</td>\n",
              "      <td>0</td>\n",
              "      <td>0</td>\n",
              "      <td>0</td>\n",
              "      <td>0</td>\n",
              "      <td>0</td>\n",
              "      <td>0</td>\n",
              "      <td>0</td>\n",
              "      <td>0</td>\n",
              "      <td>0</td>\n",
              "      <td>0</td>\n",
              "    </tr>\n",
              "    <tr>\n",
              "      <th>...</th>\n",
              "      <td>...</td>\n",
              "      <td>...</td>\n",
              "      <td>...</td>\n",
              "      <td>...</td>\n",
              "      <td>...</td>\n",
              "      <td>...</td>\n",
              "      <td>...</td>\n",
              "      <td>...</td>\n",
              "      <td>...</td>\n",
              "      <td>...</td>\n",
              "      <td>...</td>\n",
              "      <td>...</td>\n",
              "      <td>...</td>\n",
              "      <td>...</td>\n",
              "      <td>...</td>\n",
              "      <td>...</td>\n",
              "      <td>...</td>\n",
              "      <td>...</td>\n",
              "      <td>...</td>\n",
              "      <td>...</td>\n",
              "      <td>...</td>\n",
              "    </tr>\n",
              "    <tr>\n",
              "      <th>US-2014-168802</th>\n",
              "      <td>0</td>\n",
              "      <td>0</td>\n",
              "      <td>0</td>\n",
              "      <td>0</td>\n",
              "      <td>0</td>\n",
              "      <td>0</td>\n",
              "      <td>0</td>\n",
              "      <td>0</td>\n",
              "      <td>0</td>\n",
              "      <td>0</td>\n",
              "      <td>...</td>\n",
              "      <td>0</td>\n",
              "      <td>0</td>\n",
              "      <td>0</td>\n",
              "      <td>0</td>\n",
              "      <td>0</td>\n",
              "      <td>0</td>\n",
              "      <td>0</td>\n",
              "      <td>0</td>\n",
              "      <td>0</td>\n",
              "      <td>0</td>\n",
              "    </tr>\n",
              "    <tr>\n",
              "      <th>US-2014-169320</th>\n",
              "      <td>0</td>\n",
              "      <td>0</td>\n",
              "      <td>0</td>\n",
              "      <td>0</td>\n",
              "      <td>0</td>\n",
              "      <td>0</td>\n",
              "      <td>0</td>\n",
              "      <td>0</td>\n",
              "      <td>0</td>\n",
              "      <td>0</td>\n",
              "      <td>...</td>\n",
              "      <td>0</td>\n",
              "      <td>0</td>\n",
              "      <td>0</td>\n",
              "      <td>0</td>\n",
              "      <td>0</td>\n",
              "      <td>0</td>\n",
              "      <td>0</td>\n",
              "      <td>0</td>\n",
              "      <td>0</td>\n",
              "      <td>0</td>\n",
              "    </tr>\n",
              "    <tr>\n",
              "      <th>US-2014-169488</th>\n",
              "      <td>0</td>\n",
              "      <td>0</td>\n",
              "      <td>0</td>\n",
              "      <td>0</td>\n",
              "      <td>0</td>\n",
              "      <td>0</td>\n",
              "      <td>0</td>\n",
              "      <td>0</td>\n",
              "      <td>0</td>\n",
              "      <td>0</td>\n",
              "      <td>...</td>\n",
              "      <td>0</td>\n",
              "      <td>0</td>\n",
              "      <td>0</td>\n",
              "      <td>0</td>\n",
              "      <td>0</td>\n",
              "      <td>0</td>\n",
              "      <td>0</td>\n",
              "      <td>0</td>\n",
              "      <td>0</td>\n",
              "      <td>0</td>\n",
              "    </tr>\n",
              "    <tr>\n",
              "      <th>US-2014-169502</th>\n",
              "      <td>0</td>\n",
              "      <td>0</td>\n",
              "      <td>0</td>\n",
              "      <td>0</td>\n",
              "      <td>0</td>\n",
              "      <td>0</td>\n",
              "      <td>0</td>\n",
              "      <td>0</td>\n",
              "      <td>0</td>\n",
              "      <td>0</td>\n",
              "      <td>...</td>\n",
              "      <td>0</td>\n",
              "      <td>0</td>\n",
              "      <td>0</td>\n",
              "      <td>0</td>\n",
              "      <td>0</td>\n",
              "      <td>0</td>\n",
              "      <td>0</td>\n",
              "      <td>0</td>\n",
              "      <td>0</td>\n",
              "      <td>0</td>\n",
              "    </tr>\n",
              "    <tr>\n",
              "      <th>US-2014-169551</th>\n",
              "      <td>0</td>\n",
              "      <td>0</td>\n",
              "      <td>0</td>\n",
              "      <td>0</td>\n",
              "      <td>0</td>\n",
              "      <td>0</td>\n",
              "      <td>0</td>\n",
              "      <td>0</td>\n",
              "      <td>0</td>\n",
              "      <td>0</td>\n",
              "      <td>...</td>\n",
              "      <td>0</td>\n",
              "      <td>0</td>\n",
              "      <td>0</td>\n",
              "      <td>0</td>\n",
              "      <td>0</td>\n",
              "      <td>0</td>\n",
              "      <td>0</td>\n",
              "      <td>0</td>\n",
              "      <td>0</td>\n",
              "      <td>0</td>\n",
              "    </tr>\n",
              "  </tbody>\n",
              "</table>\n",
              "<p>5009 rows × 1841 columns</p>\n",
              "</div>\n",
              "    <div class=\"colab-df-buttons\">\n",
              "\n",
              "  <div class=\"colab-df-container\">\n",
              "    <button class=\"colab-df-convert\" onclick=\"convertToInteractive('df-b3b4fc55-1a4d-4b32-ad19-fe3fc2449aa7')\"\n",
              "            title=\"Convert this dataframe to an interactive table.\"\n",
              "            style=\"display:none;\">\n",
              "\n",
              "  <svg xmlns=\"http://www.w3.org/2000/svg\" height=\"24px\" viewBox=\"0 -960 960 960\">\n",
              "    <path d=\"M120-120v-720h720v720H120Zm60-500h600v-160H180v160Zm220 220h160v-160H400v160Zm0 220h160v-160H400v160ZM180-400h160v-160H180v160Zm440 0h160v-160H620v160ZM180-180h160v-160H180v160Zm440 0h160v-160H620v160Z\"/>\n",
              "  </svg>\n",
              "    </button>\n",
              "\n",
              "  <style>\n",
              "    .colab-df-container {\n",
              "      display:flex;\n",
              "      gap: 12px;\n",
              "    }\n",
              "\n",
              "    .colab-df-convert {\n",
              "      background-color: #E8F0FE;\n",
              "      border: none;\n",
              "      border-radius: 50%;\n",
              "      cursor: pointer;\n",
              "      display: none;\n",
              "      fill: #1967D2;\n",
              "      height: 32px;\n",
              "      padding: 0 0 0 0;\n",
              "      width: 32px;\n",
              "    }\n",
              "\n",
              "    .colab-df-convert:hover {\n",
              "      background-color: #E2EBFA;\n",
              "      box-shadow: 0px 1px 2px rgba(60, 64, 67, 0.3), 0px 1px 3px 1px rgba(60, 64, 67, 0.15);\n",
              "      fill: #174EA6;\n",
              "    }\n",
              "\n",
              "    .colab-df-buttons div {\n",
              "      margin-bottom: 4px;\n",
              "    }\n",
              "\n",
              "    [theme=dark] .colab-df-convert {\n",
              "      background-color: #3B4455;\n",
              "      fill: #D2E3FC;\n",
              "    }\n",
              "\n",
              "    [theme=dark] .colab-df-convert:hover {\n",
              "      background-color: #434B5C;\n",
              "      box-shadow: 0px 1px 3px 1px rgba(0, 0, 0, 0.15);\n",
              "      filter: drop-shadow(0px 1px 2px rgba(0, 0, 0, 0.3));\n",
              "      fill: #FFFFFF;\n",
              "    }\n",
              "  </style>\n",
              "\n",
              "    <script>\n",
              "      const buttonEl =\n",
              "        document.querySelector('#df-b3b4fc55-1a4d-4b32-ad19-fe3fc2449aa7 button.colab-df-convert');\n",
              "      buttonEl.style.display =\n",
              "        google.colab.kernel.accessAllowed ? 'block' : 'none';\n",
              "\n",
              "      async function convertToInteractive(key) {\n",
              "        const element = document.querySelector('#df-b3b4fc55-1a4d-4b32-ad19-fe3fc2449aa7');\n",
              "        const dataTable =\n",
              "          await google.colab.kernel.invokeFunction('convertToInteractive',\n",
              "                                                    [key], {});\n",
              "        if (!dataTable) return;\n",
              "\n",
              "        const docLinkHtml = 'Like what you see? Visit the ' +\n",
              "          '<a target=\"_blank\" href=https://colab.research.google.com/notebooks/data_table.ipynb>data table notebook</a>'\n",
              "          + ' to learn more about interactive tables.';\n",
              "        element.innerHTML = '';\n",
              "        dataTable['output_type'] = 'display_data';\n",
              "        await google.colab.output.renderOutput(dataTable, element);\n",
              "        const docLink = document.createElement('div');\n",
              "        docLink.innerHTML = docLinkHtml;\n",
              "        element.appendChild(docLink);\n",
              "      }\n",
              "    </script>\n",
              "  </div>\n",
              "\n",
              "\n",
              "<div id=\"df-4d93cd0e-bfe1-43fe-b42a-6131094ede7a\">\n",
              "  <button class=\"colab-df-quickchart\" onclick=\"quickchart('df-4d93cd0e-bfe1-43fe-b42a-6131094ede7a')\"\n",
              "            title=\"Suggest charts.\"\n",
              "            style=\"display:none;\">\n",
              "\n",
              "<svg xmlns=\"http://www.w3.org/2000/svg\" height=\"24px\"viewBox=\"0 0 24 24\"\n",
              "     width=\"24px\">\n",
              "    <g>\n",
              "        <path d=\"M19 3H5c-1.1 0-2 .9-2 2v14c0 1.1.9 2 2 2h14c1.1 0 2-.9 2-2V5c0-1.1-.9-2-2-2zM9 17H7v-7h2v7zm4 0h-2V7h2v10zm4 0h-2v-4h2v4z\"/>\n",
              "    </g>\n",
              "</svg>\n",
              "  </button>\n",
              "\n",
              "<style>\n",
              "  .colab-df-quickchart {\n",
              "      --bg-color: #E8F0FE;\n",
              "      --fill-color: #1967D2;\n",
              "      --hover-bg-color: #E2EBFA;\n",
              "      --hover-fill-color: #174EA6;\n",
              "      --disabled-fill-color: #AAA;\n",
              "      --disabled-bg-color: #DDD;\n",
              "  }\n",
              "\n",
              "  [theme=dark] .colab-df-quickchart {\n",
              "      --bg-color: #3B4455;\n",
              "      --fill-color: #D2E3FC;\n",
              "      --hover-bg-color: #434B5C;\n",
              "      --hover-fill-color: #FFFFFF;\n",
              "      --disabled-bg-color: #3B4455;\n",
              "      --disabled-fill-color: #666;\n",
              "  }\n",
              "\n",
              "  .colab-df-quickchart {\n",
              "    background-color: var(--bg-color);\n",
              "    border: none;\n",
              "    border-radius: 50%;\n",
              "    cursor: pointer;\n",
              "    display: none;\n",
              "    fill: var(--fill-color);\n",
              "    height: 32px;\n",
              "    padding: 0;\n",
              "    width: 32px;\n",
              "  }\n",
              "\n",
              "  .colab-df-quickchart:hover {\n",
              "    background-color: var(--hover-bg-color);\n",
              "    box-shadow: 0 1px 2px rgba(60, 64, 67, 0.3), 0 1px 3px 1px rgba(60, 64, 67, 0.15);\n",
              "    fill: var(--button-hover-fill-color);\n",
              "  }\n",
              "\n",
              "  .colab-df-quickchart-complete:disabled,\n",
              "  .colab-df-quickchart-complete:disabled:hover {\n",
              "    background-color: var(--disabled-bg-color);\n",
              "    fill: var(--disabled-fill-color);\n",
              "    box-shadow: none;\n",
              "  }\n",
              "\n",
              "  .colab-df-spinner {\n",
              "    border: 2px solid var(--fill-color);\n",
              "    border-color: transparent;\n",
              "    border-bottom-color: var(--fill-color);\n",
              "    animation:\n",
              "      spin 1s steps(1) infinite;\n",
              "  }\n",
              "\n",
              "  @keyframes spin {\n",
              "    0% {\n",
              "      border-color: transparent;\n",
              "      border-bottom-color: var(--fill-color);\n",
              "      border-left-color: var(--fill-color);\n",
              "    }\n",
              "    20% {\n",
              "      border-color: transparent;\n",
              "      border-left-color: var(--fill-color);\n",
              "      border-top-color: var(--fill-color);\n",
              "    }\n",
              "    30% {\n",
              "      border-color: transparent;\n",
              "      border-left-color: var(--fill-color);\n",
              "      border-top-color: var(--fill-color);\n",
              "      border-right-color: var(--fill-color);\n",
              "    }\n",
              "    40% {\n",
              "      border-color: transparent;\n",
              "      border-right-color: var(--fill-color);\n",
              "      border-top-color: var(--fill-color);\n",
              "    }\n",
              "    60% {\n",
              "      border-color: transparent;\n",
              "      border-right-color: var(--fill-color);\n",
              "    }\n",
              "    80% {\n",
              "      border-color: transparent;\n",
              "      border-right-color: var(--fill-color);\n",
              "      border-bottom-color: var(--fill-color);\n",
              "    }\n",
              "    90% {\n",
              "      border-color: transparent;\n",
              "      border-bottom-color: var(--fill-color);\n",
              "    }\n",
              "  }\n",
              "</style>\n",
              "\n",
              "  <script>\n",
              "    async function quickchart(key) {\n",
              "      const quickchartButtonEl =\n",
              "        document.querySelector('#' + key + ' button');\n",
              "      quickchartButtonEl.disabled = true;  // To prevent multiple clicks.\n",
              "      quickchartButtonEl.classList.add('colab-df-spinner');\n",
              "      try {\n",
              "        const charts = await google.colab.kernel.invokeFunction(\n",
              "            'suggestCharts', [key], {});\n",
              "      } catch (error) {\n",
              "        console.error('Error during call to suggestCharts:', error);\n",
              "      }\n",
              "      quickchartButtonEl.classList.remove('colab-df-spinner');\n",
              "      quickchartButtonEl.classList.add('colab-df-quickchart-complete');\n",
              "    }\n",
              "    (() => {\n",
              "      let quickchartButtonEl =\n",
              "        document.querySelector('#df-4d93cd0e-bfe1-43fe-b42a-6131094ede7a button');\n",
              "      quickchartButtonEl.style.display =\n",
              "        google.colab.kernel.accessAllowed ? 'block' : 'none';\n",
              "    })();\n",
              "  </script>\n",
              "</div>\n",
              "    </div>\n",
              "  </div>\n"
            ]
          },
          "metadata": {},
          "execution_count": 72
        }
      ],
      "source": [
        "basket = (ss.groupby(['Order ID', 'Product Name'])['Quantity']\n",
        "          .sum().unstack().reset_index().fillna(0)\n",
        "          .set_index('Order ID'))\n",
        "\n",
        "def encode_units(x):\n",
        "    if x <= 0:\n",
        "        return 0\n",
        "    if x >= 1:\n",
        "        return 1\n",
        "\n",
        "basket_sets = basket.applymap(encode_units)\n",
        "basket_sets"
      ]
    },
    {
      "cell_type": "code",
      "execution_count": 73,
      "metadata": {
        "id": "jny4UHS-JvxC",
        "outputId": "c6465245-eb92-4afa-ae13-09441727da9c",
        "colab": {
          "base_uri": "https://localhost:8080/"
        }
      },
      "outputs": [
        {
          "output_type": "stream",
          "name": "stderr",
          "text": [
            "/usr/local/lib/python3.10/dist-packages/ipykernel/ipkernel.py:283: DeprecationWarning: `should_run_async` will not call `transform_cell` automatically in the future. Please pass the result to `transformed_cell` argument and any exception that happen during thetransform in `preprocessing_exc_tuple` in IPython 7.17 and above.\n",
            "  and should_run_async(code)\n"
          ]
        }
      ],
      "source": [
        "# from mlxtend.frequent_patterns import apriori, association_rules\n",
        "\n",
        "# # Generate frequent itemsets using Apriori algorithm\n",
        "# frequent_itemsets = apriori(encoded_df.drop('Order ID', axis=1), min_support=0.05, use_colnames=True)\n",
        "\n",
        "# # Generate association rules\n",
        "# association_rules_df = association_rules(frequent_itemsets, metric=\"lift\", min_threshold=1)\n",
        "\n",
        "# # Display association rules\n",
        "# print(\"Frequent Itemsets:\")\n",
        "# print(frequent_itemsets)\n",
        "# print(\"\\nAssociation Rules:\")\n",
        "# print(association_rules_df)"
      ]
    },
    {
      "cell_type": "markdown",
      "metadata": {
        "id": "X_9EmL2hJvxC"
      },
      "source": [
        "There is no association rule beacause all product didn't pass minimum support and minimum threshold."
      ]
    },
    {
      "cell_type": "markdown",
      "source": [
        "## Discount Analysis"
      ],
      "metadata": {
        "id": "iNz5HhidarN0"
      }
    },
    {
      "cell_type": "markdown",
      "source": [
        " **Coupon Redemption Rate**: Measure how often customers use coupons or discounts"
      ],
      "metadata": {
        "id": "U_I6yUZih7cp"
      }
    },
    {
      "cell_type": "code",
      "source": [
        "ss['Discount'].describe()"
      ],
      "metadata": {
        "id": "4goc7gZ_h6bU",
        "outputId": "60eb86d6-4ccf-433a-81e6-007f72f78279",
        "colab": {
          "base_uri": "https://localhost:8080/"
        }
      },
      "execution_count": 74,
      "outputs": [
        {
          "output_type": "stream",
          "name": "stderr",
          "text": [
            "/usr/local/lib/python3.10/dist-packages/ipykernel/ipkernel.py:283: DeprecationWarning: `should_run_async` will not call `transform_cell` automatically in the future. Please pass the result to `transformed_cell` argument and any exception that happen during thetransform in `preprocessing_exc_tuple` in IPython 7.17 and above.\n",
            "  and should_run_async(code)\n"
          ]
        },
        {
          "output_type": "execute_result",
          "data": {
            "text/plain": [
              "count    9994.000000\n",
              "mean        0.156203\n",
              "std         0.206452\n",
              "min         0.000000\n",
              "25%         0.000000\n",
              "50%         0.200000\n",
              "75%         0.200000\n",
              "max         0.800000\n",
              "Name: Discount, dtype: float64"
            ]
          },
          "metadata": {},
          "execution_count": 74
        }
      ]
    },
    {
      "cell_type": "code",
      "source": [
        "id_dis_sum = ss.groupby(['Order ID'])['Discount'].sum()\n",
        "(id_dis_sum != 0).sum()*100/id_dis_sum.count()"
      ],
      "metadata": {
        "id": "1IM8B3Q6teRi",
        "outputId": "2ca7f269-eacd-4a30-91a7-aa154c0911a7",
        "colab": {
          "base_uri": "https://localhost:8080/"
        }
      },
      "execution_count": 75,
      "outputs": [
        {
          "output_type": "stream",
          "name": "stderr",
          "text": [
            "/usr/local/lib/python3.10/dist-packages/ipykernel/ipkernel.py:283: DeprecationWarning: `should_run_async` will not call `transform_cell` automatically in the future. Please pass the result to `transformed_cell` argument and any exception that happen during thetransform in `preprocessing_exc_tuple` in IPython 7.17 and above.\n",
            "  and should_run_async(code)\n"
          ]
        },
        {
          "output_type": "execute_result",
          "data": {
            "text/plain": [
              "58.97384707526452"
            ]
          },
          "metadata": {},
          "execution_count": 75
        }
      ]
    },
    {
      "cell_type": "markdown",
      "source": [
        "58.97 percent of all transactions use discount. Conclude that customer tend to more use discount when they go shopping."
      ],
      "metadata": {
        "id": "zxjuCkt-xrDE"
      }
    },
    {
      "cell_type": "code",
      "source": [
        "hist_values, bin_edges, _ = plt.hist(ss[ss['Discount'] > 0]['Discount'],bins=8, alpha=0.75, color='blue', edgecolor='black')\n",
        "\n",
        "# Print the bin edges on the histogram\n",
        "for value, frequency, bin_edge in zip(hist_values, bin_edges[1:], bin_edges[:-1]):\n",
        "    plt.text(bin_edge +0.05 , value + 5, str(int(value)), ha='center', va='bottom')\n",
        "\n",
        "# Display the histogram\n",
        "plt.xlabel(\"Discount\")\n",
        "plt.ylabel(\"Frequency\")\n",
        "plt.title(\"Histogram of discount in all difference products and transactions\")\n",
        "plt.legend()\n",
        "plt.grid(True)\n",
        "plt.show()"
      ],
      "metadata": {
        "id": "msAqQOfnsIMD",
        "outputId": "bdb23d9c-379f-40ca-d74e-f691fe43b0d6",
        "colab": {
          "base_uri": "https://localhost:8080/",
          "height": 0
        }
      },
      "execution_count": 76,
      "outputs": [
        {
          "output_type": "stream",
          "name": "stderr",
          "text": [
            "/usr/local/lib/python3.10/dist-packages/ipykernel/ipkernel.py:283: DeprecationWarning: `should_run_async` will not call `transform_cell` automatically in the future. Please pass the result to `transformed_cell` argument and any exception that happen during thetransform in `preprocessing_exc_tuple` in IPython 7.17 and above.\n",
            "  and should_run_async(code)\n",
            "WARNING:matplotlib.legend:No artists with labels found to put in legend.  Note that artists whose label start with an underscore are ignored when legend() is called with no argument.\n"
          ]
        },
        {
          "output_type": "display_data",
          "data": {
            "text/plain": [
              "<Figure size 640x480 with 1 Axes>"
            ],
            "image/png": "[encoded data removed]"
          },
          "metadata": {}
        }
      ]
    },
    {
      "cell_type": "markdown",
      "source": [
        "Our customer use [20,30) % discount the most among all discount. We suggest to create this discount rate to attract customer."
      ],
      "metadata": {
        "id": "7q8pd6JDsQvW"
      }
    },
    {
      "cell_type": "markdown",
      "metadata": {
        "id": "RimG8pwQJvxC"
      },
      "source": [
        "# Supply Chain aspect"
      ]
    },
    {
      "cell_type": "markdown",
      "metadata": {
        "id": "vQ8LyZSeJvxC"
      },
      "source": [
        "find out time to ship order. We assume that order date is the day that order was made and ship date is the day when order was delivered."
      ]
    },
    {
      "cell_type": "code",
      "execution_count": 77,
      "metadata": {
        "id": "HxEsaDm8JvxC",
        "outputId": "5aadb9c6-9aa6-4b94-f61f-0b68e7dd3690",
        "colab": {
          "base_uri": "https://localhost:8080/"
        }
      },
      "outputs": [
        {
          "output_type": "stream",
          "name": "stderr",
          "text": [
            "/usr/local/lib/python3.10/dist-packages/ipykernel/ipkernel.py:283: DeprecationWarning: `should_run_async` will not call `transform_cell` automatically in the future. Please pass the result to `transformed_cell` argument and any exception that happen during thetransform in `preprocessing_exc_tuple` in IPython 7.17 and above.\n",
            "  and should_run_async(code)\n"
          ]
        },
        {
          "output_type": "execute_result",
          "data": {
            "text/plain": [
              "count                          9994\n",
              "mean      8 days 00:41:12.523514108\n",
              "std      96 days 04:26:57.728617038\n",
              "min             -320 days +00:00:00\n",
              "25%                 2 days 00:00:00\n",
              "50%                 4 days 00:00:00\n",
              "75%                61 days 00:00:00\n",
              "max               214 days 00:00:00\n",
              "Name: delivery time, dtype: object"
            ]
          },
          "metadata": {},
          "execution_count": 77
        }
      ],
      "source": [
        "ss['delivery time'] = ss['Ship Date'] - ss['Order Date']\n",
        "ss['delivery time'].describe()"
      ]
    },
    {
      "cell_type": "markdown",
      "source": [
        "It seems that min delivery time has negative value. So, we assume that it was mistakes in recording value. We solve this by absoluting their values."
      ],
      "metadata": {
        "id": "JDn9bS_lKfHJ"
      }
    },
    {
      "cell_type": "code",
      "execution_count": 78,
      "metadata": {
        "id": "wB6BiXKjJvxC",
        "outputId": "72ab6374-937a-4a02-87f0-aa63a9e128d7",
        "colab": {
          "base_uri": "https://localhost:8080/",
          "height": 0
        }
      },
      "outputs": [
        {
          "output_type": "stream",
          "name": "stderr",
          "text": [
            "/usr/local/lib/python3.10/dist-packages/ipykernel/ipkernel.py:283: DeprecationWarning: `should_run_async` will not call `transform_cell` automatically in the future. Please pass the result to `transformed_cell` argument and any exception that happen during thetransform in `preprocessing_exc_tuple` in IPython 7.17 and above.\n",
            "  and should_run_async(code)\n"
          ]
        },
        {
          "output_type": "execute_result",
          "data": {
            "text/plain": [
              "      Row ID        Order ID Order Date  Ship Date       Ship Mode  \\\n",
              "716      717  CA-2011-130092 2011-12-01 2011-01-15     First Class   \n",
              "961      962  CA-2012-160059 2012-11-27 2012-01-12  Standard Class   \n",
              "2211    2212  CA-2013-162313 2013-11-28 2013-01-12     First Class   \n",
              "3475    3476  CA-2013-144911 2013-11-28 2013-01-12     First Class   \n",
              "3476    3477  CA-2013-144911 2013-11-28 2013-01-12     First Class   \n",
              "\n",
              "     Customer ID     Customer Name      Segment        Country           City  \\\n",
              "716     SV-20365       Seth Vernon     Consumer  United States          Dover   \n",
              "961     TB-21190    Thomas Brumley  Home Office  United States   Fayetteville   \n",
              "2211    VB-21745  Victoria Brennan    Corporate  United States   Lincoln Park   \n",
              "3475    RW-19630      Rob Williams    Corporate  United States  Overland Park   \n",
              "3476    RW-19630      Rob Williams    Corporate  United States  Overland Park   \n",
              "\n",
              "      ...         Category  Sub-Category  \\\n",
              "716   ...        Furniture   Furnishings   \n",
              "961   ...  Office Supplies       Binders   \n",
              "2211  ...  Office Supplies    Appliances   \n",
              "3475  ...       Technology   Accessories   \n",
              "3476  ...  Office Supplies       Binders   \n",
              "\n",
              "                                           Product Name    Sales Quantity  \\\n",
              "716     DAX Value U-Channel Document Frames, Easel Back    9.940        2   \n",
              "961                          Zipper Ring Binder Pockets    6.240        2   \n",
              "2211                        Euro-Pro Shark Turbo Vacuum  167.292        6   \n",
              "3475  Verbatim 25 GB 6x Blu-ray Single Layer Recorda...   34.950        5   \n",
              "3476                 Ibico Plastic Spiral Binding Combs  152.000        5   \n",
              "\n",
              "     Discount   Profit  Order Month  Order Year  delivery time  \n",
              "716       0.0   3.0814           12        2011      -320 days  \n",
              "961       0.0   3.0576           11        2012      -320 days  \n",
              "2211      0.1  29.7408           11        2013      -320 days  \n",
              "3475      0.0  15.3780           11        2013      -320 days  \n",
              "3476      0.0  69.9200           11        2013      -320 days  \n",
              "\n",
              "[5 rows x 24 columns]"
            ],
            "text/html": [
              "\n",
              "  <div id=\"df-7ebaca2b-c8ee-436a-a930-a1004c94c2ab\" class=\"colab-df-container\">\n",
              "    <div>\n",
              "<style scoped>\n",
              "    .dataframe tbody tr th:only-of-type {\n",
              "        vertical-align: middle;\n",
              "    }\n",
              "\n",
              "    .dataframe tbody tr th {\n",
              "        vertical-align: top;\n",
              "    }\n",
              "\n",
              "    .dataframe thead th {\n",
              "        text-align: right;\n",
              "    }\n",
              "</style>\n",
              "<table border=\"1\" class=\"dataframe\">\n",
              "  <thead>\n",
              "    <tr style=\"text-align: right;\">\n",
              "      <th></th>\n",
              "      <th>Row ID</th>\n",
              "      <th>Order ID</th>\n",
              "      <th>Order Date</th>\n",
              "      <th>Ship Date</th>\n",
              "      <th>Ship Mode</th>\n",
              "      <th>Customer ID</th>\n",
              "      <th>Customer Name</th>\n",
              "      <th>Segment</th>\n",
              "      <th>Country</th>\n",
              "      <th>City</th>\n",
              "      <th>...</th>\n",
              "      <th>Category</th>\n",
              "      <th>Sub-Category</th>\n",
              "      <th>Product Name</th>\n",
              "      <th>Sales</th>\n",
              "      <th>Quantity</th>\n",
              "      <th>Discount</th>\n",
              "      <th>Profit</th>\n",
              "      <th>Order Month</th>\n",
              "      <th>Order Year</th>\n",
              "      <th>delivery time</th>\n",
              "    </tr>\n",
              "  </thead>\n",
              "  <tbody>\n",
              "    <tr>\n",
              "      <th>716</th>\n",
              "      <td>717</td>\n",
              "      <td>CA-2011-130092</td>\n",
              "      <td>2011-12-01</td>\n",
              "      <td>2011-01-15</td>\n",
              "      <td>First Class</td>\n",
              "      <td>SV-20365</td>\n",
              "      <td>Seth Vernon</td>\n",
              "      <td>Consumer</td>\n",
              "      <td>United States</td>\n",
              "      <td>Dover</td>\n",
              "      <td>...</td>\n",
              "      <td>Furniture</td>\n",
              "      <td>Furnishings</td>\n",
              "      <td>DAX Value U-Channel Document Frames, Easel Back</td>\n",
              "      <td>9.940</td>\n",
              "      <td>2</td>\n",
              "      <td>0.0</td>\n",
              "      <td>3.0814</td>\n",
              "      <td>12</td>\n",
              "      <td>2011</td>\n",
              "      <td>-320 days</td>\n",
              "    </tr>\n",
              "    <tr>\n",
              "      <th>961</th>\n",
              "      <td>962</td>\n",
              "      <td>CA-2012-160059</td>\n",
              "      <td>2012-11-27</td>\n",
              "      <td>2012-01-12</td>\n",
              "      <td>Standard Class</td>\n",
              "      <td>TB-21190</td>\n",
              "      <td>Thomas Brumley</td>\n",
              "      <td>Home Office</td>\n",
              "      <td>United States</td>\n",
              "      <td>Fayetteville</td>\n",
              "      <td>...</td>\n",
              "      <td>Office Supplies</td>\n",
              "      <td>Binders</td>\n",
              "      <td>Zipper Ring Binder Pockets</td>\n",
              "      <td>6.240</td>\n",
              "      <td>2</td>\n",
              "      <td>0.0</td>\n",
              "      <td>3.0576</td>\n",
              "      <td>11</td>\n",
              "      <td>2012</td>\n",
              "      <td>-320 days</td>\n",
              "    </tr>\n",
              "    <tr>\n",
              "      <th>2211</th>\n",
              "      <td>2212</td>\n",
              "      <td>CA-2013-162313</td>\n",
              "      <td>2013-11-28</td>\n",
              "      <td>2013-01-12</td>\n",
              "      <td>First Class</td>\n",
              "      <td>VB-21745</td>\n",
              "      <td>Victoria Brennan</td>\n",
              "      <td>Corporate</td>\n",
              "      <td>United States</td>\n",
              "      <td>Lincoln Park</td>\n",
              "      <td>...</td>\n",
              "      <td>Office Supplies</td>\n",
              "      <td>Appliances</td>\n",
              "      <td>Euro-Pro Shark Turbo Vacuum</td>\n",
              "      <td>167.292</td>\n",
              "      <td>6</td>\n",
              "      <td>0.1</td>\n",
              "      <td>29.7408</td>\n",
              "      <td>11</td>\n",
              "      <td>2013</td>\n",
              "      <td>-320 days</td>\n",
              "    </tr>\n",
              "    <tr>\n",
              "      <th>3475</th>\n",
              "      <td>3476</td>\n",
              "      <td>CA-2013-144911</td>\n",
              "      <td>2013-11-28</td>\n",
              "      <td>2013-01-12</td>\n",
              "      <td>First Class</td>\n",
              "      <td>RW-19630</td>\n",
              "      <td>Rob Williams</td>\n",
              "      <td>Corporate</td>\n",
              "      <td>United States</td>\n",
              "      <td>Overland Park</td>\n",
              "      <td>...</td>\n",
              "      <td>Technology</td>\n",
              "      <td>Accessories</td>\n",
              "      <td>Verbatim 25 GB 6x Blu-ray Single Layer Recorda...</td>\n",
              "      <td>34.950</td>\n",
              "      <td>5</td>\n",
              "      <td>0.0</td>\n",
              "      <td>15.3780</td>\n",
              "      <td>11</td>\n",
              "      <td>2013</td>\n",
              "      <td>-320 days</td>\n",
              "    </tr>\n",
              "    <tr>\n",
              "      <th>3476</th>\n",
              "      <td>3477</td>\n",
              "      <td>CA-2013-144911</td>\n",
              "      <td>2013-11-28</td>\n",
              "      <td>2013-01-12</td>\n",
              "      <td>First Class</td>\n",
              "      <td>RW-19630</td>\n",
              "      <td>Rob Williams</td>\n",
              "      <td>Corporate</td>\n",
              "      <td>United States</td>\n",
              "      <td>Overland Park</td>\n",
              "      <td>...</td>\n",
              "      <td>Office Supplies</td>\n",
              "      <td>Binders</td>\n",
              "      <td>Ibico Plastic Spiral Binding Combs</td>\n",
              "      <td>152.000</td>\n",
              "      <td>5</td>\n",
              "      <td>0.0</td>\n",
              "      <td>69.9200</td>\n",
              "      <td>11</td>\n",
              "      <td>2013</td>\n",
              "      <td>-320 days</td>\n",
              "    </tr>\n",
              "  </tbody>\n",
              "</table>\n",
              "<p>5 rows × 24 columns</p>\n",
              "</div>\n",
              "    <div class=\"colab-df-buttons\">\n",
              "\n",
              "  <div class=\"colab-df-container\">\n",
              "    <button class=\"colab-df-convert\" onclick=\"convertToInteractive('df-7ebaca2b-c8ee-436a-a930-a1004c94c2ab')\"\n",
              "            title=\"Convert this dataframe to an interactive table.\"\n",
              "            style=\"display:none;\">\n",
              "\n",
              "  <svg xmlns=\"http://www.w3.org/2000/svg\" height=\"24px\" viewBox=\"0 -960 960 960\">\n",
              "    <path d=\"M120-120v-720h720v720H120Zm60-500h600v-160H180v160Zm220 220h160v-160H400v160Zm0 220h160v-160H400v160ZM180-400h160v-160H180v160Zm440 0h160v-160H620v160ZM180-180h160v-160H180v160Zm440 0h160v-160H620v160Z\"/>\n",
              "  </svg>\n",
              "    </button>\n",
              "\n",
              "  <style>\n",
              "    .colab-df-container {\n",
              "      display:flex;\n",
              "      gap: 12px;\n",
              "    }\n",
              "\n",
              "    .colab-df-convert {\n",
              "      background-color: #E8F0FE;\n",
              "      border: none;\n",
              "      border-radius: 50%;\n",
              "      cursor: pointer;\n",
              "      display: none;\n",
              "      fill: #1967D2;\n",
              "      height: 32px;\n",
              "      padding: 0 0 0 0;\n",
              "      width: 32px;\n",
              "    }\n",
              "\n",
              "    .colab-df-convert:hover {\n",
              "      background-color: #E2EBFA;\n",
              "      box-shadow: 0px 1px 2px rgba(60, 64, 67, 0.3), 0px 1px 3px 1px rgba(60, 64, 67, 0.15);\n",
              "      fill: #174EA6;\n",
              "    }\n",
              "\n",
              "    .colab-df-buttons div {\n",
              "      margin-bottom: 4px;\n",
              "    }\n",
              "\n",
              "    [theme=dark] .colab-df-convert {\n",
              "      background-color: #3B4455;\n",
              "      fill: #D2E3FC;\n",
              "    }\n",
              "\n",
              "    [theme=dark] .colab-df-convert:hover {\n",
              "      background-color: #434B5C;\n",
              "      box-shadow: 0px 1px 3px 1px rgba(0, 0, 0, 0.15);\n",
              "      filter: drop-shadow(0px 1px 2px rgba(0, 0, 0, 0.3));\n",
              "      fill: #FFFFFF;\n",
              "    }\n",
              "  </style>\n",
              "\n",
              "    <script>\n",
              "      const buttonEl =\n",
              "        document.querySelector('#df-7ebaca2b-c8ee-436a-a930-a1004c94c2ab button.colab-df-convert');\n",
              "      buttonEl.style.display =\n",
              "        google.colab.kernel.accessAllowed ? 'block' : 'none';\n",
              "\n",
              "      async function convertToInteractive(key) {\n",
              "        const element = document.querySelector('#df-7ebaca2b-c8ee-436a-a930-a1004c94c2ab');\n",
              "        const dataTable =\n",
              "          await google.colab.kernel.invokeFunction('convertToInteractive',\n",
              "                                                    [key], {});\n",
              "        if (!dataTable) return;\n",
              "\n",
              "        const docLinkHtml = 'Like what you see? Visit the ' +\n",
              "          '<a target=\"_blank\" href=https://colab.research.google.com/notebooks/data_table.ipynb>data table notebook</a>'\n",
              "          + ' to learn more about interactive tables.';\n",
              "        element.innerHTML = '';\n",
              "        dataTable['output_type'] = 'display_data';\n",
              "        await google.colab.output.renderOutput(dataTable, element);\n",
              "        const docLink = document.createElement('div');\n",
              "        docLink.innerHTML = docLinkHtml;\n",
              "        element.appendChild(docLink);\n",
              "      }\n",
              "    </script>\n",
              "  </div>\n",
              "\n",
              "\n",
              "<div id=\"df-74d1e1c5-3a1a-49da-8878-4e1a991e409b\">\n",
              "  <button class=\"colab-df-quickchart\" onclick=\"quickchart('df-74d1e1c5-3a1a-49da-8878-4e1a991e409b')\"\n",
              "            title=\"Suggest charts.\"\n",
              "            style=\"display:none;\">\n",
              "\n",
              "<svg xmlns=\"http://www.w3.org/2000/svg\" height=\"24px\"viewBox=\"0 0 24 24\"\n",
              "     width=\"24px\">\n",
              "    <g>\n",
              "        <path d=\"M19 3H5c-1.1 0-2 .9-2 2v14c0 1.1.9 2 2 2h14c1.1 0 2-.9 2-2V5c0-1.1-.9-2-2-2zM9 17H7v-7h2v7zm4 0h-2V7h2v10zm4 0h-2v-4h2v4z\"/>\n",
              "    </g>\n",
              "</svg>\n",
              "  </button>\n",
              "\n",
              "<style>\n",
              "  .colab-df-quickchart {\n",
              "      --bg-color: #E8F0FE;\n",
              "      --fill-color: #1967D2;\n",
              "      --hover-bg-color: #E2EBFA;\n",
              "      --hover-fill-color: #174EA6;\n",
              "      --disabled-fill-color: #AAA;\n",
              "      --disabled-bg-color: #DDD;\n",
              "  }\n",
              "\n",
              "  [theme=dark] .colab-df-quickchart {\n",
              "      --bg-color: #3B4455;\n",
              "      --fill-color: #D2E3FC;\n",
              "      --hover-bg-color: #434B5C;\n",
              "      --hover-fill-color: #FFFFFF;\n",
              "      --disabled-bg-color: #3B4455;\n",
              "      --disabled-fill-color: #666;\n",
              "  }\n",
              "\n",
              "  .colab-df-quickchart {\n",
              "    background-color: var(--bg-color);\n",
              "    border: none;\n",
              "    border-radius: 50%;\n",
              "    cursor: pointer;\n",
              "    display: none;\n",
              "    fill: var(--fill-color);\n",
              "    height: 32px;\n",
              "    padding: 0;\n",
              "    width: 32px;\n",
              "  }\n",
              "\n",
              "  .colab-df-quickchart:hover {\n",
              "    background-color: var(--hover-bg-color);\n",
              "    box-shadow: 0 1px 2px rgba(60, 64, 67, 0.3), 0 1px 3px 1px rgba(60, 64, 67, 0.15);\n",
              "    fill: var(--button-hover-fill-color);\n",
              "  }\n",
              "\n",
              "  .colab-df-quickchart-complete:disabled,\n",
              "  .colab-df-quickchart-complete:disabled:hover {\n",
              "    background-color: var(--disabled-bg-color);\n",
              "    fill: var(--disabled-fill-color);\n",
              "    box-shadow: none;\n",
              "  }\n",
              "\n",
              "  .colab-df-spinner {\n",
              "    border: 2px solid var(--fill-color);\n",
              "    border-color: transparent;\n",
              "    border-bottom-color: var(--fill-color);\n",
              "    animation:\n",
              "      spin 1s steps(1) infinite;\n",
              "  }\n",
              "\n",
              "  @keyframes spin {\n",
              "    0% {\n",
              "      border-color: transparent;\n",
              "      border-bottom-color: var(--fill-color);\n",
              "      border-left-color: var(--fill-color);\n",
              "    }\n",
              "    20% {\n",
              "      border-color: transparent;\n",
              "      border-left-color: var(--fill-color);\n",
              "      border-top-color: var(--fill-color);\n",
              "    }\n",
              "    30% {\n",
              "      border-color: transparent;\n",
              "      border-left-color: var(--fill-color);\n",
              "      border-top-color: var(--fill-color);\n",
              "      border-right-color: var(--fill-color);\n",
              "    }\n",
              "    40% {\n",
              "      border-color: transparent;\n",
              "      border-right-color: var(--fill-color);\n",
              "      border-top-color: var(--fill-color);\n",
              "    }\n",
              "    60% {\n",
              "      border-color: transparent;\n",
              "      border-right-color: var(--fill-color);\n",
              "    }\n",
              "    80% {\n",
              "      border-color: transparent;\n",
              "      border-right-color: var(--fill-color);\n",
              "      border-bottom-color: var(--fill-color);\n",
              "    }\n",
              "    90% {\n",
              "      border-color: transparent;\n",
              "      border-bottom-color: var(--fill-color);\n",
              "    }\n",
              "  }\n",
              "</style>\n",
              "\n",
              "  <script>\n",
              "    async function quickchart(key) {\n",
              "      const quickchartButtonEl =\n",
              "        document.querySelector('#' + key + ' button');\n",
              "      quickchartButtonEl.disabled = true;  // To prevent multiple clicks.\n",
              "      quickchartButtonEl.classList.add('colab-df-spinner');\n",
              "      try {\n",
              "        const charts = await google.colab.kernel.invokeFunction(\n",
              "            'suggestCharts', [key], {});\n",
              "      } catch (error) {\n",
              "        console.error('Error during call to suggestCharts:', error);\n",
              "      }\n",
              "      quickchartButtonEl.classList.remove('colab-df-spinner');\n",
              "      quickchartButtonEl.classList.add('colab-df-quickchart-complete');\n",
              "    }\n",
              "    (() => {\n",
              "      let quickchartButtonEl =\n",
              "        document.querySelector('#df-74d1e1c5-3a1a-49da-8878-4e1a991e409b button');\n",
              "      quickchartButtonEl.style.display =\n",
              "        google.colab.kernel.accessAllowed ? 'block' : 'none';\n",
              "    })();\n",
              "  </script>\n",
              "</div>\n",
              "    </div>\n",
              "  </div>\n"
            ]
          },
          "metadata": {},
          "execution_count": 78
        }
      ],
      "source": [
        "from datetime import timedelta\n",
        "ss[ss['delivery time'] == timedelta(days=-320)].head()"
      ]
    },
    {
      "cell_type": "code",
      "execution_count": 79,
      "metadata": {
        "id": "zqYbpy4zJvxC",
        "outputId": "9ca4d366-bd02-4b30-d4a6-9aa61f29b547",
        "colab": {
          "base_uri": "https://localhost:8080/"
        }
      },
      "outputs": [
        {
          "output_type": "stream",
          "name": "stderr",
          "text": [
            "/usr/local/lib/python3.10/dist-packages/ipykernel/ipkernel.py:283: DeprecationWarning: `should_run_async` will not call `transform_cell` automatically in the future. Please pass the result to `transformed_cell` argument and any exception that happen during thetransform in `preprocessing_exc_tuple` in IPython 7.17 and above.\n",
            "  and should_run_async(code)\n"
          ]
        },
        {
          "output_type": "execute_result",
          "data": {
            "text/plain": [
              "count    9994.000000\n",
              "mean       60.166900\n",
              "std        75.469705\n",
              "min         0.000000\n",
              "25%         4.000000\n",
              "50%         7.000000\n",
              "75%       120.000000\n",
              "max       320.000000\n",
              "Name: delivery time, dtype: float64"
            ]
          },
          "metadata": {},
          "execution_count": 79
        }
      ],
      "source": [
        "ss['delivery time'] = ss['delivery time'].abs() / np.timedelta64(1, 'D')\n",
        "ss['delivery time'].describe()"
      ]
    },
    {
      "cell_type": "markdown",
      "source": [
        "## Delivery time by segment"
      ],
      "metadata": {
        "id": "afm3wC6oth1j"
      }
    },
    {
      "cell_type": "code",
      "source": [
        "Segment_Del = ss.groupby(\"Segment\")[\"delivery time\"].mean().to_frame().reset_index()\n",
        "plt.figure(figsize=(12,6))\n",
        "plt.bar(Segment_Del['Segment'],Segment_Del['delivery time'])\n",
        "plt.xlabel('Segment')\n",
        "plt.ylabel('Delivery Time (Days)')\n",
        "plt.title('Bar Chart: Segment vs. Delivery Time')\n",
        "for index, value in enumerate(Segment_Del['delivery time']):\n",
        "    plt.text(index, value, f'{value:.2f}', ha='center', va='bottom', fontsize=10)\n",
        "plt.show()"
      ],
      "metadata": {
        "id": "irS1UHe8zRXD",
        "outputId": "a3434644-73be-44dd-fe71-c0b4b4ded3c9",
        "colab": {
          "base_uri": "https://localhost:8080/",
          "height": 0
        }
      },
      "execution_count": 80,
      "outputs": [
        {
          "output_type": "stream",
          "name": "stderr",
          "text": [
            "/usr/local/lib/python3.10/dist-packages/ipykernel/ipkernel.py:283: DeprecationWarning: `should_run_async` will not call `transform_cell` automatically in the future. Please pass the result to `transformed_cell` argument and any exception that happen during thetransform in `preprocessing_exc_tuple` in IPython 7.17 and above.\n",
            "  and should_run_async(code)\n"
          ]
        },
        {
          "output_type": "display_data",
          "data": {
            "text/plain": [
              "<Figure size 1200x600 with 1 Axes>"
            ],
            "image/png": "[encoded data removed]"
          },
          "metadata": {}
        }
      ]
    },
    {
      "cell_type": "markdown",
      "source": [
        "Every customer segementation have long delivery time (around 60 days). we suggest to outsource delivery company or optimize route to decrease delivery time."
      ],
      "metadata": {
        "id": "FrF2cF1J9maQ"
      }
    },
    {
      "cell_type": "markdown",
      "source": [
        "## Delivery time by Ship Mode"
      ],
      "metadata": {
        "id": "geHNvzoTtuSX"
      }
    },
    {
      "cell_type": "code",
      "source": [
        "Segment_Del = ss.groupby(\"Ship Mode\")[\"delivery time\"].mean().to_frame().reset_index()\n",
        "plt.figure(figsize=(12,6))\n",
        "plt.bar(Segment_Del['Ship Mode'], Segment_Del['delivery time'])\n",
        "plt.xlabel('Ship Mode')\n",
        "plt.ylabel('Delivery Time (Days)')\n",
        "plt.title('Bar Chart: Ship Mode vs. Delivery Time')\n",
        "for index, value in enumerate(Segment_Del['delivery time']):\n",
        "    plt.text(index, value, f'{value:.2f}', ha='center', va='bottom', fontsize=10)\n",
        "plt.show()"
      ],
      "metadata": {
        "id": "H7xr9S0t5bNI",
        "outputId": "ea1098d2-5214-4fd0-bd0c-6c543c9aee01",
        "colab": {
          "base_uri": "https://localhost:8080/",
          "height": 0
        }
      },
      "execution_count": 81,
      "outputs": [
        {
          "output_type": "stream",
          "name": "stderr",
          "text": [
            "/usr/local/lib/python3.10/dist-packages/ipykernel/ipkernel.py:283: DeprecationWarning: `should_run_async` will not call `transform_cell` automatically in the future. Please pass the result to `transformed_cell` argument and any exception that happen during thetransform in `preprocessing_exc_tuple` in IPython 7.17 and above.\n",
            "  and should_run_async(code)\n"
          ]
        },
        {
          "output_type": "display_data",
          "data": {
            "text/plain": [
              "<Figure size 1200x600 with 1 Axes>"
            ],
            "image/png": "[encoded data removed]"
          },
          "metadata": {}
        }
      ]
    },
    {
      "cell_type": "markdown",
      "source": [
        "Same day type has more than 1 day delivery time. There must be a problem in shipping supply chain. Other types of shipping have too much delivery time when compare to UPS company which is less than 10 business days."
      ],
      "metadata": {
        "id": "WnyUA9ApG1J9"
      }
    },
    {
      "cell_type": "markdown",
      "source": [
        "## Delivery time by Region"
      ],
      "metadata": {
        "id": "sZI_7EHBt_Wa"
      }
    },
    {
      "cell_type": "code",
      "source": [
        "Segment_Del = ss.groupby(\"Region\")[\"delivery time\"].mean().to_frame().reset_index()\n",
        "plt.figure(figsize=(12,6))\n",
        "plt.bar(Segment_Del['Region'], Segment_Del['delivery time'])\n",
        "plt.xlabel('Region')\n",
        "plt.ylabel('Delivery Time (Days)')\n",
        "plt.title('Bar Chart: Region vs. Delivery Time')\n",
        "for index, value in enumerate(Segment_Del['delivery time']):\n",
        "    plt.text(index, value, f'{value:.2f}', ha='center', va='bottom', fontsize=10)\n",
        "plt.show()"
      ],
      "metadata": {
        "id": "uwtJY76cHuFa",
        "outputId": "b68dd0dd-f63e-406d-9ee2-605c3e7d1eb3",
        "colab": {
          "base_uri": "https://localhost:8080/",
          "height": 0
        }
      },
      "execution_count": 82,
      "outputs": [
        {
          "output_type": "stream",
          "name": "stderr",
          "text": [
            "/usr/local/lib/python3.10/dist-packages/ipykernel/ipkernel.py:283: DeprecationWarning: `should_run_async` will not call `transform_cell` automatically in the future. Please pass the result to `transformed_cell` argument and any exception that happen during thetransform in `preprocessing_exc_tuple` in IPython 7.17 and above.\n",
            "  and should_run_async(code)\n"
          ]
        },
        {
          "output_type": "display_data",
          "data": {
            "text/plain": [
              "<Figure size 1200x600 with 1 Axes>"
            ],
            "image/png": "[encoded data removed]"
          },
          "metadata": {}
        }
      ]
    },
    {
      "cell_type": "markdown",
      "source": [
        "## Delivery time by City"
      ],
      "metadata": {
        "id": "H0yo4Jz2uIUD"
      }
    },
    {
      "cell_type": "code",
      "source": [
        "Segment_Del = ss.groupby(\"City\")[\"delivery time\"].mean().to_frame().reset_index().sort_values(by=[\"delivery time\"],ascending=False).head()\n",
        "plt.figure(figsize=(12,6))\n",
        "plt.bar(Segment_Del['City'], Segment_Del['delivery time'])\n",
        "plt.xlabel('City')\n",
        "plt.ylabel('Delivery Time (Days)')\n",
        "plt.title('Bar Chart: City vs. Delivery Time')\n",
        "for index, value in enumerate(Segment_Del['delivery time']):\n",
        "    plt.text(index, value, f'{value:.2f}', ha='center', va='bottom', fontsize=10)\n",
        "plt.show()"
      ],
      "metadata": {
        "id": "MZ0ay-nwD52h",
        "outputId": "d1e239a8-5f51-4bbb-853b-392fd66e6937",
        "colab": {
          "base_uri": "https://localhost:8080/",
          "height": 0
        }
      },
      "execution_count": 83,
      "outputs": [
        {
          "output_type": "stream",
          "name": "stderr",
          "text": [
            "/usr/local/lib/python3.10/dist-packages/ipykernel/ipkernel.py:283: DeprecationWarning: `should_run_async` will not call `transform_cell` automatically in the future. Please pass the result to `transformed_cell` argument and any exception that happen during thetransform in `preprocessing_exc_tuple` in IPython 7.17 and above.\n",
            "  and should_run_async(code)\n"
          ]
        },
        {
          "output_type": "display_data",
          "data": {
            "text/plain": [
              "<Figure size 1200x600 with 1 Axes>"
            ],
            "image/png": "[encoded data removed]"
          },
          "metadata": {}
        }
      ]
    },
    {
      "cell_type": "markdown",
      "source": [
        "There is the big problem in deliver item in these 5 citys. We recommend\n",
        "\n",
        "**Optimize Supply Chain**: Review and optimize your supply chain processes. Look for ways to reduce lead times in sourcing materials, manufacturing, and distribution. Streamline operations to eliminate bottlenecks.\n",
        "\n",
        "\n",
        "**Route Optimization**: Use route optimization software for deliveries to minimize travel time and fuel costs. Ensure efficient routing for your delivery vehicles.\n",
        "\n",
        "**Warehouse Efficiency**: Optimize your warehouse layout and operations for faster order picking and packing. Implement automation and technology where applicable to reduce manual handling.\n",
        "\n",
        "**Supplier Relationships**: Build strong relationships with suppliers and negotiate for shorter lead times. Consider multiple suppliers to reduce dependence on a single source.\n",
        "\n",
        "**Forecasting**: Improve demand forecasting accuracy to plan production and delivery schedules more effectively. This will help you avoid overproduction or underproduction.\n",
        "\n",
        "**Technology**: Invest in modern inventory management systems, order tracking systems, and other technologies that can provide real-time insights and streamline processes.\n",
        "\n",
        "**Emergency Response Plan**: Have a plan in place for dealing with unexpected disruptions, such as natural disasters or strikes, which can impact delivery times.\n",
        "\n",
        "**Outsourcing**: Consider outsourcing certain aspects of your delivery process to specialized logistics companies if it can lead to faster and more reliable delivery.\n",
        "\n"
      ],
      "metadata": {
        "id": "I2O7Ur_TIhRO"
      }
    },
    {
      "cell_type": "code",
      "source": [
        "Segment_Del = ss.groupby(\"City\")[\"delivery time\"].mean().to_frame().reset_index().sort_values(by=[\"delivery time\"],ascending=True).head(10)\n",
        "plt.figure(figsize=(12,6))\n",
        "plt.bar(Segment_Del['City'], Segment_Del['delivery time'])\n",
        "plt.xlabel('City')\n",
        "plt.ylabel('Delivery Time (Days)')\n",
        "plt.title('Bar Chart: City vs. Delivery Time')\n",
        "for index, value in enumerate(Segment_Del['delivery time']):\n",
        "    plt.text(index, value, f'{value:.2f}', ha='center', va='bottom', fontsize=10)\n",
        "plt.show()"
      ],
      "metadata": {
        "id": "sAUVQR6TEb71",
        "outputId": "9c513643-0406-4210-93d4-262779599236",
        "colab": {
          "base_uri": "https://localhost:8080/",
          "height": 0
        }
      },
      "execution_count": 84,
      "outputs": [
        {
          "output_type": "stream",
          "name": "stderr",
          "text": [
            "/usr/local/lib/python3.10/dist-packages/ipykernel/ipkernel.py:283: DeprecationWarning: `should_run_async` will not call `transform_cell` automatically in the future. Please pass the result to `transformed_cell` argument and any exception that happen during thetransform in `preprocessing_exc_tuple` in IPython 7.17 and above.\n",
            "  and should_run_async(code)\n"
          ]
        },
        {
          "output_type": "display_data",
          "data": {
            "text/plain": [
              "<Figure size 1200x600 with 1 Axes>"
            ],
            "image/png": "[encoded data removed]"
          },
          "metadata": {}
        }
      ]
    },
    {
      "cell_type": "code",
      "source": [
        "ss.columns"
      ],
      "metadata": {
        "id": "E6WCJ6icEvpF",
        "outputId": "6c6eafcd-0dff-44a3-e35a-b5911319bbdd",
        "colab": {
          "base_uri": "https://localhost:8080/"
        }
      },
      "execution_count": 85,
      "outputs": [
        {
          "output_type": "stream",
          "name": "stderr",
          "text": [
            "/usr/local/lib/python3.10/dist-packages/ipykernel/ipkernel.py:283: DeprecationWarning: `should_run_async` will not call `transform_cell` automatically in the future. Please pass the result to `transformed_cell` argument and any exception that happen during thetransform in `preprocessing_exc_tuple` in IPython 7.17 and above.\n",
            "  and should_run_async(code)\n"
          ]
        },
        {
          "output_type": "execute_result",
          "data": {
            "text/plain": [
              "Index(['Row ID', 'Order ID', 'Order Date', 'Ship Date', 'Ship Mode',\n",
              "       'Customer ID', 'Customer Name', 'Segment', 'Country', 'City', 'State',\n",
              "       'Postal Code', 'Region', 'Product ID', 'Category', 'Sub-Category',\n",
              "       'Product Name', 'Sales', 'Quantity', 'Discount', 'Profit',\n",
              "       'Order Month', 'Order Year', 'delivery time'],\n",
              "      dtype='object')"
            ]
          },
          "metadata": {},
          "execution_count": 85
        }
      ]
    },
    {
      "cell_type": "code",
      "source": [
        "import seaborn as sns\n",
        "\n",
        "sns.boxplot(data=ss ,x='Category' ,y='delivery time')\n",
        "plt.show()"
      ],
      "metadata": {
        "id": "DMoGAQTST-pd",
        "outputId": "68cd114b-eb8c-40ff-90d8-3c5f68fd0853",
        "colab": {
          "base_uri": "https://localhost:8080/",
          "height": 0
        }
      },
      "execution_count": 86,
      "outputs": [
        {
          "output_type": "stream",
          "name": "stderr",
          "text": [
            "/usr/local/lib/python3.10/dist-packages/ipykernel/ipkernel.py:283: DeprecationWarning: `should_run_async` will not call `transform_cell` automatically in the future. Please pass the result to `transformed_cell` argument and any exception that happen during thetransform in `preprocessing_exc_tuple` in IPython 7.17 and above.\n",
            "  and should_run_async(code)\n"
          ]
        },
        {
          "output_type": "display_data",
          "data": {
            "text/plain": [
              "<Figure size 640x480 with 1 Axes>"
            ],
            "image/png": "[encoded data removed]"
          },
          "metadata": {}
        }
      ]
    },
    {
      "cell_type": "markdown",
      "source": [
        "Seem 3 categories have same distribution. There are some of outliers. Let'see ...."
      ],
      "metadata": {
        "id": "IzQ7c004WDH4"
      }
    },
    {
      "cell_type": "code",
      "source": [
        "Segment_Del = ss.groupby(\"Product Name\")[\"delivery time\"].mean().to_frame().reset_index().sort_values(by=[\"delivery time\"],ascending=False).head(10)\n",
        "plt.figure(figsize=(12,6))\n",
        "plt.barh(Segment_Del['Product Name'], Segment_Del['delivery time'])\n",
        "plt.xlabel('Product Name')\n",
        "plt.ylabel('Delivery Time (Days)')\n",
        "plt.title('Bar Chart: Product Name vs. Delivery Time')\n",
        "plt.show()"
      ],
      "metadata": {
        "id": "MFtXh2QtuV3m",
        "outputId": "a50beeeb-98a1-496e-81d0-bf995ed4010c",
        "colab": {
          "base_uri": "https://localhost:8080/",
          "height": 0
        }
      },
      "execution_count": 87,
      "outputs": [
        {
          "output_type": "stream",
          "name": "stderr",
          "text": [
            "/usr/local/lib/python3.10/dist-packages/ipykernel/ipkernel.py:283: DeprecationWarning: `should_run_async` will not call `transform_cell` automatically in the future. Please pass the result to `transformed_cell` argument and any exception that happen during thetransform in `preprocessing_exc_tuple` in IPython 7.17 and above.\n",
            "  and should_run_async(code)\n"
          ]
        },
        {
          "output_type": "display_data",
          "data": {
            "text/plain": [
              "<Figure size 1200x600 with 1 Axes>"
            ],
            "image/png": "[encoded data removed]"
          },
          "metadata": {}
        }
      ]
    },
    {
      "cell_type": "markdown",
      "source": [
        "Sales and Demand Metrics:\n",
        "\n",
        "**Total Sales**: Monitor the overall revenue generated by the superstore.\n",
        "Sales by Product Category: Analyze sales performance across different product categories (e.g., electronics, clothing, furniture).\n",
        "Sales by Location: Compare sales data across different store locations.\n",
        "Sales Trends: Identify seasonal patterns and trends in sales to optimize inventory and staffing.\n",
        "Inventory Metrics:\n",
        "\n",
        "**Inventory Turnover**: Calculate how quickly products are sold and replaced on the shelves.\n",
        "Stockout Rate: Measure the percentage of times a product is out of stock when a customer wants to purchase it.\n",
        "Days of Inventory on Hand (DOI): Determine the average number of days inventory is held before being sold.\n",
        "Slow-Moving and Obsolete Inventory: Identify products that are not selling well or are outdated, as they tie up capital and storage space.\n",
        "Supplier Metrics:\n",
        "\n",
        "**Supplier Performance**: Evaluate the reliability, quality, and timeliness of product deliveries from different suppliers.\n",
        "Supplier Lead Time: Analyze the time it takes for products to be delivered after an order is placed.\n",
        "Customer Metrics:\n",
        "\n",
        "**Customer Satisfaction**: Use feedback surveys or ratings to gauge customer satisfaction with the store's products and services.\n",
        "Customer Loyalty: Measure repeat purchases and customer retention rates.\n",
        "Average Transaction Value: Calculate the average amount spent by each customer per transaction.\n",
        "Operational Metrics:\n",
        "\n",
        "**Order Fulfillment Time**: Measure the time it takes to process an order from placement to delivery.\n",
        "Return Rate: Evaluate the percentage of products that are returned by customers due to defects, dissatisfaction, or other reasons.\n",
        "Store Shelf Replenishment: Analyze how quickly products are restocked on the store shelves to prevent stockouts.\n",
        "Store Performance Metrics:\n",
        "\n",
        "**Store Traffic**: Measure foot traffic in the store to understand peak hours and days.\n",
        "**Conversion Rate**: Calculate the percentage of store visitors who make a purchase.\n",
        "Average Checkout Time: Assess the time customers spend waiting in line to check out.\n",
        "Promotion and Marketing Metrics:\n",
        "\n",
        "**Effectiveness of Promotions**: Analyze the impact of marketing campaigns and promotions on sales.\n",
        "Coupon Redemption Rate: Measure how often customers use coupons or discounts.\n",
        "Profitability Metrics:\n",
        "\n",
        "**Gross Margin**: Calculate the difference between revenue and the cost of goods sold, expressed as a percentage.\n",
        "**Net Profit**: Assess the overall profitability of the store after deducting all expenses"
      ],
      "metadata": {
        "id": "I0H5EuddMIw3"
      }
    },
    {
      "cell_type": "code",
      "source": [],
      "metadata": {
        "id": "uKla-_AIMadL",
        "outputId": "b9111710-f6f6-42fb-e1e3-8f7a64743465",
        "colab": {
          "base_uri": "https://localhost:8080/"
        }
      },
      "execution_count": 87,
      "outputs": [
        {
          "output_type": "stream",
          "name": "stderr",
          "text": [
            "/usr/local/lib/python3.10/dist-packages/ipykernel/ipkernel.py:283: DeprecationWarning: `should_run_async` will not call `transform_cell` automatically in the future. Please pass the result to `transformed_cell` argument and any exception that happen during thetransform in `preprocessing_exc_tuple` in IPython 7.17 and above.\n",
            "  and should_run_async(code)\n"
          ]
        }
      ]
    }
  ],
  "metadata": {
    "kernelspec": {
      "display_name": "Python 3",
      "language": "python",
      "name": "python3"
    },
    "language_info": {
      "codemirror_mode": {
        "name": "ipython",
        "version": 3
      },
      "file_extension": ".py",
      "mimetype": "text/x-python",
      "name": "python",
      "nbconvert_exporter": "python",
      "pygments_lexer": "ipython3",
      "version": "3.8.3"
    },
    "colab": {
      "provenance": []
    }
  },
  "nbformat": 4,
  "nbformat_minor": 0
}