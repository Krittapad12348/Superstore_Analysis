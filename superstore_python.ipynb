{
  "cells": [
    {
      "cell_type": "code",
      "execution_count": null,
      "metadata": {
        "id": "HdZX8YtRJvw5",
        "outputId": "ac466191-cfb8-4fab-8548-df4a6a35e01a",
        "colab": {
          "base_uri": "https://localhost:8080/"
        }
      },
      "outputs": [
        {
          "output_type": "stream",
          "name": "stderr",
          "text": [
            "/usr/local/lib/python3.10/dist-packages/ipykernel/ipkernel.py:283: DeprecationWarning: `should_run_async` will not call `transform_cell` automatically in the future. Please pass the result to `transformed_cell` argument and any exception that happen during thetransform in `preprocessing_exc_tuple` in IPython 7.17 and above.\n",
            "  and should_run_async(code)\n"
          ]
        }
      ],
      "source": [
        "import pandas as pd\n",
        "import numpy as np\n",
        "import matplotlib.pyplot as plt\n",
        "%matplotlib inline"
      ]
    },
    {
      "cell_type": "markdown",
      "metadata": {
        "id": "zcyi7BnvJvw7"
      },
      "source": [
        "Data from 2011 - 2014"
      ]
    },
    {
      "cell_type": "code",
      "execution_count": null,
      "metadata": {
        "id": "XEtSwC5iJvw8",
        "outputId": "4356f61b-c6a8-42f9-d166-4d3841190a4e",
        "colab": {
          "base_uri": "https://localhost:8080/"
        }
      },
      "outputs": [
        {
          "output_type": "stream",
          "name": "stderr",
          "text": [
            "/usr/local/lib/python3.10/dist-packages/ipykernel/ipkernel.py:283: DeprecationWarning: `should_run_async` will not call `transform_cell` automatically in the future. Please pass the result to `transformed_cell` argument and any exception that happen during thetransform in `preprocessing_exc_tuple` in IPython 7.17 and above.\n",
            "  and should_run_async(code)\n"
          ]
        },
        {
          "output_type": "stream",
          "name": "stdout",
          "text": [
            "Requirement already satisfied: chardet in /usr/local/lib/python3.10/dist-packages (5.2.0)\n"
          ]
        }
      ],
      "source": [
        "%pip install chardet"
      ]
    },
    {
      "cell_type": "code",
      "execution_count": null,
      "metadata": {
        "id": "I14Ak-ioJvw9",
        "outputId": "d45e43b0-e12b-4231-dfca-2f63900b62a6",
        "colab": {
          "base_uri": "https://localhost:8080/"
        }
      },
      "outputs": [
        {
          "output_type": "stream",
          "name": "stderr",
          "text": [
            "/usr/local/lib/python3.10/dist-packages/ipykernel/ipkernel.py:283: DeprecationWarning: `should_run_async` will not call `transform_cell` automatically in the future. Please pass the result to `transformed_cell` argument and any exception that happen during thetransform in `preprocessing_exc_tuple` in IPython 7.17 and above.\n",
            "  and should_run_async(code)\n"
          ]
        },
        {
          "output_type": "stream",
          "name": "stdout",
          "text": [
            "Detected encoding: Windows-1252\n"
          ]
        }
      ],
      "source": [
        "import chardet\n",
        "file_path = 'Superstore.csv'\n",
        "def detect_encoding(file_path):\n",
        "    with open(file_path, 'rb') as f:\n",
        "        raw_data = f.read()\n",
        "        result = chardet.detect(raw_data)\n",
        "    return result['encoding']\n",
        "\n",
        "detected_encoding = detect_encoding(file_path)\n",
        "print(f\"Detected encoding: {detected_encoding}\")\n"
      ]
    },
    {
      "cell_type": "code",
      "execution_count": null,
      "metadata": {
        "id": "YH8eumDGJvw-",
        "outputId": "98a17169-8486-4ffc-833c-89f9b7f362a8",
        "colab": {
          "base_uri": "https://localhost:8080/",
          "height": 620
        }
      },
      "outputs": [
        {
          "output_type": "stream",
          "name": "stderr",
          "text": [
            "/usr/local/lib/python3.10/dist-packages/ipykernel/ipkernel.py:283: DeprecationWarning: `should_run_async` will not call `transform_cell` automatically in the future. Please pass the result to `transformed_cell` argument and any exception that happen during thetransform in `preprocessing_exc_tuple` in IPython 7.17 and above.\n",
            "  and should_run_async(code)\n"
          ]
        },
        {
          "output_type": "execute_result",
          "data": {
            "text/plain": [
              "   Row ID        Order ID  Order Date   Ship Date       Ship Mode Customer ID  \\\n",
              "0       1  CA-2013-152156  09-11-2013  12-11-2013    Second Class    CG-12520   \n",
              "1       2  CA-2013-152156  09-11-2013  12-11-2013    Second Class    CG-12520   \n",
              "2       3  CA-2013-138688  13-06-2013  17-06-2013    Second Class    DV-13045   \n",
              "3       4  US-2012-108966  11-10-2012  18-10-2012  Standard Class    SO-20335   \n",
              "4       5  US-2012-108966  11-10-2012  18-10-2012  Standard Class    SO-20335   \n",
              "\n",
              "     Customer Name    Segment        Country             City  ...  \\\n",
              "0      Claire Gute   Consumer  United States        Henderson  ...   \n",
              "1      Claire Gute   Consumer  United States        Henderson  ...   \n",
              "2  Darrin Van Huff  Corporate  United States      Los Angeles  ...   \n",
              "3   Sean O'Donnell   Consumer  United States  Fort Lauderdale  ...   \n",
              "4   Sean O'Donnell   Consumer  United States  Fort Lauderdale  ...   \n",
              "\n",
              "  Postal Code  Region       Product ID         Category Sub-Category  \\\n",
              "0       42420   South  FUR-BO-10001798        Furniture    Bookcases   \n",
              "1       42420   South  FUR-CH-10000454        Furniture       Chairs   \n",
              "2       90036    West  OFF-LA-10000240  Office Supplies       Labels   \n",
              "3       33311   South  FUR-TA-10000577        Furniture       Tables   \n",
              "4       33311   South  OFF-ST-10000760  Office Supplies      Storage   \n",
              "\n",
              "                                        Product Name     Sales  Quantity  \\\n",
              "0                  Bush Somerset Collection Bookcase  261.9600         2   \n",
              "1  Hon Deluxe Fabric Upholstered Stacking Chairs,...  731.9400         3   \n",
              "2  Self-Adhesive Address Labels for Typewriters b...   14.6200         2   \n",
              "3      Bretford CR4500 Series Slim Rectangular Table  957.5775         5   \n",
              "4                     Eldon Fold 'N Roll Cart System   22.3680         2   \n",
              "\n",
              "   Discount    Profit  \n",
              "0      0.00   41.9136  \n",
              "1      0.00  219.5820  \n",
              "2      0.00    6.8714  \n",
              "3      0.45 -383.0310  \n",
              "4      0.20    2.5164  \n",
              "\n",
              "[5 rows x 21 columns]"
            ],
            "text/html": [
              "\n",
              "  <div id=\"df-3c1860ce-60a1-407d-8159-a932af08bab4\" class=\"colab-df-container\">\n",
              "    <div>\n",
              "<style scoped>\n",
              "    .dataframe tbody tr th:only-of-type {\n",
              "        vertical-align: middle;\n",
              "    }\n",
              "\n",
              "    .dataframe tbody tr th {\n",
              "        vertical-align: top;\n",
              "    }\n",
              "\n",
              "    .dataframe thead th {\n",
              "        text-align: right;\n",
              "    }\n",
              "</style>\n",
              "<table border=\"1\" class=\"dataframe\">\n",
              "  <thead>\n",
              "    <tr style=\"text-align: right;\">\n",
              "      <th></th>\n",
              "      <th>Row ID</th>\n",
              "      <th>Order ID</th>\n",
              "      <th>Order Date</th>\n",
              "      <th>Ship Date</th>\n",
              "      <th>Ship Mode</th>\n",
              "      <th>Customer ID</th>\n",
              "      <th>Customer Name</th>\n",
              "      <th>Segment</th>\n",
              "      <th>Country</th>\n",
              "      <th>City</th>\n",
              "      <th>...</th>\n",
              "      <th>Postal Code</th>\n",
              "      <th>Region</th>\n",
              "      <th>Product ID</th>\n",
              "      <th>Category</th>\n",
              "      <th>Sub-Category</th>\n",
              "      <th>Product Name</th>\n",
              "      <th>Sales</th>\n",
              "      <th>Quantity</th>\n",
              "      <th>Discount</th>\n",
              "      <th>Profit</th>\n",
              "    </tr>\n",
              "  </thead>\n",
              "  <tbody>\n",
              "    <tr>\n",
              "      <th>0</th>\n",
              "      <td>1</td>\n",
              "      <td>CA-2013-152156</td>\n",
              "      <td>09-11-2013</td>\n",
              "      <td>12-11-2013</td>\n",
              "      <td>Second Class</td>\n",
              "      <td>CG-12520</td>\n",
              "      <td>Claire Gute</td>\n",
              "      <td>Consumer</td>\n",
              "      <td>United States</td>\n",
              "      <td>Henderson</td>\n",
              "      <td>...</td>\n",
              "      <td>42420</td>\n",
              "      <td>South</td>\n",
              "      <td>FUR-BO-10001798</td>\n",
              "      <td>Furniture</td>\n",
              "      <td>Bookcases</td>\n",
              "      <td>Bush Somerset Collection Bookcase</td>\n",
              "      <td>261.9600</td>\n",
              "      <td>2</td>\n",
              "      <td>0.00</td>\n",
              "      <td>41.9136</td>\n",
              "    </tr>\n",
              "    <tr>\n",
              "      <th>1</th>\n",
              "      <td>2</td>\n",
              "      <td>CA-2013-152156</td>\n",
              "      <td>09-11-2013</td>\n",
              "      <td>12-11-2013</td>\n",
              "      <td>Second Class</td>\n",
              "      <td>CG-12520</td>\n",
              "      <td>Claire Gute</td>\n",
              "      <td>Consumer</td>\n",
              "      <td>United States</td>\n",
              "      <td>Henderson</td>\n",
              "      <td>...</td>\n",
              "      <td>42420</td>\n",
              "      <td>South</td>\n",
              "      <td>FUR-CH-10000454</td>\n",
              "      <td>Furniture</td>\n",
              "      <td>Chairs</td>\n",
              "      <td>Hon Deluxe Fabric Upholstered Stacking Chairs,...</td>\n",
              "      <td>731.9400</td>\n",
              "      <td>3</td>\n",
              "      <td>0.00</td>\n",
              "      <td>219.5820</td>\n",
              "    </tr>\n",
              "    <tr>\n",
              "      <th>2</th>\n",
              "      <td>3</td>\n",
              "      <td>CA-2013-138688</td>\n",
              "      <td>13-06-2013</td>\n",
              "      <td>17-06-2013</td>\n",
              "      <td>Second Class</td>\n",
              "      <td>DV-13045</td>\n",
              "      <td>Darrin Van Huff</td>\n",
              "      <td>Corporate</td>\n",
              "      <td>United States</td>\n",
              "      <td>Los Angeles</td>\n",
              "      <td>...</td>\n",
              "      <td>90036</td>\n",
              "      <td>West</td>\n",
              "      <td>OFF-LA-10000240</td>\n",
              "      <td>Office Supplies</td>\n",
              "      <td>Labels</td>\n",
              "      <td>Self-Adhesive Address Labels for Typewriters b...</td>\n",
              "      <td>14.6200</td>\n",
              "      <td>2</td>\n",
              "      <td>0.00</td>\n",
              "      <td>6.8714</td>\n",
              "    </tr>\n",
              "    <tr>\n",
              "      <th>3</th>\n",
              "      <td>4</td>\n",
              "      <td>US-2012-108966</td>\n",
              "      <td>11-10-2012</td>\n",
              "      <td>18-10-2012</td>\n",
              "      <td>Standard Class</td>\n",
              "      <td>SO-20335</td>\n",
              "      <td>Sean O'Donnell</td>\n",
              "      <td>Consumer</td>\n",
              "      <td>United States</td>\n",
              "      <td>Fort Lauderdale</td>\n",
              "      <td>...</td>\n",
              "      <td>33311</td>\n",
              "      <td>South</td>\n",
              "      <td>FUR-TA-10000577</td>\n",
              "      <td>Furniture</td>\n",
              "      <td>Tables</td>\n",
              "      <td>Bretford CR4500 Series Slim Rectangular Table</td>\n",
              "      <td>957.5775</td>\n",
              "      <td>5</td>\n",
              "      <td>0.45</td>\n",
              "      <td>-383.0310</td>\n",
              "    </tr>\n",
              "    <tr>\n",
              "      <th>4</th>\n",
              "      <td>5</td>\n",
              "      <td>US-2012-108966</td>\n",
              "      <td>11-10-2012</td>\n",
              "      <td>18-10-2012</td>\n",
              "      <td>Standard Class</td>\n",
              "      <td>SO-20335</td>\n",
              "      <td>Sean O'Donnell</td>\n",
              "      <td>Consumer</td>\n",
              "      <td>United States</td>\n",
              "      <td>Fort Lauderdale</td>\n",
              "      <td>...</td>\n",
              "      <td>33311</td>\n",
              "      <td>South</td>\n",
              "      <td>OFF-ST-10000760</td>\n",
              "      <td>Office Supplies</td>\n",
              "      <td>Storage</td>\n",
              "      <td>Eldon Fold 'N Roll Cart System</td>\n",
              "      <td>22.3680</td>\n",
              "      <td>2</td>\n",
              "      <td>0.20</td>\n",
              "      <td>2.5164</td>\n",
              "    </tr>\n",
              "  </tbody>\n",
              "</table>\n",
              "<p>5 rows × 21 columns</p>\n",
              "</div>\n",
              "    <div class=\"colab-df-buttons\">\n",
              "\n",
              "  <div class=\"colab-df-container\">\n",
              "    <button class=\"colab-df-convert\" onclick=\"convertToInteractive('df-3c1860ce-60a1-407d-8159-a932af08bab4')\"\n",
              "            title=\"Convert this dataframe to an interactive table.\"\n",
              "            style=\"display:none;\">\n",
              "\n",
              "  <svg xmlns=\"http://www.w3.org/2000/svg\" height=\"24px\" viewBox=\"0 -960 960 960\">\n",
              "    <path d=\"M120-120v-720h720v720H120Zm60-500h600v-160H180v160Zm220 220h160v-160H400v160Zm0 220h160v-160H400v160ZM180-400h160v-160H180v160Zm440 0h160v-160H620v160ZM180-180h160v-160H180v160Zm440 0h160v-160H620v160Z\"/>\n",
              "  </svg>\n",
              "    </button>\n",
              "\n",
              "  <style>\n",
              "    .colab-df-container {\n",
              "      display:flex;\n",
              "      gap: 12px;\n",
              "    }\n",
              "\n",
              "    .colab-df-convert {\n",
              "      background-color: #E8F0FE;\n",
              "      border: none;\n",
              "      border-radius: 50%;\n",
              "      cursor: pointer;\n",
              "      display: none;\n",
              "      fill: #1967D2;\n",
              "      height: 32px;\n",
              "      padding: 0 0 0 0;\n",
              "      width: 32px;\n",
              "    }\n",
              "\n",
              "    .colab-df-convert:hover {\n",
              "      background-color: #E2EBFA;\n",
              "      box-shadow: 0px 1px 2px rgba(60, 64, 67, 0.3), 0px 1px 3px 1px rgba(60, 64, 67, 0.15);\n",
              "      fill: #174EA6;\n",
              "    }\n",
              "\n",
              "    .colab-df-buttons div {\n",
              "      margin-bottom: 4px;\n",
              "    }\n",
              "\n",
              "    [theme=dark] .colab-df-convert {\n",
              "      background-color: #3B4455;\n",
              "      fill: #D2E3FC;\n",
              "    }\n",
              "\n",
              "    [theme=dark] .colab-df-convert:hover {\n",
              "      background-color: #434B5C;\n",
              "      box-shadow: 0px 1px 3px 1px rgba(0, 0, 0, 0.15);\n",
              "      filter: drop-shadow(0px 1px 2px rgba(0, 0, 0, 0.3));\n",
              "      fill: #FFFFFF;\n",
              "    }\n",
              "  </style>\n",
              "\n",
              "    <script>\n",
              "      const buttonEl =\n",
              "        document.querySelector('#df-3c1860ce-60a1-407d-8159-a932af08bab4 button.colab-df-convert');\n",
              "      buttonEl.style.display =\n",
              "        google.colab.kernel.accessAllowed ? 'block' : 'none';\n",
              "\n",
              "      async function convertToInteractive(key) {\n",
              "        const element = document.querySelector('#df-3c1860ce-60a1-407d-8159-a932af08bab4');\n",
              "        const dataTable =\n",
              "          await google.colab.kernel.invokeFunction('convertToInteractive',\n",
              "                                                    [key], {});\n",
              "        if (!dataTable) return;\n",
              "\n",
              "        const docLinkHtml = 'Like what you see? Visit the ' +\n",
              "          '<a target=\"_blank\" href=https://colab.research.google.com/notebooks/data_table.ipynb>data table notebook</a>'\n",
              "          + ' to learn more about interactive tables.';\n",
              "        element.innerHTML = '';\n",
              "        dataTable['output_type'] = 'display_data';\n",
              "        await google.colab.output.renderOutput(dataTable, element);\n",
              "        const docLink = document.createElement('div');\n",
              "        docLink.innerHTML = docLinkHtml;\n",
              "        element.appendChild(docLink);\n",
              "      }\n",
              "    </script>\n",
              "  </div>\n",
              "\n",
              "\n",
              "<div id=\"df-d3d5290d-1929-4eb9-90f7-5b86754ecdf5\">\n",
              "  <button class=\"colab-df-quickchart\" onclick=\"quickchart('df-d3d5290d-1929-4eb9-90f7-5b86754ecdf5')\"\n",
              "            title=\"Suggest charts.\"\n",
              "            style=\"display:none;\">\n",
              "\n",
              "<svg xmlns=\"http://www.w3.org/2000/svg\" height=\"24px\"viewBox=\"0 0 24 24\"\n",
              "     width=\"24px\">\n",
              "    <g>\n",
              "        <path d=\"M19 3H5c-1.1 0-2 .9-2 2v14c0 1.1.9 2 2 2h14c1.1 0 2-.9 2-2V5c0-1.1-.9-2-2-2zM9 17H7v-7h2v7zm4 0h-2V7h2v10zm4 0h-2v-4h2v4z\"/>\n",
              "    </g>\n",
              "</svg>\n",
              "  </button>\n",
              "\n",
              "<style>\n",
              "  .colab-df-quickchart {\n",
              "    background-color: #E8F0FE;\n",
              "    border: none;\n",
              "    border-radius: 50%;\n",
              "    cursor: pointer;\n",
              "    display: none;\n",
              "    fill: #1967D2;\n",
              "    height: 32px;\n",
              "    padding: 0 0 0 0;\n",
              "    width: 32px;\n",
              "  }\n",
              "\n",
              "  .colab-df-quickchart:hover {\n",
              "    background-color: #E2EBFA;\n",
              "    box-shadow: 0px 1px 2px rgba(60, 64, 67, 0.3), 0px 1px 3px 1px rgba(60, 64, 67, 0.15);\n",
              "    fill: #174EA6;\n",
              "  }\n",
              "\n",
              "  [theme=dark] .colab-df-quickchart {\n",
              "    background-color: #3B4455;\n",
              "    fill: #D2E3FC;\n",
              "  }\n",
              "\n",
              "  [theme=dark] .colab-df-quickchart:hover {\n",
              "    background-color: #434B5C;\n",
              "    box-shadow: 0px 1px 3px 1px rgba(0, 0, 0, 0.15);\n",
              "    filter: drop-shadow(0px 1px 2px rgba(0, 0, 0, 0.3));\n",
              "    fill: #FFFFFF;\n",
              "  }\n",
              "</style>\n",
              "\n",
              "  <script>\n",
              "    async function quickchart(key) {\n",
              "      const charts = await google.colab.kernel.invokeFunction(\n",
              "          'suggestCharts', [key], {});\n",
              "    }\n",
              "    (() => {\n",
              "      let quickchartButtonEl =\n",
              "        document.querySelector('#df-d3d5290d-1929-4eb9-90f7-5b86754ecdf5 button');\n",
              "      quickchartButtonEl.style.display =\n",
              "        google.colab.kernel.accessAllowed ? 'block' : 'none';\n",
              "    })();\n",
              "  </script>\n",
              "</div>\n",
              "    </div>\n",
              "  </div>\n"
            ]
          },
          "metadata": {},
          "execution_count": 33
        }
      ],
      "source": [
        "ss = pd.read_csv('Superstore.csv', encoding=detected_encoding)\n",
        "ss.head()"
      ]
    },
    {
      "cell_type": "code",
      "execution_count": null,
      "metadata": {
        "id": "hO0V7GwAJvw-",
        "outputId": "fd0dfbfe-a61c-4df9-9247-79247a48aa92",
        "colab": {
          "base_uri": "https://localhost:8080/"
        }
      },
      "outputs": [
        {
          "output_type": "stream",
          "name": "stderr",
          "text": [
            "/usr/local/lib/python3.10/dist-packages/ipykernel/ipkernel.py:283: DeprecationWarning: `should_run_async` will not call `transform_cell` automatically in the future. Please pass the result to `transformed_cell` argument and any exception that happen during thetransform in `preprocessing_exc_tuple` in IPython 7.17 and above.\n",
            "  and should_run_async(code)\n"
          ]
        },
        {
          "output_type": "stream",
          "name": "stdout",
          "text": [
            "<class 'pandas.core.frame.DataFrame'>\n",
            "RangeIndex: 9994 entries, 0 to 9993\n",
            "Data columns (total 21 columns):\n",
            " #   Column         Non-Null Count  Dtype  \n",
            "---  ------         --------------  -----  \n",
            " 0   Row ID         9994 non-null   int64  \n",
            " 1   Order ID       9994 non-null   object \n",
            " 2   Order Date     9994 non-null   object \n",
            " 3   Ship Date      9994 non-null   object \n",
            " 4   Ship Mode      9994 non-null   object \n",
            " 5   Customer ID    9994 non-null   object \n",
            " 6   Customer Name  9994 non-null   object \n",
            " 7   Segment        9994 non-null   object \n",
            " 8   Country        9994 non-null   object \n",
            " 9   City           9994 non-null   object \n",
            " 10  State          9994 non-null   object \n",
            " 11  Postal Code    9994 non-null   int64  \n",
            " 12  Region         9994 non-null   object \n",
            " 13  Product ID     9994 non-null   object \n",
            " 14  Category       9994 non-null   object \n",
            " 15  Sub-Category   9994 non-null   object \n",
            " 16  Product Name   9994 non-null   object \n",
            " 17  Sales          9994 non-null   float64\n",
            " 18  Quantity       9994 non-null   int64  \n",
            " 19  Discount       9994 non-null   float64\n",
            " 20  Profit         9994 non-null   float64\n",
            "dtypes: float64(3), int64(3), object(15)\n",
            "memory usage: 1.6+ MB\n"
          ]
        }
      ],
      "source": [
        "ss.info()"
      ]
    },
    {
      "cell_type": "markdown",
      "metadata": {
        "id": "Z7S_00THJvw-"
      },
      "source": [
        "# Pricing strategy"
      ]
    },
    {
      "cell_type": "markdown",
      "metadata": {
        "id": "v2IMQIjEJvw-"
      },
      "source": [
        "Sales by Category"
      ]
    },
    {
      "cell_type": "code",
      "execution_count": null,
      "metadata": {
        "id": "xSXynfElJvw_",
        "outputId": "ffd5488f-7fc5-4c12-bed5-94282bec11b9",
        "colab": {
          "base_uri": "https://localhost:8080/"
        }
      },
      "outputs": [
        {
          "output_type": "stream",
          "name": "stderr",
          "text": [
            "/usr/local/lib/python3.10/dist-packages/ipykernel/ipkernel.py:283: DeprecationWarning: `should_run_async` will not call `transform_cell` automatically in the future. Please pass the result to `transformed_cell` argument and any exception that happen during thetransform in `preprocessing_exc_tuple` in IPython 7.17 and above.\n",
            "  and should_run_async(code)\n"
          ]
        },
        {
          "output_type": "execute_result",
          "data": {
            "text/plain": [
              "Category\n",
              "Technology         836154.0330\n",
              "Furniture          741999.7953\n",
              "Office Supplies    719047.0320\n",
              "Name: Sales, dtype: float64"
            ]
          },
          "metadata": {},
          "execution_count": 35
        }
      ],
      "source": [
        "ss.groupby('Category')['Sales'].sum().sort_values(ascending=False)"
      ]
    },
    {
      "cell_type": "markdown",
      "metadata": {
        "id": "VmKQCQXdJvw_"
      },
      "source": [
        "Technology has the most sales among all categories."
      ]
    },
    {
      "cell_type": "code",
      "execution_count": null,
      "metadata": {
        "id": "4PMHU6BaJvw_",
        "outputId": "4ed50dd4-dea7-4782-e10f-4f552737d416",
        "colab": {
          "base_uri": "https://localhost:8080/"
        }
      },
      "outputs": [
        {
          "output_type": "stream",
          "name": "stderr",
          "text": [
            "/usr/local/lib/python3.10/dist-packages/ipykernel/ipkernel.py:283: DeprecationWarning: `should_run_async` will not call `transform_cell` automatically in the future. Please pass the result to `transformed_cell` argument and any exception that happen during thetransform in `preprocessing_exc_tuple` in IPython 7.17 and above.\n",
            "  and should_run_async(code)\n"
          ]
        },
        {
          "output_type": "execute_result",
          "data": {
            "text/plain": [
              "Sub-Category\n",
              "Phones         330007.054\n",
              "Machines       189238.631\n",
              "Accessories    167380.318\n",
              "Copiers        149528.030\n",
              "Name: Sales, dtype: float64"
            ]
          },
          "metadata": {},
          "execution_count": 36
        }
      ],
      "source": [
        "ss[ss['Category'] == 'Technology'].groupby('Sub-Category')['Sales'].sum().sort_values(ascending=False)"
      ]
    },
    {
      "cell_type": "markdown",
      "metadata": {
        "id": "NBIo__5pJvw_"
      },
      "source": [
        "Phones has the most sales in technology category."
      ]
    },
    {
      "cell_type": "code",
      "execution_count": null,
      "metadata": {
        "id": "WBkzpDMCJvxA",
        "outputId": "070f302b-580b-4546-9b0a-1f7524f90f92",
        "colab": {
          "base_uri": "https://localhost:8080/"
        }
      },
      "outputs": [
        {
          "output_type": "stream",
          "name": "stderr",
          "text": [
            "/usr/local/lib/python3.10/dist-packages/ipykernel/ipkernel.py:283: DeprecationWarning: `should_run_async` will not call `transform_cell` automatically in the future. Please pass the result to `transformed_cell` argument and any exception that happen during thetransform in `preprocessing_exc_tuple` in IPython 7.17 and above.\n",
            "  and should_run_async(code)\n"
          ]
        },
        {
          "output_type": "execute_result",
          "data": {
            "text/plain": [
              "Product Name\n",
              "Samsung Galaxy Mega 6.3                                                13943.668\n",
              "Apple iPhone 5                                                         12996.600\n",
              "Wilson Electronics DB Pro Signal Booster                                8878.400\n",
              "Mitel MiVoice 5330e IP Phone                                            7699.720\n",
              "Samsung Galaxy S III - 16GB - pebble blue (T-Mobile)                    7139.796\n",
              "                                                                         ...    \n",
              "Shocksock Galaxy S4 Armband                                               63.510\n",
              "Anker 24W Portable Micro USB Car Charger                                  61.544\n",
              "SKILCRAFT Telephone Shoulder Rest, 2\" x 6.5\" x 2.5\", Black                56.164\n",
              "Sannysis Cute Owl Design Soft Skin Case Cover for Samsung Galaxy S4       13.860\n",
              "PNY Rapid USB Car Charger - Black                                          9.588\n",
              "Name: Sales, Length: 189, dtype: float64"
            ]
          },
          "metadata": {},
          "execution_count": 37
        }
      ],
      "source": [
        "ss[ss['Sub-Category'] == 'Phones'].groupby('Product Name')['Sales'].sum().sort_values(ascending=False)"
      ]
    },
    {
      "cell_type": "markdown",
      "metadata": {
        "id": "e14w_ICpJvxA"
      },
      "source": [
        "Samsung Galaxy Mega 6.3 and Apple iphone 5 have the most sales in phone sub-category."
      ]
    },
    {
      "cell_type": "markdown",
      "metadata": {
        "id": "FBKYP5G5JvxA"
      },
      "source": [
        "Profit by category"
      ]
    },
    {
      "cell_type": "code",
      "execution_count": null,
      "metadata": {
        "id": "eVufz4C5JvxA",
        "outputId": "24080c6e-9eaf-4bd2-95b4-a11f5e6cbfd0",
        "colab": {
          "base_uri": "https://localhost:8080/"
        }
      },
      "outputs": [
        {
          "output_type": "stream",
          "name": "stderr",
          "text": [
            "/usr/local/lib/python3.10/dist-packages/ipykernel/ipkernel.py:283: DeprecationWarning: `should_run_async` will not call `transform_cell` automatically in the future. Please pass the result to `transformed_cell` argument and any exception that happen during thetransform in `preprocessing_exc_tuple` in IPython 7.17 and above.\n",
            "  and should_run_async(code)\n"
          ]
        },
        {
          "output_type": "execute_result",
          "data": {
            "text/plain": [
              "Category\n",
              "Technology         145454.9481\n",
              "Office Supplies    122490.8008\n",
              "Furniture           18451.2728\n",
              "Name: Profit, dtype: float64"
            ]
          },
          "metadata": {},
          "execution_count": 38
        }
      ],
      "source": [
        "ss.groupby('Category')['Profit'].sum().sort_values(ascending=False)"
      ]
    },
    {
      "cell_type": "code",
      "execution_count": null,
      "metadata": {
        "id": "W7hNdEDVJvxA",
        "outputId": "f7f74930-607e-48fe-ddad-c1e99b698170",
        "colab": {
          "base_uri": "https://localhost:8080/"
        }
      },
      "outputs": [
        {
          "output_type": "stream",
          "name": "stderr",
          "text": [
            "/usr/local/lib/python3.10/dist-packages/ipykernel/ipkernel.py:283: DeprecationWarning: `should_run_async` will not call `transform_cell` automatically in the future. Please pass the result to `transformed_cell` argument and any exception that happen during thetransform in `preprocessing_exc_tuple` in IPython 7.17 and above.\n",
            "  and should_run_async(code)\n"
          ]
        },
        {
          "output_type": "execute_result",
          "data": {
            "text/plain": [
              "2.6006653372152955"
            ]
          },
          "metadata": {},
          "execution_count": 39
        }
      ],
      "source": [
        "ss[ss['Category'] == 'Technology']['Profit'].std()/ss[ss['Category'] == 'Office Supplies']['Profit'].std()"
      ]
    },
    {
      "cell_type": "code",
      "execution_count": null,
      "metadata": {
        "id": "2UnA3V6dJvxB",
        "outputId": "c7745361-b00e-414a-8da3-4221cb773843",
        "colab": {
          "base_uri": "https://localhost:8080/"
        }
      },
      "outputs": [
        {
          "output_type": "stream",
          "name": "stderr",
          "text": [
            "/usr/local/lib/python3.10/dist-packages/ipykernel/ipkernel.py:283: DeprecationWarning: `should_run_async` will not call `transform_cell` automatically in the future. Please pass the result to `transformed_cell` argument and any exception that happen during thetransform in `preprocessing_exc_tuple` in IPython 7.17 and above.\n",
            "  and should_run_async(code)\n"
          ]
        },
        {
          "output_type": "stream",
          "name": "stdout",
          "text": [
            "t-statistic: 8.687539082544111\n",
            "p-value: 4.4542772738946324e-18\n",
            "The means are significantly different.\n"
          ]
        }
      ],
      "source": [
        "import scipy.stats as stats\n",
        "data1 = ss[ss['Category'] == 'Technology']['Profit']\n",
        "data2 = ss[ss['Category'] == 'Office Supplies']['Profit']\n",
        "t_statistic, p_value = stats.ttest_ind(data1, data2)\n",
        "\n",
        "# Print the results\n",
        "print(f\"t-statistic: {t_statistic}\")\n",
        "print(f\"p-value: {p_value}\")\n",
        "\n",
        "# Check if the p-value is significant (using a common significance level of 0.05)\n",
        "if p_value < 0.05:\n",
        "    print(\"The means are significantly different.\")\n",
        "else:\n",
        "    print(\"The means are not significantly different.\")"
      ]
    },
    {
      "cell_type": "code",
      "execution_count": null,
      "metadata": {
        "id": "r-RAPCjtJvxB",
        "outputId": "c4e19789-cefc-4236-8378-f093c3af922c",
        "colab": {
          "base_uri": "https://localhost:8080/"
        }
      },
      "outputs": [
        {
          "output_type": "stream",
          "name": "stdout",
          "text": [
            "tech avg : 78.75200221981592\n",
            "office supplies avg : 20.3270495851311\n"
          ]
        },
        {
          "output_type": "stream",
          "name": "stderr",
          "text": [
            "/usr/local/lib/python3.10/dist-packages/ipykernel/ipkernel.py:283: DeprecationWarning: `should_run_async` will not call `transform_cell` automatically in the future. Please pass the result to `transformed_cell` argument and any exception that happen during thetransform in `preprocessing_exc_tuple` in IPython 7.17 and above.\n",
            "  and should_run_async(code)\n"
          ]
        }
      ],
      "source": [
        "print('tech avg : {}'.format(data1.mean()))\n",
        "print('office supplies avg : {}'.format(data2.mean()))"
      ]
    },
    {
      "cell_type": "markdown",
      "metadata": {
        "id": "qyLj8vU5JvxB"
      },
      "source": [
        "Technology has the most profit among all categories."
      ]
    },
    {
      "cell_type": "code",
      "execution_count": null,
      "metadata": {
        "id": "DXbJeCRBJvxB",
        "outputId": "586b4138-85c0-422a-f8a9-36abed29b442",
        "colab": {
          "base_uri": "https://localhost:8080/"
        }
      },
      "outputs": [
        {
          "output_type": "stream",
          "name": "stderr",
          "text": [
            "/usr/local/lib/python3.10/dist-packages/ipykernel/ipkernel.py:283: DeprecationWarning: `should_run_async` will not call `transform_cell` automatically in the future. Please pass the result to `transformed_cell` argument and any exception that happen during thetransform in `preprocessing_exc_tuple` in IPython 7.17 and above.\n",
            "  and should_run_async(code)\n"
          ]
        },
        {
          "output_type": "execute_result",
          "data": {
            "text/plain": [
              "Sub-Category\n",
              "Phones         330007.054\n",
              "Machines       189238.631\n",
              "Accessories    167380.318\n",
              "Copiers        149528.030\n",
              "Name: Sales, dtype: float64"
            ]
          },
          "metadata": {},
          "execution_count": 42
        }
      ],
      "source": [
        "ss[ss['Category'] == 'Technology'].groupby('Sub-Category')['Sales'].sum().sort_values(ascending=False)"
      ]
    },
    {
      "cell_type": "code",
      "execution_count": null,
      "metadata": {
        "id": "Z5S9t-_FJvxB",
        "outputId": "8456777b-f7fd-4e26-bfd0-ab8a7e1e1d56",
        "colab": {
          "base_uri": "https://localhost:8080/"
        }
      },
      "outputs": [
        {
          "output_type": "stream",
          "name": "stderr",
          "text": [
            "/usr/local/lib/python3.10/dist-packages/ipykernel/ipkernel.py:283: DeprecationWarning: `should_run_async` will not call `transform_cell` automatically in the future. Please pass the result to `transformed_cell` argument and any exception that happen during thetransform in `preprocessing_exc_tuple` in IPython 7.17 and above.\n",
            "  and should_run_async(code)\n"
          ]
        },
        {
          "output_type": "execute_result",
          "data": {
            "text/plain": [
              "Product Name\n",
              "Samsung Galaxy Mega 6.3                                                                                 1822.7566\n",
              "Apple iPhone 5                                                                                          1611.5784\n",
              "Panasonic KX-TG9471B                                                                                    1168.1004\n",
              "Panasonic KX-TG9541B DECT 6.0 Digital 2-Line Expandable Cordless Phone With Digital Answering System    1147.4235\n",
              "Samsung Galaxy S4 Mini                                                                                  1104.4765\n",
              "                                                                                                          ...    \n",
              "Cisco IP Phone 7961G-GE VoIP phone                                                                      -119.1190\n",
              "Samsung Galaxy Note 2                                                                                   -128.7972\n",
              "LG Exalt                                                                                                -212.1464\n",
              "Jawbone MINI JAMBOX Wireless Bluetooth Speaker                                                          -339.7104\n",
              "LG G2                                                                                                   -374.9925\n",
              "Name: Profit, Length: 189, dtype: float64"
            ]
          },
          "metadata": {},
          "execution_count": 43
        }
      ],
      "source": [
        "ss[ss['Sub-Category'] == 'Phones'].groupby('Product Name')['Profit'].sum().sort_values(ascending=False)"
      ]
    },
    {
      "cell_type": "markdown",
      "metadata": {
        "id": "g8TM3zcgJvxB"
      },
      "source": [
        "If we have a pricing strategy, we should focus on upselling in the phone-technology category, particularly for the Samsung Galaxy Mega 6.3 and the Apple iPhone 5"
      ]
    },
    {
      "cell_type": "code",
      "execution_count": null,
      "metadata": {
        "id": "klnflywcJvxB",
        "outputId": "647a6700-f779-4f0a-b98f-2410d087171a",
        "colab": {
          "base_uri": "https://localhost:8080/"
        }
      },
      "outputs": [
        {
          "output_type": "stream",
          "name": "stderr",
          "text": [
            "/usr/local/lib/python3.10/dist-packages/ipykernel/ipkernel.py:283: DeprecationWarning: `should_run_async` will not call `transform_cell` automatically in the future. Please pass the result to `transformed_cell` argument and any exception that happen during thetransform in `preprocessing_exc_tuple` in IPython 7.17 and above.\n",
            "  and should_run_async(code)\n"
          ]
        },
        {
          "output_type": "execute_result",
          "data": {
            "text/plain": [
              "Product Name\n",
              "Staples                                                                      4.531843\n",
              "Avery Non-Stick Binders                                                      0.399281\n",
              "KI Adjustable-Height Table                                                   0.359353\n",
              "Storex Dura Pro Binders                                                      0.339389\n",
              "Logitech 910-002974 M325 Wireless Mouse for Web Scrolling                    0.299461\n",
              "                                                                               ...   \n",
              "Konica Minolta magicolor 1690MF Multifunction Printer                        0.019964\n",
              "Xerox 1984                                                                   0.019964\n",
              "Cisco Desktop Collaboration Experience DX650 IP Video Phone                  0.019964\n",
              "Belkin 8 Outlet SurgeMaster II Gold Surge Protector with Phone Protection    0.019964\n",
              "Cisco SPA525G2 5-Line IP Phone                                               0.019964\n",
              "Name: Order ID, Length: 1841, dtype: float64"
            ]
          },
          "metadata": {},
          "execution_count": 70
        }
      ],
      "source": [
        "ss.groupby('Product Name')['Order ID'].count().sort_values(ascending=False)/ss['Order ID'].nunique()*100"
      ]
    },
    {
      "cell_type": "markdown",
      "metadata": {
        "id": "KcuqVQYeJvxB"
      },
      "source": [
        "The most commonly purchased product in every basket is staples, accounting for 4.53% of all baskets. It seems less in value. Lets, deep down into month."
      ]
    },
    {
      "cell_type": "code",
      "execution_count": null,
      "metadata": {
        "id": "7QY7IO-nJvxB",
        "outputId": "9a39962d-13c8-44f0-dcb6-2a28291888e3",
        "colab": {
          "base_uri": "https://localhost:8080/"
        }
      },
      "outputs": [
        {
          "output_type": "stream",
          "name": "stderr",
          "text": [
            "/usr/local/lib/python3.10/dist-packages/ipykernel/ipkernel.py:283: DeprecationWarning: `should_run_async` will not call `transform_cell` automatically in the future. Please pass the result to `transformed_cell` argument and any exception that happen during thetransform in `preprocessing_exc_tuple` in IPython 7.17 and above.\n",
            "  and should_run_async(code)\n",
            "<ipython-input-45-44e0d9166661>:1: UserWarning: Parsing dates in DD/MM/YYYY format when dayfirst=False (the default) was specified. This may lead to inconsistently parsed dates! Specify a format to ensure consistent parsing.\n",
            "  ss['Order Date'] = pd.to_datetime(ss['Order Date'])\n",
            "<ipython-input-45-44e0d9166661>:2: UserWarning: Parsing dates in DD/MM/YYYY format when dayfirst=False (the default) was specified. This may lead to inconsistently parsed dates! Specify a format to ensure consistent parsing.\n",
            "  ss['Ship Date'] = pd.to_datetime(ss['Ship Date'])\n"
          ]
        }
      ],
      "source": [
        "ss['Order Date'] = pd.to_datetime(ss['Order Date'])\n",
        "ss['Ship Date'] = pd.to_datetime(ss['Ship Date'])"
      ]
    },
    {
      "cell_type": "code",
      "execution_count": null,
      "metadata": {
        "id": "nGJ7XDqQJvxB",
        "outputId": "2cc6c40a-fa2e-490e-a434-188a57321010",
        "colab": {
          "base_uri": "https://localhost:8080/"
        }
      },
      "outputs": [
        {
          "output_type": "stream",
          "name": "stderr",
          "text": [
            "/usr/local/lib/python3.10/dist-packages/ipykernel/ipkernel.py:283: DeprecationWarning: `should_run_async` will not call `transform_cell` automatically in the future. Please pass the result to `transformed_cell` argument and any exception that happen during thetransform in `preprocessing_exc_tuple` in IPython 7.17 and above.\n",
            "  and should_run_async(code)\n"
          ]
        }
      ],
      "source": [
        "import datetime as dt\n",
        "ss['Order Month'] = ss['Order Date'].dt.month"
      ]
    },
    {
      "cell_type": "code",
      "execution_count": null,
      "metadata": {
        "id": "CtzFbURDJvxB",
        "outputId": "94e2cd29-dbb5-49c4-e3d2-1918ed4bdfe6",
        "colab": {
          "base_uri": "https://localhost:8080/"
        }
      },
      "outputs": [
        {
          "output_type": "stream",
          "name": "stdout",
          "text": [
            "Month 1\n",
            "                                                     Percent\n",
            "Product Name                                                \n",
            "Staples                                             4.316547\n",
            "Wilson Jones data.warehouse D-Ring Binders with...  1.079137\n",
            "Eldon ClusterMat Chair Mat with Cordless Antist...  1.079137\n",
            "DAX Black Cherry Wood-Tone Poster Frame             1.079137\n",
            "Global Highback Leather Tilter in Burgundy          1.079137\n",
            "*******************************\n",
            "Month 2\n",
            "                                                     Percent\n",
            "Product Name                                                \n",
            "Staples                                             8.661417\n",
            "Xerox 1881                                          1.181102\n",
            "Adjustable Depth Letter/Legal Cart                  1.181102\n",
            "Honeywell Enviracaire Portable HEPA Air Cleaner...  1.181102\n",
            "GBC Plastic Binding Combs                           1.181102\n",
            "*******************************\n",
            "Month 3\n",
            "                                                     Percent\n",
            "Product Name                                                \n",
            "Staples                                             5.432099\n",
            "Carina Double Wide Media Storage Towers in Natu...  0.987654\n",
            "Safco Value Mate Series Steel Bookcases, Baked ...  0.987654\n",
            "GBC VeloBind Cover Sets                             0.987654\n",
            "Acco Perma 4000 Stacking Storage Drawers            0.740741\n",
            "*******************************\n",
            "Month 4\n",
            "                                                     Percent\n",
            "Product Name                                                \n",
            "Staples                                             2.933333\n",
            "Global Leather Highback Executive Chair with Pn...  1.066667\n",
            "Fellowes Black Plastic Comb Bindings                1.066667\n",
            "Wirebound Four 2-3/4 x 5 Forms per Page, 400 Se...  0.800000\n",
            "Pyle PMP37LED                                       0.800000\n",
            "*******************************\n",
            "Month 5\n",
            "                                   Percent\n",
            "Product Name                              \n",
            "Staples                           3.827751\n",
            "Storex Dura Pro Binders           1.435407\n",
            "Xerox 1949                        0.956938\n",
            "Avery 476                         0.956938\n",
            "Novimex Swivel Fabric Task Chair  0.717703\n",
            "*******************************\n",
            "Month 6\n",
            "                                                 Percent\n",
            "Product Name                                            \n",
            "Staples                                         4.415584\n",
            "KI Adjustable-Height Table                      1.298701\n",
            "Xerox 202                                       1.298701\n",
            "Premium Transparent Presentation Covers by GBC  1.038961\n",
            "GBC Prestige Therm-A-Bind Covers                0.779221\n",
            "*******************************\n",
            "Month 7\n",
            "                                                     Percent\n",
            "Product Name                                                \n",
            "Staples                                             3.693182\n",
            "invisibleSHIELD by ZAGG Smudge-Free Screen Prot...  0.852273\n",
            "Xerox 216                                           0.852273\n",
            "Newell 32                                           0.852273\n",
            "Hon 2090 “Pillow Soft” Series Mid Back Swivel/T...  0.852273\n",
            "*******************************\n",
            "Month 8\n",
            "                                                     Percent\n",
            "Product Name                                                \n",
            "Staples                                             4.134367\n",
            "Fellowes Super Stor/Drawer Files                    1.033592\n",
            "Chromcraft Rectangular Conference Tables            0.775194\n",
            "Logitech Desktop MK120 Mouse and keyboard Combo     0.775194\n",
            "Belkin Premiere Surge Master II 8-outlet surge ...  0.775194\n",
            "*******************************\n",
            "Month 9\n",
            "                                                     Percent\n",
            "Product Name                                                \n",
            "Staples                                             4.070796\n",
            "Decoflex Hanging Personal Folder File, Blue         1.061947\n",
            "Xerox 1895                                          0.707965\n",
            "Riverside Palais Royal Lawyers Bookcase, Royale...  0.707965\n",
            "Longer-Life Soft White Bulbs                        0.707965\n",
            "*******************************\n",
            "Month 10\n",
            "                                                     Percent\n",
            "Product Name                                                \n",
            "Staples                                             4.466501\n",
            "Avery Non-Stick Binders                             1.240695\n",
            "Acco Data Flex Cable Posts For Top & Bottom Loa...  0.744417\n",
            "LF Elite 3D Dazzle Designer Hard Case Cover, Lf...  0.744417\n",
            "Large Capacity Hanging Post Binders                 0.744417\n",
            "*******************************\n",
            "Month 11\n",
            "                                                     Percent\n",
            "Product Name                                                \n",
            "Staples                                             4.617834\n",
            "Boston Electric Pencil Sharpener, Model 1818, C...  0.796178\n",
            "Wilson Jones Ledger-Size, Piano-Hinge Binder, 2...  0.796178\n",
            "Avery File Folder Labels                            0.636943\n",
            "Memorex Mini Travel Drive 16 GB USB 2.0 Flash D...  0.636943\n",
            "*******************************\n",
            "Month 12\n",
            "                                                     Percent\n",
            "Product Name                                                \n",
            "Staples                                             5.008945\n",
            "Bretford Rectangular Conference Table Tops          1.073345\n",
            "Ibico Ibimaster 300 Manual Binding System           0.715564\n",
            "Cardinal Slant-D Ring Binder, Heavy Gauge Vinyl     0.715564\n",
            "Wilson Jones Leather-Like Binders with DublLock...  0.715564\n",
            "*******************************\n"
          ]
        },
        {
          "output_type": "stream",
          "name": "stderr",
          "text": [
            "/usr/local/lib/python3.10/dist-packages/ipykernel/ipkernel.py:283: DeprecationWarning: `should_run_async` will not call `transform_cell` automatically in the future. Please pass the result to `transformed_cell` argument and any exception that happen during thetransform in `preprocessing_exc_tuple` in IPython 7.17 and above.\n",
            "  and should_run_async(code)\n"
          ]
        }
      ],
      "source": [
        "a = ss.groupby(['Order Month','Product Name'])['Order ID'].count()/ss.groupby('Order Month')['Order ID'].nunique()*100\n",
        "a = pd.DataFrame(a)\n",
        "a.columns = ['Percent']\n",
        "for i in range(1,13):\n",
        "    print('Month {}'.format(i))\n",
        "    print(a.loc[i].sort_values(by=['Percent'],ascending=False).head())\n",
        "    print('*******************************')"
      ]
    },
    {
      "cell_type": "markdown",
      "metadata": {
        "id": "9xt4hbTOJvxC"
      },
      "source": [
        "Seem less amount."
      ]
    },
    {
      "cell_type": "markdown",
      "metadata": {
        "id": "b4ESgJpYJvxC"
      },
      "source": [
        "Lets do some .Create matrix 0,1 on order id vs product name as input of association rule."
      ]
    },
    {
      "cell_type": "code",
      "execution_count": null,
      "metadata": {
        "id": "etr8Ck06JvxC",
        "outputId": "cfe8851a-d437-4ccb-ea8c-cdf1d281b430",
        "colab": {
          "base_uri": "https://localhost:8080/"
        }
      },
      "outputs": [
        {
          "output_type": "stream",
          "name": "stderr",
          "text": [
            "/usr/local/lib/python3.10/dist-packages/ipykernel/ipkernel.py:283: DeprecationWarning: `should_run_async` will not call `transform_cell` automatically in the future. Please pass the result to `transformed_cell` argument and any exception that happen during thetransform in `preprocessing_exc_tuple` in IPython 7.17 and above.\n",
            "  and should_run_async(code)\n"
          ]
        },
        {
          "output_type": "stream",
          "name": "stdout",
          "text": [
            "Requirement already satisfied: mlxtend in /usr/local/lib/python3.10/dist-packages (0.22.0)\n",
            "Requirement already satisfied: scipy>=1.2.1 in /usr/local/lib/python3.10/dist-packages (from mlxtend) (1.10.1)\n",
            "Requirement already satisfied: numpy>=1.16.2 in /usr/local/lib/python3.10/dist-packages (from mlxtend) (1.23.5)\n",
            "Requirement already satisfied: pandas>=0.24.2 in /usr/local/lib/python3.10/dist-packages (from mlxtend) (1.5.3)\n",
            "Requirement already satisfied: scikit-learn>=1.0.2 in /usr/local/lib/python3.10/dist-packages (from mlxtend) (1.2.2)\n",
            "Requirement already satisfied: matplotlib>=3.0.0 in /usr/local/lib/python3.10/dist-packages (from mlxtend) (3.7.1)\n",
            "Requirement already satisfied: joblib>=0.13.2 in /usr/local/lib/python3.10/dist-packages (from mlxtend) (1.3.2)\n",
            "Requirement already satisfied: setuptools in /usr/local/lib/python3.10/dist-packages (from mlxtend) (67.7.2)\n",
            "Requirement already satisfied: contourpy>=1.0.1 in /usr/local/lib/python3.10/dist-packages (from matplotlib>=3.0.0->mlxtend) (1.1.0)\n",
            "Requirement already satisfied: cycler>=0.10 in /usr/local/lib/python3.10/dist-packages (from matplotlib>=3.0.0->mlxtend) (0.11.0)\n",
            "Requirement already satisfied: fonttools>=4.22.0 in /usr/local/lib/python3.10/dist-packages (from matplotlib>=3.0.0->mlxtend) (4.42.1)\n",
            "Requirement already satisfied: kiwisolver>=1.0.1 in /usr/local/lib/python3.10/dist-packages (from matplotlib>=3.0.0->mlxtend) (1.4.4)\n",
            "Requirement already satisfied: packaging>=20.0 in /usr/local/lib/python3.10/dist-packages (from matplotlib>=3.0.0->mlxtend) (23.1)\n",
            "Requirement already satisfied: pillow>=6.2.0 in /usr/local/lib/python3.10/dist-packages (from matplotlib>=3.0.0->mlxtend) (9.4.0)\n",
            "Requirement already satisfied: pyparsing>=2.3.1 in /usr/local/lib/python3.10/dist-packages (from matplotlib>=3.0.0->mlxtend) (3.1.1)\n",
            "Requirement already satisfied: python-dateutil>=2.7 in /usr/local/lib/python3.10/dist-packages (from matplotlib>=3.0.0->mlxtend) (2.8.2)\n",
            "Requirement already satisfied: pytz>=2020.1 in /usr/local/lib/python3.10/dist-packages (from pandas>=0.24.2->mlxtend) (2023.3)\n",
            "Requirement already satisfied: threadpoolctl>=2.0.0 in /usr/local/lib/python3.10/dist-packages (from scikit-learn>=1.0.2->mlxtend) (3.2.0)\n",
            "Requirement already satisfied: six>=1.5 in /usr/local/lib/python3.10/dist-packages (from python-dateutil>=2.7->matplotlib>=3.0.0->mlxtend) (1.16.0)\n"
          ]
        }
      ],
      "source": [
        "!pip install mlxtend"
      ]
    },
    {
      "cell_type": "code",
      "execution_count": null,
      "metadata": {
        "id": "KBH586PuJvxC",
        "outputId": "5f0a641a-84d6-4dd1-991e-92bc00b7a1b0",
        "colab": {
          "base_uri": "https://localhost:8080/",
          "height": 1000
        }
      },
      "outputs": [
        {
          "output_type": "stream",
          "name": "stderr",
          "text": [
            "/usr/local/lib/python3.10/dist-packages/ipykernel/ipkernel.py:283: DeprecationWarning: `should_run_async` will not call `transform_cell` automatically in the future. Please pass the result to `transformed_cell` argument and any exception that happen during thetransform in `preprocessing_exc_tuple` in IPython 7.17 and above.\n",
            "  and should_run_async(code)\n"
          ]
        },
        {
          "output_type": "execute_result",
          "data": {
            "text/plain": [
              "Product Name    \"While you Were Out\" Message Book, One Form per Page  \\\n",
              "Order ID                                                               \n",
              "CA-2011-100006                                                  0      \n",
              "CA-2011-100090                                                  0      \n",
              "CA-2011-100293                                                  0      \n",
              "CA-2011-100328                                                  0      \n",
              "CA-2011-100363                                                  0      \n",
              "...                                                           ...      \n",
              "US-2014-168802                                                  0      \n",
              "US-2014-169320                                                  0      \n",
              "US-2014-169488                                                  0      \n",
              "US-2014-169502                                                  0      \n",
              "US-2014-169551                                                  0      \n",
              "\n",
              "Product Name    #10 Gummed Flap White Envelopes, 100/Box  \\\n",
              "Order ID                                                   \n",
              "CA-2011-100006                                         0   \n",
              "CA-2011-100090                                         0   \n",
              "CA-2011-100293                                         0   \n",
              "CA-2011-100328                                         0   \n",
              "CA-2011-100363                                         0   \n",
              "...                                                  ...   \n",
              "US-2014-168802                                         0   \n",
              "US-2014-169320                                         0   \n",
              "US-2014-169488                                         0   \n",
              "US-2014-169502                                         0   \n",
              "US-2014-169551                                         0   \n",
              "\n",
              "Product Name    #10 Self-Seal White Envelopes  \\\n",
              "Order ID                                        \n",
              "CA-2011-100006                              0   \n",
              "CA-2011-100090                              0   \n",
              "CA-2011-100293                              0   \n",
              "CA-2011-100328                              0   \n",
              "CA-2011-100363                              0   \n",
              "...                                       ...   \n",
              "US-2014-168802                              0   \n",
              "US-2014-169320                              0   \n",
              "US-2014-169488                              0   \n",
              "US-2014-169502                              0   \n",
              "US-2014-169551                              0   \n",
              "\n",
              "Product Name    #10 White Business Envelopes,4 1/8 x 9 1/2  \\\n",
              "Order ID                                                     \n",
              "CA-2011-100006                                           0   \n",
              "CA-2011-100090                                           0   \n",
              "CA-2011-100293                                           0   \n",
              "CA-2011-100328                                           0   \n",
              "CA-2011-100363                                           0   \n",
              "...                                                    ...   \n",
              "US-2014-168802                                           0   \n",
              "US-2014-169320                                           0   \n",
              "US-2014-169488                                           0   \n",
              "US-2014-169502                                           0   \n",
              "US-2014-169551                                           0   \n",
              "\n",
              "Product Name    #10- 4 1/8\" x 9 1/2\" Recycled Envelopes  \\\n",
              "Order ID                                                  \n",
              "CA-2011-100006                                        0   \n",
              "CA-2011-100090                                        0   \n",
              "CA-2011-100293                                        0   \n",
              "CA-2011-100328                                        0   \n",
              "CA-2011-100363                                        0   \n",
              "...                                                 ...   \n",
              "US-2014-168802                                        0   \n",
              "US-2014-169320                                        0   \n",
              "US-2014-169488                                        0   \n",
              "US-2014-169502                                        0   \n",
              "US-2014-169551                                        0   \n",
              "\n",
              "Product Name    #10- 4 1/8\" x 9 1/2\" Security-Tint Envelopes  \\\n",
              "Order ID                                                       \n",
              "CA-2011-100006                                             0   \n",
              "CA-2011-100090                                             0   \n",
              "CA-2011-100293                                             0   \n",
              "CA-2011-100328                                             0   \n",
              "CA-2011-100363                                             0   \n",
              "...                                                      ...   \n",
              "US-2014-168802                                             0   \n",
              "US-2014-169320                                             0   \n",
              "US-2014-169488                                             0   \n",
              "US-2014-169502                                             0   \n",
              "US-2014-169551                                             0   \n",
              "\n",
              "Product Name    #10-4 1/8\" x 9 1/2\" Premium Diagonal Seam Envelopes  \\\n",
              "Order ID                                                              \n",
              "CA-2011-100006                                                  0     \n",
              "CA-2011-100090                                                  0     \n",
              "CA-2011-100293                                                  0     \n",
              "CA-2011-100328                                                  0     \n",
              "CA-2011-100363                                                  0     \n",
              "...                                                           ...     \n",
              "US-2014-168802                                                  0     \n",
              "US-2014-169320                                                  0     \n",
              "US-2014-169488                                                  0     \n",
              "US-2014-169502                                                  0     \n",
              "US-2014-169551                                                  0     \n",
              "\n",
              "Product Name    #6 3/4 Gummed Flap White Envelopes  \\\n",
              "Order ID                                             \n",
              "CA-2011-100006                                   0   \n",
              "CA-2011-100090                                   0   \n",
              "CA-2011-100293                                   0   \n",
              "CA-2011-100328                                   0   \n",
              "CA-2011-100363                                   0   \n",
              "...                                            ...   \n",
              "US-2014-168802                                   0   \n",
              "US-2014-169320                                   0   \n",
              "US-2014-169488                                   0   \n",
              "US-2014-169502                                   0   \n",
              "US-2014-169551                                   0   \n",
              "\n",
              "Product Name    1.7 Cubic Foot Compact \"Cube\" Office Refrigerators  \\\n",
              "Order ID                                                             \n",
              "CA-2011-100006                                                  0    \n",
              "CA-2011-100090                                                  0    \n",
              "CA-2011-100293                                                  0    \n",
              "CA-2011-100328                                                  0    \n",
              "CA-2011-100363                                                  0    \n",
              "...                                                           ...    \n",
              "US-2014-168802                                                  0    \n",
              "US-2014-169320                                                  0    \n",
              "US-2014-169488                                                  0    \n",
              "US-2014-169502                                                  0    \n",
              "US-2014-169551                                                  0    \n",
              "\n",
              "Product Name    1/4 Fold Party Design Invitations & White Envelopes, 24 8-1/2\" X 11\" Cards, 25 Env./Pack  \\\n",
              "Order ID                                                                                                   \n",
              "CA-2011-100006                                                  0                                          \n",
              "CA-2011-100090                                                  0                                          \n",
              "CA-2011-100293                                                  0                                          \n",
              "CA-2011-100328                                                  0                                          \n",
              "CA-2011-100363                                                  0                                          \n",
              "...                                                           ...                                          \n",
              "US-2014-168802                                                  0                                          \n",
              "US-2014-169320                                                  0                                          \n",
              "US-2014-169488                                                  0                                          \n",
              "US-2014-169502                                                  0                                          \n",
              "US-2014-169551                                                  0                                          \n",
              "\n",
              "Product Name    ...  Zebra ZM400 Thermal Label Printer  \\\n",
              "Order ID        ...                                      \n",
              "CA-2011-100006  ...                                  0   \n",
              "CA-2011-100090  ...                                  0   \n",
              "CA-2011-100293  ...                                  0   \n",
              "CA-2011-100328  ...                                  0   \n",
              "CA-2011-100363  ...                                  0   \n",
              "...             ...                                ...   \n",
              "US-2014-168802  ...                                  0   \n",
              "US-2014-169320  ...                                  0   \n",
              "US-2014-169488  ...                                  0   \n",
              "US-2014-169502  ...                                  0   \n",
              "US-2014-169551  ...                                  0   \n",
              "\n",
              "Product Name    Zebra Zazzle Fluorescent Highlighters  \\\n",
              "Order ID                                                \n",
              "CA-2011-100006                                      0   \n",
              "CA-2011-100090                                      0   \n",
              "CA-2011-100293                                      0   \n",
              "CA-2011-100328                                      0   \n",
              "CA-2011-100363                                      0   \n",
              "...                                               ...   \n",
              "US-2014-168802                                      0   \n",
              "US-2014-169320                                      0   \n",
              "US-2014-169488                                      0   \n",
              "US-2014-169502                                      0   \n",
              "US-2014-169551                                      0   \n",
              "\n",
              "Product Name    Zipper Ring Binder Pockets  i.Sound Portable Power - 8000 mAh  \\\n",
              "Order ID                                                                        \n",
              "CA-2011-100006                           0                                  0   \n",
              "CA-2011-100090                           0                                  0   \n",
              "CA-2011-100293                           0                                  0   \n",
              "CA-2011-100328                           0                                  0   \n",
              "CA-2011-100363                           0                                  0   \n",
              "...                                    ...                                ...   \n",
              "US-2014-168802                           0                                  0   \n",
              "US-2014-169320                           0                                  0   \n",
              "US-2014-169488                           0                                  0   \n",
              "US-2014-169502                           0                                  0   \n",
              "US-2014-169551                           0                                  0   \n",
              "\n",
              "Product Name    iHome FM Clock Radio with Lightning Dock  \\\n",
              "Order ID                                                   \n",
              "CA-2011-100006                                         0   \n",
              "CA-2011-100090                                         0   \n",
              "CA-2011-100293                                         0   \n",
              "CA-2011-100328                                         0   \n",
              "CA-2011-100363                                         0   \n",
              "...                                                  ...   \n",
              "US-2014-168802                                         0   \n",
              "US-2014-169320                                         0   \n",
              "US-2014-169488                                         0   \n",
              "US-2014-169502                                         0   \n",
              "US-2014-169551                                         0   \n",
              "\n",
              "Product Name    iKross Bluetooth Portable Keyboard + Cell Phone Stand Holder + Brush for Apple iPhone 5S 5C 5, 4S 4  \\\n",
              "Order ID                                                                                                              \n",
              "CA-2011-100006                                                  0                                                     \n",
              "CA-2011-100090                                                  0                                                     \n",
              "CA-2011-100293                                                  0                                                     \n",
              "CA-2011-100328                                                  0                                                     \n",
              "CA-2011-100363                                                  0                                                     \n",
              "...                                                           ...                                                     \n",
              "US-2014-168802                                                  0                                                     \n",
              "US-2014-169320                                                  0                                                     \n",
              "US-2014-169488                                                  0                                                     \n",
              "US-2014-169502                                                  0                                                     \n",
              "US-2014-169551                                                  0                                                     \n",
              "\n",
              "Product Name    iOttie HLCRIO102 Car Mount  iOttie XL Car Mount  \\\n",
              "Order ID                                                          \n",
              "CA-2011-100006                           0                    0   \n",
              "CA-2011-100090                           0                    0   \n",
              "CA-2011-100293                           0                    0   \n",
              "CA-2011-100328                           0                    0   \n",
              "CA-2011-100363                           0                    0   \n",
              "...                                    ...                  ...   \n",
              "US-2014-168802                           0                    0   \n",
              "US-2014-169320                           0                    0   \n",
              "US-2014-169488                           0                    0   \n",
              "US-2014-169502                           0                    0   \n",
              "US-2014-169551                           0                    0   \n",
              "\n",
              "Product Name    invisibleSHIELD by ZAGG Smudge-Free Screen Protector  \\\n",
              "Order ID                                                               \n",
              "CA-2011-100006                                                  0      \n",
              "CA-2011-100090                                                  0      \n",
              "CA-2011-100293                                                  0      \n",
              "CA-2011-100328                                                  0      \n",
              "CA-2011-100363                                                  0      \n",
              "...                                                           ...      \n",
              "US-2014-168802                                                  0      \n",
              "US-2014-169320                                                  0      \n",
              "US-2014-169488                                                  0      \n",
              "US-2014-169502                                                  0      \n",
              "US-2014-169551                                                  0      \n",
              "\n",
              "Product Name    netTALK DUO VoIP Telephone Service  \n",
              "Order ID                                            \n",
              "CA-2011-100006                                   0  \n",
              "CA-2011-100090                                   0  \n",
              "CA-2011-100293                                   0  \n",
              "CA-2011-100328                                   0  \n",
              "CA-2011-100363                                   0  \n",
              "...                                            ...  \n",
              "US-2014-168802                                   0  \n",
              "US-2014-169320                                   0  \n",
              "US-2014-169488                                   0  \n",
              "US-2014-169502                                   0  \n",
              "US-2014-169551                                   0  \n",
              "\n",
              "[5009 rows x 1841 columns]"
            ],
            "text/html": [
              "\n",
              "  <div id=\"df-bb969b18-f05e-4769-8d81-69fddef50510\" class=\"colab-df-container\">\n",
              "    <div>\n",
              "<style scoped>\n",
              "    .dataframe tbody tr th:only-of-type {\n",
              "        vertical-align: middle;\n",
              "    }\n",
              "\n",
              "    .dataframe tbody tr th {\n",
              "        vertical-align: top;\n",
              "    }\n",
              "\n",
              "    .dataframe thead th {\n",
              "        text-align: right;\n",
              "    }\n",
              "</style>\n",
              "<table border=\"1\" class=\"dataframe\">\n",
              "  <thead>\n",
              "    <tr style=\"text-align: right;\">\n",
              "      <th>Product Name</th>\n",
              "      <th>\"While you Were Out\" Message Book, One Form per Page</th>\n",
              "      <th>#10 Gummed Flap White Envelopes, 100/Box</th>\n",
              "      <th>#10 Self-Seal White Envelopes</th>\n",
              "      <th>#10 White Business Envelopes,4 1/8 x 9 1/2</th>\n",
              "      <th>#10- 4 1/8\" x 9 1/2\" Recycled Envelopes</th>\n",
              "      <th>#10- 4 1/8\" x 9 1/2\" Security-Tint Envelopes</th>\n",
              "      <th>#10-4 1/8\" x 9 1/2\" Premium Diagonal Seam Envelopes</th>\n",
              "      <th>#6 3/4 Gummed Flap White Envelopes</th>\n",
              "      <th>1.7 Cubic Foot Compact \"Cube\" Office Refrigerators</th>\n",
              "      <th>1/4 Fold Party Design Invitations &amp; White Envelopes, 24 8-1/2\" X 11\" Cards, 25 Env./Pack</th>\n",
              "      <th>...</th>\n",
              "      <th>Zebra ZM400 Thermal Label Printer</th>\n",
              "      <th>Zebra Zazzle Fluorescent Highlighters</th>\n",
              "      <th>Zipper Ring Binder Pockets</th>\n",
              "      <th>i.Sound Portable Power - 8000 mAh</th>\n",
              "      <th>iHome FM Clock Radio with Lightning Dock</th>\n",
              "      <th>iKross Bluetooth Portable Keyboard + Cell Phone Stand Holder + Brush for Apple iPhone 5S 5C 5, 4S 4</th>\n",
              "      <th>iOttie HLCRIO102 Car Mount</th>\n",
              "      <th>iOttie XL Car Mount</th>\n",
              "      <th>invisibleSHIELD by ZAGG Smudge-Free Screen Protector</th>\n",
              "      <th>netTALK DUO VoIP Telephone Service</th>\n",
              "    </tr>\n",
              "    <tr>\n",
              "      <th>Order ID</th>\n",
              "      <th></th>\n",
              "      <th></th>\n",
              "      <th></th>\n",
              "      <th></th>\n",
              "      <th></th>\n",
              "      <th></th>\n",
              "      <th></th>\n",
              "      <th></th>\n",
              "      <th></th>\n",
              "      <th></th>\n",
              "      <th></th>\n",
              "      <th></th>\n",
              "      <th></th>\n",
              "      <th></th>\n",
              "      <th></th>\n",
              "      <th></th>\n",
              "      <th></th>\n",
              "      <th></th>\n",
              "      <th></th>\n",
              "      <th></th>\n",
              "      <th></th>\n",
              "    </tr>\n",
              "  </thead>\n",
              "  <tbody>\n",
              "    <tr>\n",
              "      <th>CA-2011-100006</th>\n",
              "      <td>0</td>\n",
              "      <td>0</td>\n",
              "      <td>0</td>\n",
              "      <td>0</td>\n",
              "      <td>0</td>\n",
              "      <td>0</td>\n",
              "      <td>0</td>\n",
              "      <td>0</td>\n",
              "      <td>0</td>\n",
              "      <td>0</td>\n",
              "      <td>...</td>\n",
              "      <td>0</td>\n",
              "      <td>0</td>\n",
              "      <td>0</td>\n",
              "      <td>0</td>\n",
              "      <td>0</td>\n",
              "      <td>0</td>\n",
              "      <td>0</td>\n",
              "      <td>0</td>\n",
              "      <td>0</td>\n",
              "      <td>0</td>\n",
              "    </tr>\n",
              "    <tr>\n",
              "      <th>CA-2011-100090</th>\n",
              "      <td>0</td>\n",
              "      <td>0</td>\n",
              "      <td>0</td>\n",
              "      <td>0</td>\n",
              "      <td>0</td>\n",
              "      <td>0</td>\n",
              "      <td>0</td>\n",
              "      <td>0</td>\n",
              "      <td>0</td>\n",
              "      <td>0</td>\n",
              "      <td>...</td>\n",
              "      <td>0</td>\n",
              "      <td>0</td>\n",
              "      <td>0</td>\n",
              "      <td>0</td>\n",
              "      <td>0</td>\n",
              "      <td>0</td>\n",
              "      <td>0</td>\n",
              "      <td>0</td>\n",
              "      <td>0</td>\n",
              "      <td>0</td>\n",
              "    </tr>\n",
              "    <tr>\n",
              "      <th>CA-2011-100293</th>\n",
              "      <td>0</td>\n",
              "      <td>0</td>\n",
              "      <td>0</td>\n",
              "      <td>0</td>\n",
              "      <td>0</td>\n",
              "      <td>0</td>\n",
              "      <td>0</td>\n",
              "      <td>0</td>\n",
              "      <td>0</td>\n",
              "      <td>0</td>\n",
              "      <td>...</td>\n",
              "      <td>0</td>\n",
              "      <td>0</td>\n",
              "      <td>0</td>\n",
              "      <td>0</td>\n",
              "      <td>0</td>\n",
              "      <td>0</td>\n",
              "      <td>0</td>\n",
              "      <td>0</td>\n",
              "      <td>0</td>\n",
              "      <td>0</td>\n",
              "    </tr>\n",
              "    <tr>\n",
              "      <th>CA-2011-100328</th>\n",
              "      <td>0</td>\n",
              "      <td>0</td>\n",
              "      <td>0</td>\n",
              "      <td>0</td>\n",
              "      <td>0</td>\n",
              "      <td>0</td>\n",
              "      <td>0</td>\n",
              "      <td>0</td>\n",
              "      <td>0</td>\n",
              "      <td>0</td>\n",
              "      <td>...</td>\n",
              "      <td>0</td>\n",
              "      <td>0</td>\n",
              "      <td>0</td>\n",
              "      <td>0</td>\n",
              "      <td>0</td>\n",
              "      <td>0</td>\n",
              "      <td>0</td>\n",
              "      <td>0</td>\n",
              "      <td>0</td>\n",
              "      <td>0</td>\n",
              "    </tr>\n",
              "    <tr>\n",
              "      <th>CA-2011-100363</th>\n",
              "      <td>0</td>\n",
              "      <td>0</td>\n",
              "      <td>0</td>\n",
              "      <td>0</td>\n",
              "      <td>0</td>\n",
              "      <td>0</td>\n",
              "      <td>0</td>\n",
              "      <td>0</td>\n",
              "      <td>0</td>\n",
              "      <td>0</td>\n",
              "      <td>...</td>\n",
              "      <td>0</td>\n",
              "      <td>0</td>\n",
              "      <td>0</td>\n",
              "      <td>0</td>\n",
              "      <td>0</td>\n",
              "      <td>0</td>\n",
              "      <td>0</td>\n",
              "      <td>0</td>\n",
              "      <td>0</td>\n",
              "      <td>0</td>\n",
              "    </tr>\n",
              "    <tr>\n",
              "      <th>...</th>\n",
              "      <td>...</td>\n",
              "      <td>...</td>\n",
              "      <td>...</td>\n",
              "      <td>...</td>\n",
              "      <td>...</td>\n",
              "      <td>...</td>\n",
              "      <td>...</td>\n",
              "      <td>...</td>\n",
              "      <td>...</td>\n",
              "      <td>...</td>\n",
              "      <td>...</td>\n",
              "      <td>...</td>\n",
              "      <td>...</td>\n",
              "      <td>...</td>\n",
              "      <td>...</td>\n",
              "      <td>...</td>\n",
              "      <td>...</td>\n",
              "      <td>...</td>\n",
              "      <td>...</td>\n",
              "      <td>...</td>\n",
              "      <td>...</td>\n",
              "    </tr>\n",
              "    <tr>\n",
              "      <th>US-2014-168802</th>\n",
              "      <td>0</td>\n",
              "      <td>0</td>\n",
              "      <td>0</td>\n",
              "      <td>0</td>\n",
              "      <td>0</td>\n",
              "      <td>0</td>\n",
              "      <td>0</td>\n",
              "      <td>0</td>\n",
              "      <td>0</td>\n",
              "      <td>0</td>\n",
              "      <td>...</td>\n",
              "      <td>0</td>\n",
              "      <td>0</td>\n",
              "      <td>0</td>\n",
              "      <td>0</td>\n",
              "      <td>0</td>\n",
              "      <td>0</td>\n",
              "      <td>0</td>\n",
              "      <td>0</td>\n",
              "      <td>0</td>\n",
              "      <td>0</td>\n",
              "    </tr>\n",
              "    <tr>\n",
              "      <th>US-2014-169320</th>\n",
              "      <td>0</td>\n",
              "      <td>0</td>\n",
              "      <td>0</td>\n",
              "      <td>0</td>\n",
              "      <td>0</td>\n",
              "      <td>0</td>\n",
              "      <td>0</td>\n",
              "      <td>0</td>\n",
              "      <td>0</td>\n",
              "      <td>0</td>\n",
              "      <td>...</td>\n",
              "      <td>0</td>\n",
              "      <td>0</td>\n",
              "      <td>0</td>\n",
              "      <td>0</td>\n",
              "      <td>0</td>\n",
              "      <td>0</td>\n",
              "      <td>0</td>\n",
              "      <td>0</td>\n",
              "      <td>0</td>\n",
              "      <td>0</td>\n",
              "    </tr>\n",
              "    <tr>\n",
              "      <th>US-2014-169488</th>\n",
              "      <td>0</td>\n",
              "      <td>0</td>\n",
              "      <td>0</td>\n",
              "      <td>0</td>\n",
              "      <td>0</td>\n",
              "      <td>0</td>\n",
              "      <td>0</td>\n",
              "      <td>0</td>\n",
              "      <td>0</td>\n",
              "      <td>0</td>\n",
              "      <td>...</td>\n",
              "      <td>0</td>\n",
              "      <td>0</td>\n",
              "      <td>0</td>\n",
              "      <td>0</td>\n",
              "      <td>0</td>\n",
              "      <td>0</td>\n",
              "      <td>0</td>\n",
              "      <td>0</td>\n",
              "      <td>0</td>\n",
              "      <td>0</td>\n",
              "    </tr>\n",
              "    <tr>\n",
              "      <th>US-2014-169502</th>\n",
              "      <td>0</td>\n",
              "      <td>0</td>\n",
              "      <td>0</td>\n",
              "      <td>0</td>\n",
              "      <td>0</td>\n",
              "      <td>0</td>\n",
              "      <td>0</td>\n",
              "      <td>0</td>\n",
              "      <td>0</td>\n",
              "      <td>0</td>\n",
              "      <td>...</td>\n",
              "      <td>0</td>\n",
              "      <td>0</td>\n",
              "      <td>0</td>\n",
              "      <td>0</td>\n",
              "      <td>0</td>\n",
              "      <td>0</td>\n",
              "      <td>0</td>\n",
              "      <td>0</td>\n",
              "      <td>0</td>\n",
              "      <td>0</td>\n",
              "    </tr>\n",
              "    <tr>\n",
              "      <th>US-2014-169551</th>\n",
              "      <td>0</td>\n",
              "      <td>0</td>\n",
              "      <td>0</td>\n",
              "      <td>0</td>\n",
              "      <td>0</td>\n",
              "      <td>0</td>\n",
              "      <td>0</td>\n",
              "      <td>0</td>\n",
              "      <td>0</td>\n",
              "      <td>0</td>\n",
              "      <td>...</td>\n",
              "      <td>0</td>\n",
              "      <td>0</td>\n",
              "      <td>0</td>\n",
              "      <td>0</td>\n",
              "      <td>0</td>\n",
              "      <td>0</td>\n",
              "      <td>0</td>\n",
              "      <td>0</td>\n",
              "      <td>0</td>\n",
              "      <td>0</td>\n",
              "    </tr>\n",
              "  </tbody>\n",
              "</table>\n",
              "<p>5009 rows × 1841 columns</p>\n",
              "</div>\n",
              "    <div class=\"colab-df-buttons\">\n",
              "\n",
              "  <div class=\"colab-df-container\">\n",
              "    <button class=\"colab-df-convert\" onclick=\"convertToInteractive('df-bb969b18-f05e-4769-8d81-69fddef50510')\"\n",
              "            title=\"Convert this dataframe to an interactive table.\"\n",
              "            style=\"display:none;\">\n",
              "\n",
              "  <svg xmlns=\"http://www.w3.org/2000/svg\" height=\"24px\" viewBox=\"0 -960 960 960\">\n",
              "    <path d=\"M120-120v-720h720v720H120Zm60-500h600v-160H180v160Zm220 220h160v-160H400v160Zm0 220h160v-160H400v160ZM180-400h160v-160H180v160Zm440 0h160v-160H620v160ZM180-180h160v-160H180v160Zm440 0h160v-160H620v160Z\"/>\n",
              "  </svg>\n",
              "    </button>\n",
              "\n",
              "  <style>\n",
              "    .colab-df-container {\n",
              "      display:flex;\n",
              "      gap: 12px;\n",
              "    }\n",
              "\n",
              "    .colab-df-convert {\n",
              "      background-color: #E8F0FE;\n",
              "      border: none;\n",
              "      border-radius: 50%;\n",
              "      cursor: pointer;\n",
              "      display: none;\n",
              "      fill: #1967D2;\n",
              "      height: 32px;\n",
              "      padding: 0 0 0 0;\n",
              "      width: 32px;\n",
              "    }\n",
              "\n",
              "    .colab-df-convert:hover {\n",
              "      background-color: #E2EBFA;\n",
              "      box-shadow: 0px 1px 2px rgba(60, 64, 67, 0.3), 0px 1px 3px 1px rgba(60, 64, 67, 0.15);\n",
              "      fill: #174EA6;\n",
              "    }\n",
              "\n",
              "    .colab-df-buttons div {\n",
              "      margin-bottom: 4px;\n",
              "    }\n",
              "\n",
              "    [theme=dark] .colab-df-convert {\n",
              "      background-color: #3B4455;\n",
              "      fill: #D2E3FC;\n",
              "    }\n",
              "\n",
              "    [theme=dark] .colab-df-convert:hover {\n",
              "      background-color: #434B5C;\n",
              "      box-shadow: 0px 1px 3px 1px rgba(0, 0, 0, 0.15);\n",
              "      filter: drop-shadow(0px 1px 2px rgba(0, 0, 0, 0.3));\n",
              "      fill: #FFFFFF;\n",
              "    }\n",
              "  </style>\n",
              "\n",
              "    <script>\n",
              "      const buttonEl =\n",
              "        document.querySelector('#df-bb969b18-f05e-4769-8d81-69fddef50510 button.colab-df-convert');\n",
              "      buttonEl.style.display =\n",
              "        google.colab.kernel.accessAllowed ? 'block' : 'none';\n",
              "\n",
              "      async function convertToInteractive(key) {\n",
              "        const element = document.querySelector('#df-bb969b18-f05e-4769-8d81-69fddef50510');\n",
              "        const dataTable =\n",
              "          await google.colab.kernel.invokeFunction('convertToInteractive',\n",
              "                                                    [key], {});\n",
              "        if (!dataTable) return;\n",
              "\n",
              "        const docLinkHtml = 'Like what you see? Visit the ' +\n",
              "          '<a target=\"_blank\" href=https://colab.research.google.com/notebooks/data_table.ipynb>data table notebook</a>'\n",
              "          + ' to learn more about interactive tables.';\n",
              "        element.innerHTML = '';\n",
              "        dataTable['output_type'] = 'display_data';\n",
              "        await google.colab.output.renderOutput(dataTable, element);\n",
              "        const docLink = document.createElement('div');\n",
              "        docLink.innerHTML = docLinkHtml;\n",
              "        element.appendChild(docLink);\n",
              "      }\n",
              "    </script>\n",
              "  </div>\n",
              "\n",
              "\n",
              "<div id=\"df-3248a145-dcf9-496c-8f22-3759be72c10b\">\n",
              "  <button class=\"colab-df-quickchart\" onclick=\"quickchart('df-3248a145-dcf9-496c-8f22-3759be72c10b')\"\n",
              "            title=\"Suggest charts.\"\n",
              "            style=\"display:none;\">\n",
              "\n",
              "<svg xmlns=\"http://www.w3.org/2000/svg\" height=\"24px\"viewBox=\"0 0 24 24\"\n",
              "     width=\"24px\">\n",
              "    <g>\n",
              "        <path d=\"M19 3H5c-1.1 0-2 .9-2 2v14c0 1.1.9 2 2 2h14c1.1 0 2-.9 2-2V5c0-1.1-.9-2-2-2zM9 17H7v-7h2v7zm4 0h-2V7h2v10zm4 0h-2v-4h2v4z\"/>\n",
              "    </g>\n",
              "</svg>\n",
              "  </button>\n",
              "\n",
              "<style>\n",
              "  .colab-df-quickchart {\n",
              "    background-color: #E8F0FE;\n",
              "    border: none;\n",
              "    border-radius: 50%;\n",
              "    cursor: pointer;\n",
              "    display: none;\n",
              "    fill: #1967D2;\n",
              "    height: 32px;\n",
              "    padding: 0 0 0 0;\n",
              "    width: 32px;\n",
              "  }\n",
              "\n",
              "  .colab-df-quickchart:hover {\n",
              "    background-color: #E2EBFA;\n",
              "    box-shadow: 0px 1px 2px rgba(60, 64, 67, 0.3), 0px 1px 3px 1px rgba(60, 64, 67, 0.15);\n",
              "    fill: #174EA6;\n",
              "  }\n",
              "\n",
              "  [theme=dark] .colab-df-quickchart {\n",
              "    background-color: #3B4455;\n",
              "    fill: #D2E3FC;\n",
              "  }\n",
              "\n",
              "  [theme=dark] .colab-df-quickchart:hover {\n",
              "    background-color: #434B5C;\n",
              "    box-shadow: 0px 1px 3px 1px rgba(0, 0, 0, 0.15);\n",
              "    filter: drop-shadow(0px 1px 2px rgba(0, 0, 0, 0.3));\n",
              "    fill: #FFFFFF;\n",
              "  }\n",
              "</style>\n",
              "\n",
              "  <script>\n",
              "    async function quickchart(key) {\n",
              "      const charts = await google.colab.kernel.invokeFunction(\n",
              "          'suggestCharts', [key], {});\n",
              "    }\n",
              "    (() => {\n",
              "      let quickchartButtonEl =\n",
              "        document.querySelector('#df-3248a145-dcf9-496c-8f22-3759be72c10b button');\n",
              "      quickchartButtonEl.style.display =\n",
              "        google.colab.kernel.accessAllowed ? 'block' : 'none';\n",
              "    })();\n",
              "  </script>\n",
              "</div>\n",
              "    </div>\n",
              "  </div>\n"
            ]
          },
          "metadata": {},
          "execution_count": 73
        }
      ],
      "source": [
        "basket = (ss.groupby(['Order ID', 'Product Name'])['Quantity']\n",
        "          .sum().unstack().reset_index().fillna(0)\n",
        "          .set_index('Order ID'))\n",
        "\n",
        "def encode_units(x):\n",
        "    if x <= 0:\n",
        "        return 0\n",
        "    if x >= 1:\n",
        "        return 1\n",
        "\n",
        "basket_sets = basket.applymap(encode_units)\n",
        "basket_sets"
      ]
    },
    {
      "cell_type": "code",
      "execution_count": null,
      "metadata": {
        "id": "jny4UHS-JvxC",
        "outputId": "e669516a-9dd8-4148-cf6f-b80537627536",
        "colab": {
          "base_uri": "https://localhost:8080/",
          "height": 457
        }
      },
      "outputs": [
        {
          "output_type": "stream",
          "name": "stderr",
          "text": [
            "/usr/local/lib/python3.10/dist-packages/ipykernel/ipkernel.py:283: DeprecationWarning: `should_run_async` will not call `transform_cell` automatically in the future. Please pass the result to `transformed_cell` argument and any exception that happen during thetransform in `preprocessing_exc_tuple` in IPython 7.17 and above.\n",
            "  and should_run_async(code)\n",
            "/usr/local/lib/python3.10/dist-packages/mlxtend/frequent_patterns/fpcommon.py:110: DeprecationWarning: DataFrames with non-bool types result in worse computationalperformance and their support might be discontinued in the future.Please use a DataFrame with bool type\n",
            "  warnings.warn(\n"
          ]
        },
        {
          "output_type": "error",
          "ename": "ValueError",
          "evalue": "ignored",
          "traceback": [
            "\u001b[0;31m---------------------------------------------------------------------------\u001b[0m",
            "\u001b[0;31mValueError\u001b[0m                                Traceback (most recent call last)",
            "\u001b[0;32m<ipython-input-76-b954d95d879e>\u001b[0m in \u001b[0;36m<cell line: 8>\u001b[0;34m()\u001b[0m\n\u001b[1;32m      6\u001b[0m \u001b[0;34m\u001b[0m\u001b[0m\n\u001b[1;32m      7\u001b[0m \u001b[0;31m# Generate association rules\u001b[0m\u001b[0;34m\u001b[0m\u001b[0;34m\u001b[0m\u001b[0m\n\u001b[0;32m----> 8\u001b[0;31m \u001b[0massociation_rules_df\u001b[0m \u001b[0;34m=\u001b[0m \u001b[0massociation_rules\u001b[0m\u001b[0;34m(\u001b[0m\u001b[0mfrequent_itemsets\u001b[0m\u001b[0;34m,\u001b[0m \u001b[0mmetric\u001b[0m\u001b[0;34m=\u001b[0m\u001b[0;34m\"lift\"\u001b[0m\u001b[0;34m,\u001b[0m \u001b[0mmin_threshold\u001b[0m\u001b[0;34m=\u001b[0m\u001b[0;36m1\u001b[0m\u001b[0;34m)\u001b[0m\u001b[0;34m\u001b[0m\u001b[0;34m\u001b[0m\u001b[0m\n\u001b[0m\u001b[1;32m      9\u001b[0m \u001b[0;34m\u001b[0m\u001b[0m\n\u001b[1;32m     10\u001b[0m \u001b[0;31m# Display association rules\u001b[0m\u001b[0;34m\u001b[0m\u001b[0;34m\u001b[0m\u001b[0m\n",
            "\u001b[0;32m/usr/local/lib/python3.10/dist-packages/mlxtend/frequent_patterns/association_rules.py\u001b[0m in \u001b[0;36massociation_rules\u001b[0;34m(df, metric, min_threshold, support_only)\u001b[0m\n\u001b[1;32m     81\u001b[0m     \"\"\"\n\u001b[1;32m     82\u001b[0m     \u001b[0;32mif\u001b[0m \u001b[0;32mnot\u001b[0m \u001b[0mdf\u001b[0m\u001b[0;34m.\u001b[0m\u001b[0mshape\u001b[0m\u001b[0;34m[\u001b[0m\u001b[0;36m0\u001b[0m\u001b[0;34m]\u001b[0m\u001b[0;34m:\u001b[0m\u001b[0;34m\u001b[0m\u001b[0;34m\u001b[0m\u001b[0m\n\u001b[0;32m---> 83\u001b[0;31m         raise ValueError(\n\u001b[0m\u001b[1;32m     84\u001b[0m             \u001b[0;34m\"The input DataFrame `df` containing \"\u001b[0m \u001b[0;34m\"the frequent itemsets is empty.\"\u001b[0m\u001b[0;34m\u001b[0m\u001b[0;34m\u001b[0m\u001b[0m\n\u001b[1;32m     85\u001b[0m         )\n",
            "\u001b[0;31mValueError\u001b[0m: The input DataFrame `df` containing the frequent itemsets is empty."
          ]
        }
      ],
      "source": [
        "import pandas as pd\n",
        "from mlxtend.frequent_patterns import apriori, association_rules\n",
        "\n",
        "# Generate frequent itemsets using Apriori algorithm\n",
        "frequent_itemsets = apriori(encoded_df.drop('Order ID', axis=1), min_support=0.05, use_colnames=True)\n",
        "\n",
        "# Generate association rules\n",
        "association_rules_df = association_rules(frequent_itemsets, metric=\"lift\", min_threshold=1)\n",
        "\n",
        "# Display association rules\n",
        "print(\"Frequent Itemsets:\")\n",
        "print(frequent_itemsets)\n",
        "print(\"\\nAssociation Rules:\")\n",
        "print(association_rules_df)"
      ]
    },
    {
      "cell_type": "markdown",
      "metadata": {
        "id": "X_9EmL2hJvxC"
      },
      "source": [
        "There is no association rule beacause all product didn't pass minimum support and minimum threshold."
      ]
    },
    {
      "cell_type": "markdown",
      "source": [
        " **Coupon Redemption Rate**: Measure how often customers use coupons or discounts"
      ],
      "metadata": {
        "id": "U_I6yUZih7cp"
      }
    },
    {
      "cell_type": "code",
      "source": [
        "ss['Discount'].describe()"
      ],
      "metadata": {
        "id": "4goc7gZ_h6bU",
        "outputId": "6f746d25-2832-438f-dad0-108313d5aa35",
        "colab": {
          "base_uri": "https://localhost:8080/"
        }
      },
      "execution_count": null,
      "outputs": [
        {
          "output_type": "stream",
          "name": "stderr",
          "text": [
            "/usr/local/lib/python3.10/dist-packages/ipykernel/ipkernel.py:283: DeprecationWarning: `should_run_async` will not call `transform_cell` automatically in the future. Please pass the result to `transformed_cell` argument and any exception that happen during thetransform in `preprocessing_exc_tuple` in IPython 7.17 and above.\n",
            "  and should_run_async(code)\n"
          ]
        },
        {
          "output_type": "execute_result",
          "data": {
            "text/plain": [
              "count    9994.000000\n",
              "mean        0.156203\n",
              "std         0.206452\n",
              "min         0.000000\n",
              "25%         0.000000\n",
              "50%         0.200000\n",
              "75%         0.200000\n",
              "max         0.800000\n",
              "Name: Discount, dtype: float64"
            ]
          },
          "metadata": {},
          "execution_count": 51
        }
      ]
    },
    {
      "cell_type": "code",
      "source": [
        "crr = (ss['Discount'] > 0).sum()/ss.shape[0]*100\n",
        "crr"
      ],
      "metadata": {
        "id": "1IM8B3Q6teRi",
        "outputId": "49208b79-d4d7-4d7c-e6e4-ac948f382a54",
        "colab": {
          "base_uri": "https://localhost:8080/"
        }
      },
      "execution_count": null,
      "outputs": [
        {
          "output_type": "stream",
          "name": "stderr",
          "text": [
            "/usr/local/lib/python3.10/dist-packages/ipykernel/ipkernel.py:283: DeprecationWarning: `should_run_async` will not call `transform_cell` automatically in the future. Please pass the result to `transformed_cell` argument and any exception that happen during thetransform in `preprocessing_exc_tuple` in IPython 7.17 and above.\n",
            "  and should_run_async(code)\n"
          ]
        },
        {
          "output_type": "execute_result",
          "data": {
            "text/plain": [
              "51.9911947168301"
            ]
          },
          "metadata": {},
          "execution_count": 86
        }
      ]
    },
    {
      "cell_type": "markdown",
      "source": [
        "51 percent of all transactions (order id + product name), user use discount."
      ],
      "metadata": {
        "id": "zxjuCkt-xrDE"
      }
    },
    {
      "cell_type": "markdown",
      "metadata": {
        "id": "RimG8pwQJvxC"
      },
      "source": [
        "# Supply Chain aspect"
      ]
    },
    {
      "cell_type": "markdown",
      "metadata": {
        "id": "vQ8LyZSeJvxC"
      },
      "source": [
        "find out time to ship order. We assume that order date is the day that order was made and ship date is the day when order was delivered."
      ]
    },
    {
      "cell_type": "code",
      "execution_count": null,
      "metadata": {
        "id": "HxEsaDm8JvxC",
        "outputId": "64324a68-0505-49d8-f29e-f86200889503",
        "colab": {
          "base_uri": "https://localhost:8080/"
        }
      },
      "outputs": [
        {
          "output_type": "stream",
          "name": "stderr",
          "text": [
            "/usr/local/lib/python3.10/dist-packages/ipykernel/ipkernel.py:283: DeprecationWarning: `should_run_async` will not call `transform_cell` automatically in the future. Please pass the result to `transformed_cell` argument and any exception that happen during thetransform in `preprocessing_exc_tuple` in IPython 7.17 and above.\n",
            "  and should_run_async(code)\n"
          ]
        },
        {
          "output_type": "execute_result",
          "data": {
            "text/plain": [
              "count                          9994\n",
              "mean      8 days 00:41:12.523514108\n",
              "std      96 days 04:26:57.728617038\n",
              "min             -320 days +00:00:00\n",
              "25%                 2 days 00:00:00\n",
              "50%                 4 days 00:00:00\n",
              "75%                61 days 00:00:00\n",
              "max               214 days 00:00:00\n",
              "Name: delivery time, dtype: object"
            ]
          },
          "metadata": {},
          "execution_count": 52
        }
      ],
      "source": [
        "ss['delivery time'] = ss['Ship Date'] - ss['Order Date']\n",
        "ss['delivery time'].describe()"
      ]
    },
    {
      "cell_type": "markdown",
      "source": [
        "It seems that min delivery time has negative value. So, we assume that it was mistakes in recording value. We solve this by absoluting their values."
      ],
      "metadata": {
        "id": "JDn9bS_lKfHJ"
      }
    },
    {
      "cell_type": "code",
      "execution_count": null,
      "metadata": {
        "id": "wB6BiXKjJvxC",
        "outputId": "fc4420f9-89d2-413c-98ee-f6111e05c756",
        "colab": {
          "base_uri": "https://localhost:8080/",
          "height": 1000
        }
      },
      "outputs": [
        {
          "output_type": "stream",
          "name": "stderr",
          "text": [
            "/usr/local/lib/python3.10/dist-packages/ipykernel/ipkernel.py:283: DeprecationWarning: `should_run_async` will not call `transform_cell` automatically in the future. Please pass the result to `transformed_cell` argument and any exception that happen during thetransform in `preprocessing_exc_tuple` in IPython 7.17 and above.\n",
            "  and should_run_async(code)\n"
          ]
        },
        {
          "output_type": "execute_result",
          "data": {
            "text/plain": [
              "      Row ID        Order ID Order Date  Ship Date       Ship Mode  \\\n",
              "716      717  CA-2011-130092 2011-12-01 2011-01-15     First Class   \n",
              "961      962  CA-2012-160059 2012-11-27 2012-01-12  Standard Class   \n",
              "2211    2212  CA-2013-162313 2013-11-28 2013-01-12     First Class   \n",
              "3475    3476  CA-2013-144911 2013-11-28 2013-01-12     First Class   \n",
              "3476    3477  CA-2013-144911 2013-11-28 2013-01-12     First Class   \n",
              "3793    3794  CA-2012-163762 2012-11-27 2012-01-12  Standard Class   \n",
              "4337    4338  CA-2012-125234 2012-11-27 2012-01-12  Standard Class   \n",
              "4338    4339  CA-2012-125234 2012-11-27 2012-01-12  Standard Class   \n",
              "5192    5193  CA-2011-101560 2011-11-28 2011-01-12    Second Class   \n",
              "5193    5194  CA-2011-101560 2011-11-28 2011-01-12    Second Class   \n",
              "5194    5195  CA-2011-101560 2011-11-28 2011-01-12    Second Class   \n",
              "5195    5196  CA-2011-101560 2011-11-28 2011-01-12    Second Class   \n",
              "5548    5549  CA-2011-159800 2011-11-28 2011-01-12     First Class   \n",
              "5549    5550  CA-2011-159800 2011-11-28 2011-01-12     First Class   \n",
              "6637    6638  CA-2014-103352 2014-11-28 2014-01-12    Second Class   \n",
              "6638    6639  CA-2014-103352 2014-11-28 2014-01-12    Second Class   \n",
              "9811    9812  CA-2013-117583 2013-11-28 2013-01-12     First Class   \n",
              "9812    9813  CA-2013-117583 2013-11-28 2013-01-12     First Class   \n",
              "9813    9814  CA-2013-117583 2013-11-28 2013-01-12     First Class   \n",
              "9814    9815  CA-2013-117583 2013-11-28 2013-01-12     First Class   \n",
              "\n",
              "     Customer ID      Customer Name      Segment        Country  \\\n",
              "716     SV-20365        Seth Vernon     Consumer  United States   \n",
              "961     TB-21190     Thomas Brumley  Home Office  United States   \n",
              "2211    VB-21745   Victoria Brennan    Corporate  United States   \n",
              "3475    RW-19630       Rob Williams    Corporate  United States   \n",
              "3476    RW-19630       Rob Williams    Corporate  United States   \n",
              "3793    JE-15475     Jeremy Ellison     Consumer  United States   \n",
              "4337    SN-20710       Steve Nguyen  Home Office  United States   \n",
              "4338    SN-20710       Steve Nguyen  Home Office  United States   \n",
              "5192    CS-12250    Chris Selesnick    Corporate  United States   \n",
              "5193    CS-12250    Chris Selesnick    Corporate  United States   \n",
              "5194    CS-12250    Chris Selesnick    Corporate  United States   \n",
              "5195    CS-12250    Chris Selesnick    Corporate  United States   \n",
              "5548    SG-20470       Sheri Gordon     Consumer  United States   \n",
              "5549    SG-20470       Sheri Gordon     Consumer  United States   \n",
              "6637    RP-19390       Resi Pölking     Consumer  United States   \n",
              "6638    RP-19390       Resi Pölking     Consumer  United States   \n",
              "9811    CB-12025  Cassandra Brandow     Consumer  United States   \n",
              "9812    CB-12025  Cassandra Brandow     Consumer  United States   \n",
              "9813    CB-12025  Cassandra Brandow     Consumer  United States   \n",
              "9814    CB-12025  Cassandra Brandow     Consumer  United States   \n",
              "\n",
              "               City  ...       Product ID         Category Sub-Category  \\\n",
              "716           Dover  ...  FUR-FU-10000010        Furniture  Furnishings   \n",
              "961    Fayetteville  ...  OFF-BI-10000145  Office Supplies      Binders   \n",
              "2211   Lincoln Park  ...  OFF-AP-10003842  Office Supplies   Appliances   \n",
              "3475  Overland Park  ...  TEC-AC-10004633       Technology  Accessories   \n",
              "3476  Overland Park  ...  OFF-BI-10000977  Office Supplies      Binders   \n",
              "3793  New York City  ...  OFF-AR-10001915  Office Supplies          Art   \n",
              "4337    Los Angeles  ...  TEC-AC-10000158       Technology  Accessories   \n",
              "4338    Los Angeles  ...  OFF-PA-10000482  Office Supplies        Paper   \n",
              "5192       Columbia  ...  FUR-FU-10003773        Furniture  Furnishings   \n",
              "5193       Columbia  ...  OFF-PA-10001363  Office Supplies        Paper   \n",
              "5194       Columbia  ...  OFF-AR-10004757  Office Supplies          Art   \n",
              "5195       Columbia  ...  OFF-BI-10000309  Office Supplies      Binders   \n",
              "5548  San Francisco  ...  OFF-AP-10004859  Office Supplies   Appliances   \n",
              "5549  San Francisco  ...  TEC-AC-10003447       Technology  Accessories   \n",
              "6637  New York City  ...  OFF-AR-10001573  Office Supplies          Art   \n",
              "6638  New York City  ...  OFF-BI-10001196  Office Supplies      Binders   \n",
              "9811    East Orange  ...  OFF-PA-10001246  Office Supplies        Paper   \n",
              "9812    East Orange  ...  OFF-AR-10000658  Office Supplies          Art   \n",
              "9813    East Orange  ...  OFF-PA-10000100  Office Supplies        Paper   \n",
              "9814    East Orange  ...  OFF-BI-10004233  Office Supplies      Binders   \n",
              "\n",
              "                                           Product Name    Sales Quantity  \\\n",
              "716     DAX Value U-Channel Document Frames, Easel Back    9.940        2   \n",
              "961                          Zipper Ring Binder Pockets    6.240        2   \n",
              "2211                        Euro-Pro Shark Turbo Vacuum  167.292        6   \n",
              "3475  Verbatim 25 GB 6x Blu-ray Single Layer Recorda...   34.950        5   \n",
              "3476                 Ibico Plastic Spiral Binding Combs  152.000        5   \n",
              "3793                             Peel-Off China Markers   29.790        3   \n",
              "4337      Sony 64GB Class 10 Micro SDHC R40 Memory Card  107.970        3   \n",
              "4338  Snap-A-Way Black Print Carbonless Ruled Speed ...  113.820        3   \n",
              "5192  Eldon Cleatmat Plus Chair Mats for High Pile C...  397.600        5   \n",
              "5193                                         Xerox 1933   85.960        7   \n",
              "5194                            Crayola Colored Pencils   13.120        4   \n",
              "5195  GBC Twin Loop Wire Binding Elements, 9/16\" Spi...   45.660        3   \n",
              "5548    Acco 6 Outlet Guardian Premium Surge Suppressor   43.680        3   \n",
              "5549                           Micropad Numeric Keypads  139.930        7   \n",
              "6637                                    American Pencil    6.990        3   \n",
              "6638               Avery Flip-Chart Easel Binder, Black  107.424        6   \n",
              "9811                                          Xerox 215   25.920        4   \n",
              "9812                                         Newell 324   34.650        3   \n",
              "9813                                         Xerox 1945  204.950        5   \n",
              "9814  GBC Pre-Punched Binding Paper, Plastic, White,...   79.950        5   \n",
              "\n",
              "     Discount    Profit  Order Month  delivery time  \n",
              "716       0.0    3.0814           12      -320 days  \n",
              "961       0.0    3.0576           11      -320 days  \n",
              "2211      0.1   29.7408           11      -320 days  \n",
              "3475      0.0   15.3780           11      -320 days  \n",
              "3476      0.0   69.9200           11      -320 days  \n",
              "3793      0.0   12.5118           11      -320 days  \n",
              "4337      0.0   22.6737           11      -320 days  \n",
              "4338      0.0   53.4954           11      -320 days  \n",
              "5192      0.0   43.7360           11      -320 days  \n",
              "5193      0.0   40.4012           11      -320 days  \n",
              "5194      0.0    4.3296           11      -320 days  \n",
              "5195      0.0   22.3734           11      -320 days  \n",
              "5548      0.0   11.7936           11      -320 days  \n",
              "5549      0.0   34.9825           11      -320 days  \n",
              "6637      0.0    2.0271           11      -320 days  \n",
              "6638      0.2   36.2556           11      -320 days  \n",
              "9811      0.0   12.4416           11      -320 days  \n",
              "9812      0.0    9.7020           11      -320 days  \n",
              "9813      0.0  100.4255           11      -320 days  \n",
              "9814      0.0   38.3760           11      -320 days  \n",
              "\n",
              "[20 rows x 23 columns]"
            ],
            "text/html": [
              "\n",
              "  <div id=\"df-d8ba9ce8-befd-4b59-af5f-94a74e3a5d3f\" class=\"colab-df-container\">\n",
              "    <div>\n",
              "<style scoped>\n",
              "    .dataframe tbody tr th:only-of-type {\n",
              "        vertical-align: middle;\n",
              "    }\n",
              "\n",
              "    .dataframe tbody tr th {\n",
              "        vertical-align: top;\n",
              "    }\n",
              "\n",
              "    .dataframe thead th {\n",
              "        text-align: right;\n",
              "    }\n",
              "</style>\n",
              "<table border=\"1\" class=\"dataframe\">\n",
              "  <thead>\n",
              "    <tr style=\"text-align: right;\">\n",
              "      <th></th>\n",
              "      <th>Row ID</th>\n",
              "      <th>Order ID</th>\n",
              "      <th>Order Date</th>\n",
              "      <th>Ship Date</th>\n",
              "      <th>Ship Mode</th>\n",
              "      <th>Customer ID</th>\n",
              "      <th>Customer Name</th>\n",
              "      <th>Segment</th>\n",
              "      <th>Country</th>\n",
              "      <th>City</th>\n",
              "      <th>...</th>\n",
              "      <th>Product ID</th>\n",
              "      <th>Category</th>\n",
              "      <th>Sub-Category</th>\n",
              "      <th>Product Name</th>\n",
              "      <th>Sales</th>\n",
              "      <th>Quantity</th>\n",
              "      <th>Discount</th>\n",
              "      <th>Profit</th>\n",
              "      <th>Order Month</th>\n",
              "      <th>delivery time</th>\n",
              "    </tr>\n",
              "  </thead>\n",
              "  <tbody>\n",
              "    <tr>\n",
              "      <th>716</th>\n",
              "      <td>717</td>\n",
              "      <td>CA-2011-130092</td>\n",
              "      <td>2011-12-01</td>\n",
              "      <td>2011-01-15</td>\n",
              "      <td>First Class</td>\n",
              "      <td>SV-20365</td>\n",
              "      <td>Seth Vernon</td>\n",
              "      <td>Consumer</td>\n",
              "      <td>United States</td>\n",
              "      <td>Dover</td>\n",
              "      <td>...</td>\n",
              "      <td>FUR-FU-10000010</td>\n",
              "      <td>Furniture</td>\n",
              "      <td>Furnishings</td>\n",
              "      <td>DAX Value U-Channel Document Frames, Easel Back</td>\n",
              "      <td>9.940</td>\n",
              "      <td>2</td>\n",
              "      <td>0.0</td>\n",
              "      <td>3.0814</td>\n",
              "      <td>12</td>\n",
              "      <td>-320 days</td>\n",
              "    </tr>\n",
              "    <tr>\n",
              "      <th>961</th>\n",
              "      <td>962</td>\n",
              "      <td>CA-2012-160059</td>\n",
              "      <td>2012-11-27</td>\n",
              "      <td>2012-01-12</td>\n",
              "      <td>Standard Class</td>\n",
              "      <td>TB-21190</td>\n",
              "      <td>Thomas Brumley</td>\n",
              "      <td>Home Office</td>\n",
              "      <td>United States</td>\n",
              "      <td>Fayetteville</td>\n",
              "      <td>...</td>\n",
              "      <td>OFF-BI-10000145</td>\n",
              "      <td>Office Supplies</td>\n",
              "      <td>Binders</td>\n",
              "      <td>Zipper Ring Binder Pockets</td>\n",
              "      <td>6.240</td>\n",
              "      <td>2</td>\n",
              "      <td>0.0</td>\n",
              "      <td>3.0576</td>\n",
              "      <td>11</td>\n",
              "      <td>-320 days</td>\n",
              "    </tr>\n",
              "    <tr>\n",
              "      <th>2211</th>\n",
              "      <td>2212</td>\n",
              "      <td>CA-2013-162313</td>\n",
              "      <td>2013-11-28</td>\n",
              "      <td>2013-01-12</td>\n",
              "      <td>First Class</td>\n",
              "      <td>VB-21745</td>\n",
              "      <td>Victoria Brennan</td>\n",
              "      <td>Corporate</td>\n",
              "      <td>United States</td>\n",
              "      <td>Lincoln Park</td>\n",
              "      <td>...</td>\n",
              "      <td>OFF-AP-10003842</td>\n",
              "      <td>Office Supplies</td>\n",
              "      <td>Appliances</td>\n",
              "      <td>Euro-Pro Shark Turbo Vacuum</td>\n",
              "      <td>167.292</td>\n",
              "      <td>6</td>\n",
              "      <td>0.1</td>\n",
              "      <td>29.7408</td>\n",
              "      <td>11</td>\n",
              "      <td>-320 days</td>\n",
              "    </tr>\n",
              "    <tr>\n",
              "      <th>3475</th>\n",
              "      <td>3476</td>\n",
              "      <td>CA-2013-144911</td>\n",
              "      <td>2013-11-28</td>\n",
              "      <td>2013-01-12</td>\n",
              "      <td>First Class</td>\n",
              "      <td>RW-19630</td>\n",
              "      <td>Rob Williams</td>\n",
              "      <td>Corporate</td>\n",
              "      <td>United States</td>\n",
              "      <td>Overland Park</td>\n",
              "      <td>...</td>\n",
              "      <td>TEC-AC-10004633</td>\n",
              "      <td>Technology</td>\n",
              "      <td>Accessories</td>\n",
              "      <td>Verbatim 25 GB 6x Blu-ray Single Layer Recorda...</td>\n",
              "      <td>34.950</td>\n",
              "      <td>5</td>\n",
              "      <td>0.0</td>\n",
              "      <td>15.3780</td>\n",
              "      <td>11</td>\n",
              "      <td>-320 days</td>\n",
              "    </tr>\n",
              "    <tr>\n",
              "      <th>3476</th>\n",
              "      <td>3477</td>\n",
              "      <td>CA-2013-144911</td>\n",
              "      <td>2013-11-28</td>\n",
              "      <td>2013-01-12</td>\n",
              "      <td>First Class</td>\n",
              "      <td>RW-19630</td>\n",
              "      <td>Rob Williams</td>\n",
              "      <td>Corporate</td>\n",
              "      <td>United States</td>\n",
              "      <td>Overland Park</td>\n",
              "      <td>...</td>\n",
              "      <td>OFF-BI-10000977</td>\n",
              "      <td>Office Supplies</td>\n",
              "      <td>Binders</td>\n",
              "      <td>Ibico Plastic Spiral Binding Combs</td>\n",
              "      <td>152.000</td>\n",
              "      <td>5</td>\n",
              "      <td>0.0</td>\n",
              "      <td>69.9200</td>\n",
              "      <td>11</td>\n",
              "      <td>-320 days</td>\n",
              "    </tr>\n",
              "    <tr>\n",
              "      <th>3793</th>\n",
              "      <td>3794</td>\n",
              "      <td>CA-2012-163762</td>\n",
              "      <td>2012-11-27</td>\n",
              "      <td>2012-01-12</td>\n",
              "      <td>Standard Class</td>\n",
              "      <td>JE-15475</td>\n",
              "      <td>Jeremy Ellison</td>\n",
              "      <td>Consumer</td>\n",
              "      <td>United States</td>\n",
              "      <td>New York City</td>\n",
              "      <td>...</td>\n",
              "      <td>OFF-AR-10001915</td>\n",
              "      <td>Office Supplies</td>\n",
              "      <td>Art</td>\n",
              "      <td>Peel-Off China Markers</td>\n",
              "      <td>29.790</td>\n",
              "      <td>3</td>\n",
              "      <td>0.0</td>\n",
              "      <td>12.5118</td>\n",
              "      <td>11</td>\n",
              "      <td>-320 days</td>\n",
              "    </tr>\n",
              "    <tr>\n",
              "      <th>4337</th>\n",
              "      <td>4338</td>\n",
              "      <td>CA-2012-125234</td>\n",
              "      <td>2012-11-27</td>\n",
              "      <td>2012-01-12</td>\n",
              "      <td>Standard Class</td>\n",
              "      <td>SN-20710</td>\n",
              "      <td>Steve Nguyen</td>\n",
              "      <td>Home Office</td>\n",
              "      <td>United States</td>\n",
              "      <td>Los Angeles</td>\n",
              "      <td>...</td>\n",
              "      <td>TEC-AC-10000158</td>\n",
              "      <td>Technology</td>\n",
              "      <td>Accessories</td>\n",
              "      <td>Sony 64GB Class 10 Micro SDHC R40 Memory Card</td>\n",
              "      <td>107.970</td>\n",
              "      <td>3</td>\n",
              "      <td>0.0</td>\n",
              "      <td>22.6737</td>\n",
              "      <td>11</td>\n",
              "      <td>-320 days</td>\n",
              "    </tr>\n",
              "    <tr>\n",
              "      <th>4338</th>\n",
              "      <td>4339</td>\n",
              "      <td>CA-2012-125234</td>\n",
              "      <td>2012-11-27</td>\n",
              "      <td>2012-01-12</td>\n",
              "      <td>Standard Class</td>\n",
              "      <td>SN-20710</td>\n",
              "      <td>Steve Nguyen</td>\n",
              "      <td>Home Office</td>\n",
              "      <td>United States</td>\n",
              "      <td>Los Angeles</td>\n",
              "      <td>...</td>\n",
              "      <td>OFF-PA-10000482</td>\n",
              "      <td>Office Supplies</td>\n",
              "      <td>Paper</td>\n",
              "      <td>Snap-A-Way Black Print Carbonless Ruled Speed ...</td>\n",
              "      <td>113.820</td>\n",
              "      <td>3</td>\n",
              "      <td>0.0</td>\n",
              "      <td>53.4954</td>\n",
              "      <td>11</td>\n",
              "      <td>-320 days</td>\n",
              "    </tr>\n",
              "    <tr>\n",
              "      <th>5192</th>\n",
              "      <td>5193</td>\n",
              "      <td>CA-2011-101560</td>\n",
              "      <td>2011-11-28</td>\n",
              "      <td>2011-01-12</td>\n",
              "      <td>Second Class</td>\n",
              "      <td>CS-12250</td>\n",
              "      <td>Chris Selesnick</td>\n",
              "      <td>Corporate</td>\n",
              "      <td>United States</td>\n",
              "      <td>Columbia</td>\n",
              "      <td>...</td>\n",
              "      <td>FUR-FU-10003773</td>\n",
              "      <td>Furniture</td>\n",
              "      <td>Furnishings</td>\n",
              "      <td>Eldon Cleatmat Plus Chair Mats for High Pile C...</td>\n",
              "      <td>397.600</td>\n",
              "      <td>5</td>\n",
              "      <td>0.0</td>\n",
              "      <td>43.7360</td>\n",
              "      <td>11</td>\n",
              "      <td>-320 days</td>\n",
              "    </tr>\n",
              "    <tr>\n",
              "      <th>5193</th>\n",
              "      <td>5194</td>\n",
              "      <td>CA-2011-101560</td>\n",
              "      <td>2011-11-28</td>\n",
              "      <td>2011-01-12</td>\n",
              "      <td>Second Class</td>\n",
              "      <td>CS-12250</td>\n",
              "      <td>Chris Selesnick</td>\n",
              "      <td>Corporate</td>\n",
              "      <td>United States</td>\n",
              "      <td>Columbia</td>\n",
              "      <td>...</td>\n",
              "      <td>OFF-PA-10001363</td>\n",
              "      <td>Office Supplies</td>\n",
              "      <td>Paper</td>\n",
              "      <td>Xerox 1933</td>\n",
              "      <td>85.960</td>\n",
              "      <td>7</td>\n",
              "      <td>0.0</td>\n",
              "      <td>40.4012</td>\n",
              "      <td>11</td>\n",
              "      <td>-320 days</td>\n",
              "    </tr>\n",
              "    <tr>\n",
              "      <th>5194</th>\n",
              "      <td>5195</td>\n",
              "      <td>CA-2011-101560</td>\n",
              "      <td>2011-11-28</td>\n",
              "      <td>2011-01-12</td>\n",
              "      <td>Second Class</td>\n",
              "      <td>CS-12250</td>\n",
              "      <td>Chris Selesnick</td>\n",
              "      <td>Corporate</td>\n",
              "      <td>United States</td>\n",
              "      <td>Columbia</td>\n",
              "      <td>...</td>\n",
              "      <td>OFF-AR-10004757</td>\n",
              "      <td>Office Supplies</td>\n",
              "      <td>Art</td>\n",
              "      <td>Crayola Colored Pencils</td>\n",
              "      <td>13.120</td>\n",
              "      <td>4</td>\n",
              "      <td>0.0</td>\n",
              "      <td>4.3296</td>\n",
              "      <td>11</td>\n",
              "      <td>-320 days</td>\n",
              "    </tr>\n",
              "    <tr>\n",
              "      <th>5195</th>\n",
              "      <td>5196</td>\n",
              "      <td>CA-2011-101560</td>\n",
              "      <td>2011-11-28</td>\n",
              "      <td>2011-01-12</td>\n",
              "      <td>Second Class</td>\n",
              "      <td>CS-12250</td>\n",
              "      <td>Chris Selesnick</td>\n",
              "      <td>Corporate</td>\n",
              "      <td>United States</td>\n",
              "      <td>Columbia</td>\n",
              "      <td>...</td>\n",
              "      <td>OFF-BI-10000309</td>\n",
              "      <td>Office Supplies</td>\n",
              "      <td>Binders</td>\n",
              "      <td>GBC Twin Loop Wire Binding Elements, 9/16\" Spi...</td>\n",
              "      <td>45.660</td>\n",
              "      <td>3</td>\n",
              "      <td>0.0</td>\n",
              "      <td>22.3734</td>\n",
              "      <td>11</td>\n",
              "      <td>-320 days</td>\n",
              "    </tr>\n",
              "    <tr>\n",
              "      <th>5548</th>\n",
              "      <td>5549</td>\n",
              "      <td>CA-2011-159800</td>\n",
              "      <td>2011-11-28</td>\n",
              "      <td>2011-01-12</td>\n",
              "      <td>First Class</td>\n",
              "      <td>SG-20470</td>\n",
              "      <td>Sheri Gordon</td>\n",
              "      <td>Consumer</td>\n",
              "      <td>United States</td>\n",
              "      <td>San Francisco</td>\n",
              "      <td>...</td>\n",
              "      <td>OFF-AP-10004859</td>\n",
              "      <td>Office Supplies</td>\n",
              "      <td>Appliances</td>\n",
              "      <td>Acco 6 Outlet Guardian Premium Surge Suppressor</td>\n",
              "      <td>43.680</td>\n",
              "      <td>3</td>\n",
              "      <td>0.0</td>\n",
              "      <td>11.7936</td>\n",
              "      <td>11</td>\n",
              "      <td>-320 days</td>\n",
              "    </tr>\n",
              "    <tr>\n",
              "      <th>5549</th>\n",
              "      <td>5550</td>\n",
              "      <td>CA-2011-159800</td>\n",
              "      <td>2011-11-28</td>\n",
              "      <td>2011-01-12</td>\n",
              "      <td>First Class</td>\n",
              "      <td>SG-20470</td>\n",
              "      <td>Sheri Gordon</td>\n",
              "      <td>Consumer</td>\n",
              "      <td>United States</td>\n",
              "      <td>San Francisco</td>\n",
              "      <td>...</td>\n",
              "      <td>TEC-AC-10003447</td>\n",
              "      <td>Technology</td>\n",
              "      <td>Accessories</td>\n",
              "      <td>Micropad Numeric Keypads</td>\n",
              "      <td>139.930</td>\n",
              "      <td>7</td>\n",
              "      <td>0.0</td>\n",
              "      <td>34.9825</td>\n",
              "      <td>11</td>\n",
              "      <td>-320 days</td>\n",
              "    </tr>\n",
              "    <tr>\n",
              "      <th>6637</th>\n",
              "      <td>6638</td>\n",
              "      <td>CA-2014-103352</td>\n",
              "      <td>2014-11-28</td>\n",
              "      <td>2014-01-12</td>\n",
              "      <td>Second Class</td>\n",
              "      <td>RP-19390</td>\n",
              "      <td>Resi Pölking</td>\n",
              "      <td>Consumer</td>\n",
              "      <td>United States</td>\n",
              "      <td>New York City</td>\n",
              "      <td>...</td>\n",
              "      <td>OFF-AR-10001573</td>\n",
              "      <td>Office Supplies</td>\n",
              "      <td>Art</td>\n",
              "      <td>American Pencil</td>\n",
              "      <td>6.990</td>\n",
              "      <td>3</td>\n",
              "      <td>0.0</td>\n",
              "      <td>2.0271</td>\n",
              "      <td>11</td>\n",
              "      <td>-320 days</td>\n",
              "    </tr>\n",
              "    <tr>\n",
              "      <th>6638</th>\n",
              "      <td>6639</td>\n",
              "      <td>CA-2014-103352</td>\n",
              "      <td>2014-11-28</td>\n",
              "      <td>2014-01-12</td>\n",
              "      <td>Second Class</td>\n",
              "      <td>RP-19390</td>\n",
              "      <td>Resi Pölking</td>\n",
              "      <td>Consumer</td>\n",
              "      <td>United States</td>\n",
              "      <td>New York City</td>\n",
              "      <td>...</td>\n",
              "      <td>OFF-BI-10001196</td>\n",
              "      <td>Office Supplies</td>\n",
              "      <td>Binders</td>\n",
              "      <td>Avery Flip-Chart Easel Binder, Black</td>\n",
              "      <td>107.424</td>\n",
              "      <td>6</td>\n",
              "      <td>0.2</td>\n",
              "      <td>36.2556</td>\n",
              "      <td>11</td>\n",
              "      <td>-320 days</td>\n",
              "    </tr>\n",
              "    <tr>\n",
              "      <th>9811</th>\n",
              "      <td>9812</td>\n",
              "      <td>CA-2013-117583</td>\n",
              "      <td>2013-11-28</td>\n",
              "      <td>2013-01-12</td>\n",
              "      <td>First Class</td>\n",
              "      <td>CB-12025</td>\n",
              "      <td>Cassandra Brandow</td>\n",
              "      <td>Consumer</td>\n",
              "      <td>United States</td>\n",
              "      <td>East Orange</td>\n",
              "      <td>...</td>\n",
              "      <td>OFF-PA-10001246</td>\n",
              "      <td>Office Supplies</td>\n",
              "      <td>Paper</td>\n",
              "      <td>Xerox 215</td>\n",
              "      <td>25.920</td>\n",
              "      <td>4</td>\n",
              "      <td>0.0</td>\n",
              "      <td>12.4416</td>\n",
              "      <td>11</td>\n",
              "      <td>-320 days</td>\n",
              "    </tr>\n",
              "    <tr>\n",
              "      <th>9812</th>\n",
              "      <td>9813</td>\n",
              "      <td>CA-2013-117583</td>\n",
              "      <td>2013-11-28</td>\n",
              "      <td>2013-01-12</td>\n",
              "      <td>First Class</td>\n",
              "      <td>CB-12025</td>\n",
              "      <td>Cassandra Brandow</td>\n",
              "      <td>Consumer</td>\n",
              "      <td>United States</td>\n",
              "      <td>East Orange</td>\n",
              "      <td>...</td>\n",
              "      <td>OFF-AR-10000658</td>\n",
              "      <td>Office Supplies</td>\n",
              "      <td>Art</td>\n",
              "      <td>Newell 324</td>\n",
              "      <td>34.650</td>\n",
              "      <td>3</td>\n",
              "      <td>0.0</td>\n",
              "      <td>9.7020</td>\n",
              "      <td>11</td>\n",
              "      <td>-320 days</td>\n",
              "    </tr>\n",
              "    <tr>\n",
              "      <th>9813</th>\n",
              "      <td>9814</td>\n",
              "      <td>CA-2013-117583</td>\n",
              "      <td>2013-11-28</td>\n",
              "      <td>2013-01-12</td>\n",
              "      <td>First Class</td>\n",
              "      <td>CB-12025</td>\n",
              "      <td>Cassandra Brandow</td>\n",
              "      <td>Consumer</td>\n",
              "      <td>United States</td>\n",
              "      <td>East Orange</td>\n",
              "      <td>...</td>\n",
              "      <td>OFF-PA-10000100</td>\n",
              "      <td>Office Supplies</td>\n",
              "      <td>Paper</td>\n",
              "      <td>Xerox 1945</td>\n",
              "      <td>204.950</td>\n",
              "      <td>5</td>\n",
              "      <td>0.0</td>\n",
              "      <td>100.4255</td>\n",
              "      <td>11</td>\n",
              "      <td>-320 days</td>\n",
              "    </tr>\n",
              "    <tr>\n",
              "      <th>9814</th>\n",
              "      <td>9815</td>\n",
              "      <td>CA-2013-117583</td>\n",
              "      <td>2013-11-28</td>\n",
              "      <td>2013-01-12</td>\n",
              "      <td>First Class</td>\n",
              "      <td>CB-12025</td>\n",
              "      <td>Cassandra Brandow</td>\n",
              "      <td>Consumer</td>\n",
              "      <td>United States</td>\n",
              "      <td>East Orange</td>\n",
              "      <td>...</td>\n",
              "      <td>OFF-BI-10004233</td>\n",
              "      <td>Office Supplies</td>\n",
              "      <td>Binders</td>\n",
              "      <td>GBC Pre-Punched Binding Paper, Plastic, White,...</td>\n",
              "      <td>79.950</td>\n",
              "      <td>5</td>\n",
              "      <td>0.0</td>\n",
              "      <td>38.3760</td>\n",
              "      <td>11</td>\n",
              "      <td>-320 days</td>\n",
              "    </tr>\n",
              "  </tbody>\n",
              "</table>\n",
              "<p>20 rows × 23 columns</p>\n",
              "</div>\n",
              "    <div class=\"colab-df-buttons\">\n",
              "\n",
              "  <div class=\"colab-df-container\">\n",
              "    <button class=\"colab-df-convert\" onclick=\"convertToInteractive('df-d8ba9ce8-befd-4b59-af5f-94a74e3a5d3f')\"\n",
              "            title=\"Convert this dataframe to an interactive table.\"\n",
              "            style=\"display:none;\">\n",
              "\n",
              "  <svg xmlns=\"http://www.w3.org/2000/svg\" height=\"24px\" viewBox=\"0 -960 960 960\">\n",
              "    <path d=\"M120-120v-720h720v720H120Zm60-500h600v-160H180v160Zm220 220h160v-160H400v160Zm0 220h160v-160H400v160ZM180-400h160v-160H180v160Zm440 0h160v-160H620v160ZM180-180h160v-160H180v160Zm440 0h160v-160H620v160Z\"/>\n",
              "  </svg>\n",
              "    </button>\n",
              "\n",
              "  <style>\n",
              "    .colab-df-container {\n",
              "      display:flex;\n",
              "      gap: 12px;\n",
              "    }\n",
              "\n",
              "    .colab-df-convert {\n",
              "      background-color: #E8F0FE;\n",
              "      border: none;\n",
              "      border-radius: 50%;\n",
              "      cursor: pointer;\n",
              "      display: none;\n",
              "      fill: #1967D2;\n",
              "      height: 32px;\n",
              "      padding: 0 0 0 0;\n",
              "      width: 32px;\n",
              "    }\n",
              "\n",
              "    .colab-df-convert:hover {\n",
              "      background-color: #E2EBFA;\n",
              "      box-shadow: 0px 1px 2px rgba(60, 64, 67, 0.3), 0px 1px 3px 1px rgba(60, 64, 67, 0.15);\n",
              "      fill: #174EA6;\n",
              "    }\n",
              "\n",
              "    .colab-df-buttons div {\n",
              "      margin-bottom: 4px;\n",
              "    }\n",
              "\n",
              "    [theme=dark] .colab-df-convert {\n",
              "      background-color: #3B4455;\n",
              "      fill: #D2E3FC;\n",
              "    }\n",
              "\n",
              "    [theme=dark] .colab-df-convert:hover {\n",
              "      background-color: #434B5C;\n",
              "      box-shadow: 0px 1px 3px 1px rgba(0, 0, 0, 0.15);\n",
              "      filter: drop-shadow(0px 1px 2px rgba(0, 0, 0, 0.3));\n",
              "      fill: #FFFFFF;\n",
              "    }\n",
              "  </style>\n",
              "\n",
              "    <script>\n",
              "      const buttonEl =\n",
              "        document.querySelector('#df-d8ba9ce8-befd-4b59-af5f-94a74e3a5d3f button.colab-df-convert');\n",
              "      buttonEl.style.display =\n",
              "        google.colab.kernel.accessAllowed ? 'block' : 'none';\n",
              "\n",
              "      async function convertToInteractive(key) {\n",
              "        const element = document.querySelector('#df-d8ba9ce8-befd-4b59-af5f-94a74e3a5d3f');\n",
              "        const dataTable =\n",
              "          await google.colab.kernel.invokeFunction('convertToInteractive',\n",
              "                                                    [key], {});\n",
              "        if (!dataTable) return;\n",
              "\n",
              "        const docLinkHtml = 'Like what you see? Visit the ' +\n",
              "          '<a target=\"_blank\" href=https://colab.research.google.com/notebooks/data_table.ipynb>data table notebook</a>'\n",
              "          + ' to learn more about interactive tables.';\n",
              "        element.innerHTML = '';\n",
              "        dataTable['output_type'] = 'display_data';\n",
              "        await google.colab.output.renderOutput(dataTable, element);\n",
              "        const docLink = document.createElement('div');\n",
              "        docLink.innerHTML = docLinkHtml;\n",
              "        element.appendChild(docLink);\n",
              "      }\n",
              "    </script>\n",
              "  </div>\n",
              "\n",
              "\n",
              "<div id=\"df-e76a2e12-85b5-4051-bb7e-473bbf685a5c\">\n",
              "  <button class=\"colab-df-quickchart\" onclick=\"quickchart('df-e76a2e12-85b5-4051-bb7e-473bbf685a5c')\"\n",
              "            title=\"Suggest charts.\"\n",
              "            style=\"display:none;\">\n",
              "\n",
              "<svg xmlns=\"http://www.w3.org/2000/svg\" height=\"24px\"viewBox=\"0 0 24 24\"\n",
              "     width=\"24px\">\n",
              "    <g>\n",
              "        <path d=\"M19 3H5c-1.1 0-2 .9-2 2v14c0 1.1.9 2 2 2h14c1.1 0 2-.9 2-2V5c0-1.1-.9-2-2-2zM9 17H7v-7h2v7zm4 0h-2V7h2v10zm4 0h-2v-4h2v4z\"/>\n",
              "    </g>\n",
              "</svg>\n",
              "  </button>\n",
              "\n",
              "<style>\n",
              "  .colab-df-quickchart {\n",
              "    background-color: #E8F0FE;\n",
              "    border: none;\n",
              "    border-radius: 50%;\n",
              "    cursor: pointer;\n",
              "    display: none;\n",
              "    fill: #1967D2;\n",
              "    height: 32px;\n",
              "    padding: 0 0 0 0;\n",
              "    width: 32px;\n",
              "  }\n",
              "\n",
              "  .colab-df-quickchart:hover {\n",
              "    background-color: #E2EBFA;\n",
              "    box-shadow: 0px 1px 2px rgba(60, 64, 67, 0.3), 0px 1px 3px 1px rgba(60, 64, 67, 0.15);\n",
              "    fill: #174EA6;\n",
              "  }\n",
              "\n",
              "  [theme=dark] .colab-df-quickchart {\n",
              "    background-color: #3B4455;\n",
              "    fill: #D2E3FC;\n",
              "  }\n",
              "\n",
              "  [theme=dark] .colab-df-quickchart:hover {\n",
              "    background-color: #434B5C;\n",
              "    box-shadow: 0px 1px 3px 1px rgba(0, 0, 0, 0.15);\n",
              "    filter: drop-shadow(0px 1px 2px rgba(0, 0, 0, 0.3));\n",
              "    fill: #FFFFFF;\n",
              "  }\n",
              "</style>\n",
              "\n",
              "  <script>\n",
              "    async function quickchart(key) {\n",
              "      const charts = await google.colab.kernel.invokeFunction(\n",
              "          'suggestCharts', [key], {});\n",
              "    }\n",
              "    (() => {\n",
              "      let quickchartButtonEl =\n",
              "        document.querySelector('#df-e76a2e12-85b5-4051-bb7e-473bbf685a5c button');\n",
              "      quickchartButtonEl.style.display =\n",
              "        google.colab.kernel.accessAllowed ? 'block' : 'none';\n",
              "    })();\n",
              "  </script>\n",
              "</div>\n",
              "    </div>\n",
              "  </div>\n"
            ]
          },
          "metadata": {},
          "execution_count": 53
        }
      ],
      "source": [
        "from datetime import timedelta\n",
        "ss[ss['delivery time'] == timedelta(days=-320)]"
      ]
    },
    {
      "cell_type": "code",
      "execution_count": null,
      "metadata": {
        "id": "zqYbpy4zJvxC",
        "outputId": "058a7be6-3de6-456c-ddae-4ec614afa876",
        "colab": {
          "base_uri": "https://localhost:8080/"
        }
      },
      "outputs": [
        {
          "output_type": "stream",
          "name": "stderr",
          "text": [
            "/usr/local/lib/python3.10/dist-packages/ipykernel/ipkernel.py:283: DeprecationWarning: `should_run_async` will not call `transform_cell` automatically in the future. Please pass the result to `transformed_cell` argument and any exception that happen during thetransform in `preprocessing_exc_tuple` in IPython 7.17 and above.\n",
            "  and should_run_async(code)\n"
          ]
        },
        {
          "output_type": "execute_result",
          "data": {
            "text/plain": [
              "count    9994.000000\n",
              "mean       60.166900\n",
              "std        75.469705\n",
              "min         0.000000\n",
              "25%         4.000000\n",
              "50%         7.000000\n",
              "75%       120.000000\n",
              "max       320.000000\n",
              "Name: delivery time, dtype: float64"
            ]
          },
          "metadata": {},
          "execution_count": 54
        }
      ],
      "source": [
        "ss['delivery time'] = ss['delivery time'].abs() / np.timedelta64(1, 'D')\n",
        "ss['delivery time'].describe()"
      ]
    },
    {
      "cell_type": "code",
      "source": [
        "ss['Order Date'].min()"
      ],
      "metadata": {
        "id": "O2kqa8NCiEXH",
        "outputId": "5113eadd-b677-4b4b-e3c3-110a136e64ce",
        "colab": {
          "base_uri": "https://localhost:8080/"
        }
      },
      "execution_count": null,
      "outputs": [
        {
          "output_type": "stream",
          "name": "stderr",
          "text": [
            "/usr/local/lib/python3.10/dist-packages/ipykernel/ipkernel.py:283: DeprecationWarning: `should_run_async` will not call `transform_cell` automatically in the future. Please pass the result to `transformed_cell` argument and any exception that happen during thetransform in `preprocessing_exc_tuple` in IPython 7.17 and above.\n",
            "  and should_run_async(code)\n"
          ]
        },
        {
          "output_type": "execute_result",
          "data": {
            "text/plain": [
              "Timestamp('2011-01-02 00:00:00')"
            ]
          },
          "metadata": {},
          "execution_count": 55
        }
      ]
    },
    {
      "cell_type": "code",
      "source": [
        "ss['Order Date'].max()"
      ],
      "metadata": {
        "id": "1YRKEjPTls-V",
        "outputId": "9eba16f0-ea7b-41b3-a859-2173ac552c80",
        "colab": {
          "base_uri": "https://localhost:8080/"
        }
      },
      "execution_count": null,
      "outputs": [
        {
          "output_type": "stream",
          "name": "stderr",
          "text": [
            "/usr/local/lib/python3.10/dist-packages/ipykernel/ipkernel.py:283: DeprecationWarning: `should_run_async` will not call `transform_cell` automatically in the future. Please pass the result to `transformed_cell` argument and any exception that happen during thetransform in `preprocessing_exc_tuple` in IPython 7.17 and above.\n",
            "  and should_run_async(code)\n"
          ]
        },
        {
          "output_type": "execute_result",
          "data": {
            "text/plain": [
              "Timestamp('2014-12-31 00:00:00')"
            ]
          },
          "metadata": {},
          "execution_count": 56
        }
      ]
    },
    {
      "cell_type": "code",
      "source": [
        "ss['Ship Date'].min()"
      ],
      "metadata": {
        "id": "TV1ayQL4lwrx",
        "outputId": "70079cc1-a684-4764-b6f8-a5530befadd7",
        "colab": {
          "base_uri": "https://localhost:8080/"
        }
      },
      "execution_count": null,
      "outputs": [
        {
          "output_type": "stream",
          "name": "stderr",
          "text": [
            "/usr/local/lib/python3.10/dist-packages/ipykernel/ipkernel.py:283: DeprecationWarning: `should_run_async` will not call `transform_cell` automatically in the future. Please pass the result to `transformed_cell` argument and any exception that happen during thetransform in `preprocessing_exc_tuple` in IPython 7.17 and above.\n",
            "  and should_run_async(code)\n"
          ]
        },
        {
          "output_type": "execute_result",
          "data": {
            "text/plain": [
              "Timestamp('2011-01-02 00:00:00')"
            ]
          },
          "metadata": {},
          "execution_count": 57
        }
      ]
    },
    {
      "cell_type": "code",
      "source": [
        "ss['Ship Date'].max()"
      ],
      "metadata": {
        "id": "h-CLnIU0mxI1",
        "outputId": "10df4011-19fd-4bfb-cf84-8403b3ac93d0",
        "colab": {
          "base_uri": "https://localhost:8080/"
        }
      },
      "execution_count": null,
      "outputs": [
        {
          "output_type": "stream",
          "name": "stderr",
          "text": [
            "/usr/local/lib/python3.10/dist-packages/ipykernel/ipkernel.py:283: DeprecationWarning: `should_run_async` will not call `transform_cell` automatically in the future. Please pass the result to `transformed_cell` argument and any exception that happen during thetransform in `preprocessing_exc_tuple` in IPython 7.17 and above.\n",
            "  and should_run_async(code)\n"
          ]
        },
        {
          "output_type": "execute_result",
          "data": {
            "text/plain": [
              "Timestamp('2015-06-01 00:00:00')"
            ]
          },
          "metadata": {},
          "execution_count": 58
        }
      ]
    },
    {
      "cell_type": "code",
      "source": [
        "Segment_Del = ss.groupby(\"Segment\")[\"delivery time\"].mean().to_frame().reset_index()\n",
        "plt.figure(figsize=(12,6))\n",
        "plt.bar(Segment_Del['Segment'],Segment_Del['delivery time'])\n",
        "plt.xlabel('Segment')\n",
        "plt.ylabel('Delivery Time (Days)')\n",
        "plt.title('Bar Chart: Segment vs. Delivery Time')\n",
        "for index, value in enumerate(Segment_Del['delivery time']):\n",
        "    plt.text(index, value, f'{value:.2f}', ha='center', va='bottom', fontsize=10)\n",
        "plt.show()"
      ],
      "metadata": {
        "id": "irS1UHe8zRXD",
        "outputId": "7c3cba18-c62e-41bf-d691-1f2715fea56d",
        "colab": {
          "base_uri": "https://localhost:8080/",
          "height": 619
        }
      },
      "execution_count": null,
      "outputs": [
        {
          "output_type": "stream",
          "name": "stderr",
          "text": [
            "/usr/local/lib/python3.10/dist-packages/ipykernel/ipkernel.py:283: DeprecationWarning: `should_run_async` will not call `transform_cell` automatically in the future. Please pass the result to `transformed_cell` argument and any exception that happen during thetransform in `preprocessing_exc_tuple` in IPython 7.17 and above.\n",
            "  and should_run_async(code)\n"
          ]
        },
        {
          "output_type": "display_data",
          "data": {
            "text/plain": [
              "<Figure size 1200x600 with 1 Axes>"
            ],
            "image/png": "[encoded data removed]"
          },
          "metadata": {}
        }
      ]
    },
    {
      "cell_type": "code",
      "source": [
        "Segment_Del = ss.groupby(\"Ship Mode\")[\"delivery time\"].mean().to_frame().reset_index()\n",
        "plt.figure(figsize=(12,6))\n",
        "plt.bar(Segment_Del['Ship Mode'], Segment_Del['delivery time'])\n",
        "plt.xlabel('Ship Mode')\n",
        "plt.ylabel('Delivery Time (Days)')\n",
        "plt.title('Bar Chart: Ship Mode vs. Delivery Time')\n",
        "for index, value in enumerate(Segment_Del['delivery time']):\n",
        "    plt.text(index, value, f'{value:.2f}', ha='center', va='bottom', fontsize=10)\n",
        "plt.show()"
      ],
      "metadata": {
        "id": "H7xr9S0t5bNI",
        "outputId": "3763b96e-e820-4a02-fb20-561717397b46",
        "colab": {
          "base_uri": "https://localhost:8080/",
          "height": 619
        }
      },
      "execution_count": null,
      "outputs": [
        {
          "output_type": "stream",
          "name": "stderr",
          "text": [
            "/usr/local/lib/python3.10/dist-packages/ipykernel/ipkernel.py:283: DeprecationWarning: `should_run_async` will not call `transform_cell` automatically in the future. Please pass the result to `transformed_cell` argument and any exception that happen during thetransform in `preprocessing_exc_tuple` in IPython 7.17 and above.\n",
            "  and should_run_async(code)\n"
          ]
        },
        {
          "output_type": "display_data",
          "data": {
            "text/plain": [
              "<Figure size 1200x600 with 1 Axes>"
            ],
            "image/png": "[encoded data removed]"
          },
          "metadata": {}
        }
      ]
    },
    {
      "cell_type": "code",
      "source": [
        "ss.info()"
      ],
      "metadata": {
        "id": "ysRLadGX-gdz",
        "outputId": "44fabf28-f0fa-4700-da1a-60552bb894b2",
        "colab": {
          "base_uri": "https://localhost:8080/"
        }
      },
      "execution_count": null,
      "outputs": [
        {
          "output_type": "stream",
          "name": "stdout",
          "text": [
            "<class 'pandas.core.frame.DataFrame'>\n",
            "RangeIndex: 9994 entries, 0 to 9993\n",
            "Data columns (total 23 columns):\n",
            " #   Column         Non-Null Count  Dtype         \n",
            "---  ------         --------------  -----         \n",
            " 0   Row ID         9994 non-null   int64         \n",
            " 1   Order ID       9994 non-null   object        \n",
            " 2   Order Date     9994 non-null   datetime64[ns]\n",
            " 3   Ship Date      9994 non-null   datetime64[ns]\n",
            " 4   Ship Mode      9994 non-null   object        \n",
            " 5   Customer ID    9994 non-null   object        \n",
            " 6   Customer Name  9994 non-null   object        \n",
            " 7   Segment        9994 non-null   object        \n",
            " 8   Country        9994 non-null   object        \n",
            " 9   City           9994 non-null   object        \n",
            " 10  State          9994 non-null   object        \n",
            " 11  Postal Code    9994 non-null   int64         \n",
            " 12  Region         9994 non-null   object        \n",
            " 13  Product ID     9994 non-null   object        \n",
            " 14  Category       9994 non-null   object        \n",
            " 15  Sub-Category   9994 non-null   object        \n",
            " 16  Product Name   9994 non-null   object        \n",
            " 17  Sales          9994 non-null   float64       \n",
            " 18  Quantity       9994 non-null   int64         \n",
            " 19  Discount       9994 non-null   float64       \n",
            " 20  Profit         9994 non-null   float64       \n",
            " 21  Order Month    9994 non-null   int64         \n",
            " 22  delivery time  9994 non-null   float64       \n",
            "dtypes: datetime64[ns](2), float64(4), int64(4), object(13)\n",
            "memory usage: 1.8+ MB\n"
          ]
        },
        {
          "output_type": "stream",
          "name": "stderr",
          "text": [
            "/usr/local/lib/python3.10/dist-packages/ipykernel/ipkernel.py:283: DeprecationWarning: `should_run_async` will not call `transform_cell` automatically in the future. Please pass the result to `transformed_cell` argument and any exception that happen during thetransform in `preprocessing_exc_tuple` in IPython 7.17 and above.\n",
            "  and should_run_async(code)\n"
          ]
        }
      ]
    },
    {
      "cell_type": "code",
      "source": [
        "Segment_Del = ss.groupby(\"Region\")[\"delivery time\"].mean().to_frame().reset_index()\n",
        "plt.figure(figsize=(12,6))\n",
        "plt.bar(Segment_Del['Region'], Segment_Del['delivery time'])\n",
        "plt.xlabel('Region')\n",
        "plt.ylabel('Delivery Time (Days)')\n",
        "plt.title('Bar Chart: Region vs. Delivery Time')\n",
        "for index, value in enumerate(Segment_Del['delivery time']):\n",
        "    plt.text(index, value, f'{value:.2f}', ha='center', va='bottom', fontsize=10)\n",
        "plt.show()"
      ],
      "metadata": {
        "id": "uwtJY76cHuFa",
        "outputId": "f8d6c870-f2d9-40e1-9250-d857d51ff3e6",
        "colab": {
          "base_uri": "https://localhost:8080/",
          "height": 619
        }
      },
      "execution_count": null,
      "outputs": [
        {
          "output_type": "stream",
          "name": "stderr",
          "text": [
            "/usr/local/lib/python3.10/dist-packages/ipykernel/ipkernel.py:283: DeprecationWarning: `should_run_async` will not call `transform_cell` automatically in the future. Please pass the result to `transformed_cell` argument and any exception that happen during thetransform in `preprocessing_exc_tuple` in IPython 7.17 and above.\n",
            "  and should_run_async(code)\n"
          ]
        },
        {
          "output_type": "display_data",
          "data": {
            "text/plain": [
              "<Figure size 1200x600 with 1 Axes>"
            ],
            "image/png": "[encoded data removed]"
          },
          "metadata": {}
        }
      ]
    },
    {
      "cell_type": "code",
      "source": [
        "Segment_Del = ss.groupby(\"City\")[\"delivery time\"].mean().to_frame().reset_index().sort_values(by=[\"delivery time\"],ascending=False).head()\n",
        "plt.figure(figsize=(12,6))\n",
        "plt.bar(Segment_Del['City'], Segment_Del['delivery time'])\n",
        "plt.xlabel('City')\n",
        "plt.ylabel('Delivery Time (Days)')\n",
        "plt.title('Bar Chart: City vs. Delivery Time')\n",
        "for index, value in enumerate(Segment_Del['delivery time']):\n",
        "    plt.text(index, value, f'{value:.2f}', ha='center', va='bottom', fontsize=10)\n",
        "plt.show()"
      ],
      "metadata": {
        "id": "MZ0ay-nwD52h",
        "outputId": "e3c55607-1343-4e60-e379-c04501acc2af",
        "colab": {
          "base_uri": "https://localhost:8080/",
          "height": 619
        }
      },
      "execution_count": null,
      "outputs": [
        {
          "output_type": "stream",
          "name": "stderr",
          "text": [
            "/usr/local/lib/python3.10/dist-packages/ipykernel/ipkernel.py:283: DeprecationWarning: `should_run_async` will not call `transform_cell` automatically in the future. Please pass the result to `transformed_cell` argument and any exception that happen during thetransform in `preprocessing_exc_tuple` in IPython 7.17 and above.\n",
            "  and should_run_async(code)\n"
          ]
        },
        {
          "output_type": "display_data",
          "data": {
            "text/plain": [
              "<Figure size 1200x600 with 1 Axes>"
            ],
            "image/png": "[encoded data removed]"
          },
          "metadata": {}
        }
      ]
    },
    {
      "cell_type": "code",
      "source": [
        "Segment_Del = ss.groupby(\"City\")[\"delivery time\"].mean().to_frame().reset_index().sort_values(by=[\"delivery time\"],ascending=True).head(10)\n",
        "plt.figure(figsize=(12,6))\n",
        "plt.bar(Segment_Del['City'], Segment_Del['delivery time'])\n",
        "plt.xlabel('City')\n",
        "plt.ylabel('Delivery Time (Days)')\n",
        "plt.title('Bar Chart: City vs. Delivery Time')\n",
        "for index, value in enumerate(Segment_Del['delivery time']):\n",
        "    plt.text(index, value, f'{value:.2f}', ha='center', va='bottom', fontsize=10)\n",
        "plt.show()"
      ],
      "metadata": {
        "id": "sAUVQR6TEb71",
        "outputId": "d2660a55-cacd-4e95-9969-9a581c523ec7",
        "colab": {
          "base_uri": "https://localhost:8080/",
          "height": 619
        }
      },
      "execution_count": null,
      "outputs": [
        {
          "output_type": "stream",
          "name": "stderr",
          "text": [
            "/usr/local/lib/python3.10/dist-packages/ipykernel/ipkernel.py:283: DeprecationWarning: `should_run_async` will not call `transform_cell` automatically in the future. Please pass the result to `transformed_cell` argument and any exception that happen during thetransform in `preprocessing_exc_tuple` in IPython 7.17 and above.\n",
            "  and should_run_async(code)\n"
          ]
        },
        {
          "output_type": "display_data",
          "data": {
            "text/plain": [
              "<Figure size 1200x600 with 1 Axes>"
            ],
            "image/png": "[encoded data removed]"
          },
          "metadata": {}
        }
      ]
    },
    {
      "cell_type": "code",
      "source": [],
      "metadata": {
        "id": "E6WCJ6icEvpF",
        "outputId": "187c0925-e6e2-4830-f7d3-d8d5813bcea7",
        "colab": {
          "base_uri": "https://localhost:8080/"
        }
      },
      "execution_count": null,
      "outputs": [
        {
          "output_type": "stream",
          "name": "stderr",
          "text": [
            "/usr/local/lib/python3.10/dist-packages/ipykernel/ipkernel.py:283: DeprecationWarning: `should_run_async` will not call `transform_cell` automatically in the future. Please pass the result to `transformed_cell` argument and any exception that happen during thetransform in `preprocessing_exc_tuple` in IPython 7.17 and above.\n",
            "  and should_run_async(code)\n"
          ]
        }
      ]
    },
    {
      "cell_type": "markdown",
      "source": [
        "Sales and Demand Metrics:\n",
        "\n",
        "**Total Sales**: Monitor the overall revenue generated by the superstore.\n",
        "Sales by Product Category: Analyze sales performance across different product categories (e.g., electronics, clothing, furniture).\n",
        "Sales by Location: Compare sales data across different store locations.\n",
        "Sales Trends: Identify seasonal patterns and trends in sales to optimize inventory and staffing.\n",
        "Inventory Metrics:\n",
        "\n",
        "**Inventory Turnover**: Calculate how quickly products are sold and replaced on the shelves.\n",
        "Stockout Rate: Measure the percentage of times a product is out of stock when a customer wants to purchase it.\n",
        "Days of Inventory on Hand (DOI): Determine the average number of days inventory is held before being sold.\n",
        "Slow-Moving and Obsolete Inventory: Identify products that are not selling well or are outdated, as they tie up capital and storage space.\n",
        "Supplier Metrics:\n",
        "\n",
        "**Supplier Performance**: Evaluate the reliability, quality, and timeliness of product deliveries from different suppliers.\n",
        "Supplier Lead Time: Analyze the time it takes for products to be delivered after an order is placed.\n",
        "Customer Metrics:\n",
        "\n",
        "**Customer Satisfaction**: Use feedback surveys or ratings to gauge customer satisfaction with the store's products and services.\n",
        "Customer Loyalty: Measure repeat purchases and customer retention rates.\n",
        "Average Transaction Value: Calculate the average amount spent by each customer per transaction.\n",
        "Operational Metrics:\n",
        "\n",
        "**Order Fulfillment Time**: Measure the time it takes to process an order from placement to delivery.\n",
        "Return Rate: Evaluate the percentage of products that are returned by customers due to defects, dissatisfaction, or other reasons.\n",
        "Store Shelf Replenishment: Analyze how quickly products are restocked on the store shelves to prevent stockouts.\n",
        "Store Performance Metrics:\n",
        "\n",
        "**Store Traffic**: Measure foot traffic in the store to understand peak hours and days.\n",
        "**Conversion Rate**: Calculate the percentage of store visitors who make a purchase.\n",
        "Average Checkout Time: Assess the time customers spend waiting in line to check out.\n",
        "Promotion and Marketing Metrics:\n",
        "\n",
        "**Effectiveness of Promotions**: Analyze the impact of marketing campaigns and promotions on sales.\n",
        "Coupon Redemption Rate: Measure how often customers use coupons or discounts.\n",
        "Profitability Metrics:\n",
        "\n",
        "**Gross Margin**: Calculate the difference between revenue and the cost of goods sold, expressed as a percentage.\n",
        "**Net Profit**: Assess the overall profitability of the store after deducting all expenses"
      ],
      "metadata": {
        "id": "I0H5EuddMIw3"
      }
    },
    {
      "cell_type": "code",
      "source": [],
      "metadata": {
        "id": "uKla-_AIMadL",
        "outputId": "2e1f78be-b6c0-483e-93ce-3ac6236d9247",
        "colab": {
          "base_uri": "https://localhost:8080/"
        }
      },
      "execution_count": null,
      "outputs": [
        {
          "output_type": "stream",
          "name": "stderr",
          "text": [
            "/usr/local/lib/python3.10/dist-packages/ipykernel/ipkernel.py:283: DeprecationWarning: `should_run_async` will not call `transform_cell` automatically in the future. Please pass the result to `transformed_cell` argument and any exception that happen during thetransform in `preprocessing_exc_tuple` in IPython 7.17 and above.\n",
            "  and should_run_async(code)\n"
          ]
        }
      ]
    }
  ],
  "metadata": {
    "kernelspec": {
      "display_name": "Python 3",
      "language": "python",
      "name": "python3"
    },
    "language_info": {
      "codemirror_mode": {
        "name": "ipython",
        "version": 3
      },
      "file_extension": ".py",
      "mimetype": "text/x-python",
      "name": "python",
      "nbconvert_exporter": "python",
      "pygments_lexer": "ipython3",
      "version": "3.8.3"
    },
    "colab": {
      "provenance": []
    }
  },
  "nbformat": 4,
  "nbformat_minor": 0
}